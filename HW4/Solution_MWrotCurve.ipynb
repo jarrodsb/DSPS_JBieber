{
  "nbformat": 4,
  "nbformat_minor": 0,
  "metadata": {
    "kernelspec": {
      "display_name": "Python 3",
      "language": "python",
      "name": "python3"
    },
    "language_info": {
      "codemirror_mode": {
        "name": "ipython",
        "version": 3
      },
      "file_extension": ".py",
      "mimetype": "text/x-python",
      "name": "python",
      "nbconvert_exporter": "python",
      "pygments_lexer": "ipython3",
      "version": "3.6.7"
    },
    "nbTranslate": {
      "displayLangs": [
        "*"
      ],
      "hotkey": "alt-t",
      "langInMainMenu": true,
      "sourceLang": "en",
      "targetLang": "fr",
      "useGoogleTranslate": true
    },
    "toc": {
      "base_numbering": 1,
      "colors": {
        "hover_highlight": "#DAA520",
        "running_highlight": "#FF0000",
        "selected_highlight": "#FFD700"
      },
      "moveMenuLeft": true,
      "nav_menu": {},
      "navigate_menu": true,
      "number_sections": true,
      "sideBar": true,
      "skip_h1_title": false,
      "threshold": 4,
      "title_cell": "Table of Contents",
      "title_sidebar": "Contents",
      "toc_cell": false,
      "toc_position": {
        "height": "calc(100% - 180px)",
        "left": "10px",
        "top": "150px",
        "width": "165px"
      },
      "toc_section_display": true,
      "toc_window_display": true
    },
    "colab": {
      "provenance": [],
      "collapsed_sections": [
        "6me5k4c1OdDY"
      ],
      "include_colab_link": true
    }
  },
  "cells": [
    {
      "cell_type": "markdown",
      "metadata": {
        "id": "view-in-github",
        "colab_type": "text"
      },
      "source": [
        "<a href=\"https://colab.research.google.com/github/jarrodsb/DSPS_JBieber/blob/main/HW4/Bieber_MWrotCurve.ipynb\" target=\"_parent\"><img src=\"https://colab.research.google.com/assets/colab-badge.svg\" alt=\"Open In Colab\"/></a>"
      ]
    },
    {
      "cell_type": "markdown",
      "source": [
        "# Jarrod Bieber - PHYS 461 Homework 4\n",
        "\n",
        "---\n",
        "\n"
      ],
      "metadata": {
        "id": "Ote7WizaiTn4"
      }
    },
    {
      "cell_type": "markdown",
      "metadata": {
        "run_control": {
          "frozen": false,
          "read_only": false
        },
        "id": "rxa6Xa3jOdCI"
      },
      "source": [
        "prepared by federica b bianco @fedhere\n",
        "for UDel DSPS PHYS 461/661\n",
        "\n",
        "# testing the \"significance\" of Dark Matter"
      ]
    },
    {
      "cell_type": "code",
      "metadata": {
        "ExecuteTime": {
          "end_time": "2019-09-16T17:54:57.244596Z",
          "start_time": "2019-09-16T17:54:57.231090Z"
        },
        "run_control": {
          "frozen": false,
          "read_only": false
        },
        "id": "Ya2RaOGbOdCJ"
      },
      "source": [
        "...\n",
        "\n",
        "#package I will use for constants and units conversion\n",
        "import astropy\n",
        "from astropy.constants import G\n",
        "\n",
        "#package used to display latex formulae\n",
        "from IPython.display import Latex\n",
        "\n",
        "# Jarrod's Imports\n",
        "import pandas as pd\n",
        "import numpy as np\n",
        "from textwrap import wrap\n",
        "import matplotlib.pyplot as plt\n",
        "from astropy import units as u\n"
      ],
      "execution_count": 358,
      "outputs": []
    },
    {
      "cell_type": "markdown",
      "metadata": {
        "id": "4qp8A2TG1Gwb"
      },
      "source": [
        "In 1970 Vera Rubin published a seminal paper: she measured the rotational speed of HII regions in several galaxies and how it changed as a function of distance to the center of the galaxy. If we believe Newtonian gravity (or GR for that matter) we expect that _once all of the mass is included_, i.e. at a radius distance from the center of the galaxy larger than the radius of the galaxy itself, the rotational speed will be proportional to $v^2\\propto\\frac{1}{r}$\n",
        "\n",
        "You will use astropy in this exercise, a popular and powerfull package for astrophysical analysis in python. One of the most interesting and unique characteristics of astropy is that it allows treatment of units. When you have a quantity (say `x=3`) in python you can express it with the appropriate units (say meters) as `x=3 * u.meter`"
      ]
    },
    {
      "cell_type": "code",
      "source": [
        "#example\n",
        "x = 3\n",
        "x"
      ],
      "metadata": {
        "id": "hxiNEw-B_1IS",
        "outputId": "303b14f9-ff9e-431f-bedc-3860c2d31384",
        "colab": {
          "base_uri": "https://localhost:8080/"
        }
      },
      "execution_count": 359,
      "outputs": [
        {
          "output_type": "execute_result",
          "data": {
            "text/plain": [
              "3"
            ]
          },
          "metadata": {},
          "execution_count": 359
        }
      ]
    },
    {
      "cell_type": "code",
      "source": [
        "# note : by PEP8 standards the import should be at the top, I leave it here for hyou to see that I am using astropy.units now for visibility. Please move it to the top cell\n",
        "from astropy import units as u\n",
        "x_in_m = x * u.meter\n",
        "x_in_m"
      ],
      "metadata": {
        "id": "UEyApnDPAH0s",
        "outputId": "e30292b5-9820-47d7-880b-c87d154355e3",
        "colab": {
          "base_uri": "https://localhost:8080/",
          "height": 37
        }
      },
      "execution_count": 360,
      "outputs": [
        {
          "output_type": "execute_result",
          "data": {
            "text/plain": [
              "<Quantity 3. m>"
            ],
            "text/latex": "$3 \\; \\mathrm{m}$"
          },
          "metadata": {},
          "execution_count": 360
        }
      ]
    },
    {
      "cell_type": "markdown",
      "source": [
        "once the quantities have units they can be converted with astropy methods: e.g."
      ],
      "metadata": {
        "id": "Q4E5uRybAcjF"
      }
    },
    {
      "cell_type": "code",
      "source": [
        "x_in_km = x_in_m.to(u.kilometer)\n",
        "x_in_km"
      ],
      "metadata": {
        "id": "e0V9u5kRAgML",
        "outputId": "92d87dd6-2386-4f2e-fcd4-de3d14fcacd7",
        "colab": {
          "base_uri": "https://localhost:8080/",
          "height": 37
        }
      },
      "execution_count": 361,
      "outputs": [
        {
          "output_type": "execute_result",
          "data": {
            "text/plain": [
              "<Quantity 0.003 km>"
            ],
            "text/latex": "$0.003 \\; \\mathrm{km}$"
          },
          "metadata": {},
          "execution_count": 361
        }
      ]
    },
    {
      "cell_type": "markdown",
      "metadata": {
        "run_control": {
          "frozen": false,
          "read_only": false
        },
        "id": "j-BDrNseOdCR"
      },
      "source": [
        "## Propagation of  uncertainties rules\n",
        "\n",
        "below are the basic rules for propagation of uncertainties - use [this as reference](https://github.com/fedhere/DSPS/blob/master/resources/Managing%20Errors%20and%20Uncertainty.pdf)"
      ]
    },
    {
      "cell_type": "markdown",
      "metadata": {
        "id": "4LnLCwYpPYSv"
      },
      "source": []
    },
    {
      "cell_type": "markdown",
      "metadata": {
        "id": "iCrFipBzOzqp"
      },
      "source": [
        "\n",
        "\n",
        "\n",
        "$$\n",
        "\\begin{eqnarray}\n",
        "z = x  \\pm y  ~| & ~  &dz = \\sqrt{dx^2 + dy^2}\n",
        "\\\\\n",
        "z = x * y  ~| & ~& dz = |xy|  \\sqrt{\\left(\\frac{dx}{x}\\right)^2 +\n",
        "                                \\left(\\frac{dy}{y}\\right)^2} \\\\\n",
        "z = x / y  ~| & ~& dz = \\left|\\frac{x}{y}\\right| \\sqrt{\\left(\\frac{dx}{x}\\right)^2 +\n",
        "                                                   \\left(\\frac{dy}{y}\\right)^2} \\\\\n",
        "z = x^n ~| & ~& dz = |n| ~ x^{n-1}  dx \\\\\n",
        "z = \\mathrm{c}x ~| & ~& dz = |\\mathrm{c}| ~dx \\\\\n",
        "z = f(x, y) ~| & ~& dz = \\sqrt{\\left(\\frac{\\partial f}{\\partial x}\\right)^2 dx^2 +\\left(\\frac{\\partial f}{\\partial y}\\right)^2 dy^2} \\\\\n",
        "\\end{eqnarray}\n",
        "$$\n"
      ]
    },
    {
      "cell_type": "markdown",
      "metadata": {
        "run_control": {
          "frozen": false,
          "read_only": false
        },
        "id": "WcF0zlWCOdCX"
      },
      "source": [
        "# let's assume a Newtonian framework:\n",
        "the velocity of a body in orbit depends only on the gravitational field of the mass that attracts it, and we can assume that mass is concentrated in the center of mass  (the geometric center for simplicity) of the system\n",
        "\n",
        "with G the gravitational constant, $r$ the radius, and $m(r)$ the mass contained within that radius we have the orbital velocity $v$:\n"
      ]
    },
    {
      "cell_type": "markdown",
      "metadata": {
        "id": "ZON0DKl5Qm2S"
      },
      "source": [
        "\n",
        "$v^2 = \\frac{G \\cdot m(r)}{r}$\n"
      ]
    },
    {
      "cell_type": "markdown",
      "metadata": {
        "id": "lVfy9lJ21xMT"
      },
      "source": [
        "Assignment: Derive this $v^2 \\propto\\frac{1}{r}$ at different distances from the center of the Galaxy for M31 and the Milky Way from Newron's law $F~=~\\frac{GMm}{r^2}$.\n",
        "\n",
        "Write each formula you use and describe each step in text cells within this notebook.\n",
        "\n",
        "You can use latex to write the formulate(you really just need to know ```\\frac{}``` for the fractions and ```^``` for the powers) and this reference\n",
        "https://www.physicsclassroom.com/calcpad/circgrav"
      ]
    },
    {
      "cell_type": "markdown",
      "metadata": {
        "run_control": {
          "frozen": false,
          "read_only": false
        },
        "id": "KQAEJtWuOdCb"
      },
      "source": [
        "\n",
        "---\n",
        "\n",
        "\n",
        "## M31 rotational curve\n",
        "\n",
        "---\n",
        "\n"
      ]
    },
    {
      "cell_type": "markdown",
      "metadata": {
        "ExecuteTime": {
          "end_time": "2019-08-02T01:34:15.029084Z",
          "start_time": "2019-08-02T01:34:15.026604Z"
        },
        "run_control": {
          "frozen": false,
          "read_only": false
        },
        "id": "BTaXzFYeOdCc"
      },
      "source": [
        "### data ingestion\n",
        "Orignal data in https://academic.oup.com/pasj/article-abstract/67/4/75/1536635?redirectedFrom=fulltext&login=false but I converted it to csv already for you\n",
        "\n",
        "Get the data from the github repository https://github.com/fedhere/DSPS_FBianco/tree/master/HW4 : there are 2 files: mw.csv for the Millky Way and m31.csv for M31,the Andromeda galaxy. Start with M31,  Vera Rubin's original target."
      ]
    },
    {
      "cell_type": "markdown",
      "metadata": {
        "id": "_iFrkUYEV1SS"
      },
      "source": [
        "Note that the data contains 2 types of uncertainties: one significantly smaller than the other. The ```dv``` uncertainty derived by propagating the uncertainty in the measured  wavelength of the HII line. The uncertainty called ```err``` is the remaining error budget. To include all sources combine in quadrature the uncertiainties `dv` and `err` and call that `err_tot` including _all_ sources of uncertainty and not just the uncertainty in measuring the location of the line. Retain both, you will test your hypothesis with each one to see if it matters which uncertainty you choose"
      ]
    },
    {
      "cell_type": "code",
      "metadata": {
        "ExecuteTime": {
          "end_time": "2019-08-02T01:34:33.446619Z",
          "start_time": "2019-08-02T01:34:33.435793Z"
        },
        "run_control": {
          "frozen": false,
          "read_only": false
        },
        "id": "eZ7nr5DROdCd",
        "colab": {
          "base_uri": "https://localhost:8080/"
        },
        "outputId": "459bfdbf-8971-403d-d2d8-eb8a248dafeb"
      },
      "source": [
        "m31 = pd.read_csv(\"https://raw.githubusercontent.com/fedhere/DSPS_FBianco/refs/heads/main/HW4/m31.csv\", skiprows=1, sep=\",\")\n",
        "m31.columns"
      ],
      "execution_count": 362,
      "outputs": [
        {
          "output_type": "execute_result",
          "data": {
            "text/plain": [
              "Index(['#R(kpc', 'V(km/s)', 'St.dev.', 'St.error'], dtype='object')"
            ]
          },
          "metadata": {},
          "execution_count": 362
        }
      ]
    },
    {
      "cell_type": "code",
      "source": [
        "m31 = m31.rename({\"#R(kpc\": \"r\", \"V(km/s)\": \"v\", \"St.dev.\": \"dv\", \"St.error\": \"err\"}, axis=1)"
      ],
      "metadata": {
        "id": "t_pHadLGCnpd"
      },
      "execution_count": 363,
      "outputs": []
    },
    {
      "cell_type": "code",
      "source": [
        "m31[\"err_tot\"] = np.hypot(m31[\"dv\"], m31[\"err\"])"
      ],
      "metadata": {
        "id": "8vWpYJKyL5i7"
      },
      "execution_count": 364,
      "outputs": []
    },
    {
      "cell_type": "code",
      "metadata": {
        "id": "luL5UrsNQ1M1",
        "colab": {
          "base_uri": "https://localhost:8080/",
          "height": 206
        },
        "outputId": "09975b05-3733-4383-86ff-11d56307733c"
      },
      "source": [
        "\n",
        "m31.head()"
      ],
      "execution_count": 365,
      "outputs": [
        {
          "output_type": "execute_result",
          "data": {
            "text/plain": [
              "       r        v      dv     err    err_tot\n",
              "0  0.100  183.939   0.000   0.000   0.000000\n",
              "1  0.120  190.710  10.265  12.191  15.937086\n",
              "2  0.144  204.141  22.634  21.808  31.430667\n",
              "3  0.173  207.601   4.573   4.200   6.209052\n",
              "4  0.207  210.188   3.943   3.258   5.114862"
            ],
            "text/html": [
              "\n",
              "  <div id=\"df-513be02e-d448-4703-8f74-f1573c350c8c\" class=\"colab-df-container\">\n",
              "    <div>\n",
              "<style scoped>\n",
              "    .dataframe tbody tr th:only-of-type {\n",
              "        vertical-align: middle;\n",
              "    }\n",
              "\n",
              "    .dataframe tbody tr th {\n",
              "        vertical-align: top;\n",
              "    }\n",
              "\n",
              "    .dataframe thead th {\n",
              "        text-align: right;\n",
              "    }\n",
              "</style>\n",
              "<table border=\"1\" class=\"dataframe\">\n",
              "  <thead>\n",
              "    <tr style=\"text-align: right;\">\n",
              "      <th></th>\n",
              "      <th>r</th>\n",
              "      <th>v</th>\n",
              "      <th>dv</th>\n",
              "      <th>err</th>\n",
              "      <th>err_tot</th>\n",
              "    </tr>\n",
              "  </thead>\n",
              "  <tbody>\n",
              "    <tr>\n",
              "      <th>0</th>\n",
              "      <td>0.100</td>\n",
              "      <td>183.939</td>\n",
              "      <td>0.000</td>\n",
              "      <td>0.000</td>\n",
              "      <td>0.000000</td>\n",
              "    </tr>\n",
              "    <tr>\n",
              "      <th>1</th>\n",
              "      <td>0.120</td>\n",
              "      <td>190.710</td>\n",
              "      <td>10.265</td>\n",
              "      <td>12.191</td>\n",
              "      <td>15.937086</td>\n",
              "    </tr>\n",
              "    <tr>\n",
              "      <th>2</th>\n",
              "      <td>0.144</td>\n",
              "      <td>204.141</td>\n",
              "      <td>22.634</td>\n",
              "      <td>21.808</td>\n",
              "      <td>31.430667</td>\n",
              "    </tr>\n",
              "    <tr>\n",
              "      <th>3</th>\n",
              "      <td>0.173</td>\n",
              "      <td>207.601</td>\n",
              "      <td>4.573</td>\n",
              "      <td>4.200</td>\n",
              "      <td>6.209052</td>\n",
              "    </tr>\n",
              "    <tr>\n",
              "      <th>4</th>\n",
              "      <td>0.207</td>\n",
              "      <td>210.188</td>\n",
              "      <td>3.943</td>\n",
              "      <td>3.258</td>\n",
              "      <td>5.114862</td>\n",
              "    </tr>\n",
              "  </tbody>\n",
              "</table>\n",
              "</div>\n",
              "    <div class=\"colab-df-buttons\">\n",
              "\n",
              "  <div class=\"colab-df-container\">\n",
              "    <button class=\"colab-df-convert\" onclick=\"convertToInteractive('df-513be02e-d448-4703-8f74-f1573c350c8c')\"\n",
              "            title=\"Convert this dataframe to an interactive table.\"\n",
              "            style=\"display:none;\">\n",
              "\n",
              "  <svg xmlns=\"http://www.w3.org/2000/svg\" height=\"24px\" viewBox=\"0 -960 960 960\">\n",
              "    <path d=\"M120-120v-720h720v720H120Zm60-500h600v-160H180v160Zm220 220h160v-160H400v160Zm0 220h160v-160H400v160ZM180-400h160v-160H180v160Zm440 0h160v-160H620v160ZM180-180h160v-160H180v160Zm440 0h160v-160H620v160Z\"/>\n",
              "  </svg>\n",
              "    </button>\n",
              "\n",
              "  <style>\n",
              "    .colab-df-container {\n",
              "      display:flex;\n",
              "      gap: 12px;\n",
              "    }\n",
              "\n",
              "    .colab-df-convert {\n",
              "      background-color: #E8F0FE;\n",
              "      border: none;\n",
              "      border-radius: 50%;\n",
              "      cursor: pointer;\n",
              "      display: none;\n",
              "      fill: #1967D2;\n",
              "      height: 32px;\n",
              "      padding: 0 0 0 0;\n",
              "      width: 32px;\n",
              "    }\n",
              "\n",
              "    .colab-df-convert:hover {\n",
              "      background-color: #E2EBFA;\n",
              "      box-shadow: 0px 1px 2px rgba(60, 64, 67, 0.3), 0px 1px 3px 1px rgba(60, 64, 67, 0.15);\n",
              "      fill: #174EA6;\n",
              "    }\n",
              "\n",
              "    .colab-df-buttons div {\n",
              "      margin-bottom: 4px;\n",
              "    }\n",
              "\n",
              "    [theme=dark] .colab-df-convert {\n",
              "      background-color: #3B4455;\n",
              "      fill: #D2E3FC;\n",
              "    }\n",
              "\n",
              "    [theme=dark] .colab-df-convert:hover {\n",
              "      background-color: #434B5C;\n",
              "      box-shadow: 0px 1px 3px 1px rgba(0, 0, 0, 0.15);\n",
              "      filter: drop-shadow(0px 1px 2px rgba(0, 0, 0, 0.3));\n",
              "      fill: #FFFFFF;\n",
              "    }\n",
              "  </style>\n",
              "\n",
              "    <script>\n",
              "      const buttonEl =\n",
              "        document.querySelector('#df-513be02e-d448-4703-8f74-f1573c350c8c button.colab-df-convert');\n",
              "      buttonEl.style.display =\n",
              "        google.colab.kernel.accessAllowed ? 'block' : 'none';\n",
              "\n",
              "      async function convertToInteractive(key) {\n",
              "        const element = document.querySelector('#df-513be02e-d448-4703-8f74-f1573c350c8c');\n",
              "        const dataTable =\n",
              "          await google.colab.kernel.invokeFunction('convertToInteractive',\n",
              "                                                    [key], {});\n",
              "        if (!dataTable) return;\n",
              "\n",
              "        const docLinkHtml = 'Like what you see? Visit the ' +\n",
              "          '<a target=\"_blank\" href=https://colab.research.google.com/notebooks/data_table.ipynb>data table notebook</a>'\n",
              "          + ' to learn more about interactive tables.';\n",
              "        element.innerHTML = '';\n",
              "        dataTable['output_type'] = 'display_data';\n",
              "        await google.colab.output.renderOutput(dataTable, element);\n",
              "        const docLink = document.createElement('div');\n",
              "        docLink.innerHTML = docLinkHtml;\n",
              "        element.appendChild(docLink);\n",
              "      }\n",
              "    </script>\n",
              "  </div>\n",
              "\n",
              "\n",
              "    <div id=\"df-6a253a3d-533f-48e4-a8e9-cd9f9c8589a1\">\n",
              "      <button class=\"colab-df-quickchart\" onclick=\"quickchart('df-6a253a3d-533f-48e4-a8e9-cd9f9c8589a1')\"\n",
              "                title=\"Suggest charts\"\n",
              "                style=\"display:none;\">\n",
              "\n",
              "<svg xmlns=\"http://www.w3.org/2000/svg\" height=\"24px\"viewBox=\"0 0 24 24\"\n",
              "     width=\"24px\">\n",
              "    <g>\n",
              "        <path d=\"M19 3H5c-1.1 0-2 .9-2 2v14c0 1.1.9 2 2 2h14c1.1 0 2-.9 2-2V5c0-1.1-.9-2-2-2zM9 17H7v-7h2v7zm4 0h-2V7h2v10zm4 0h-2v-4h2v4z\"/>\n",
              "    </g>\n",
              "</svg>\n",
              "      </button>\n",
              "\n",
              "<style>\n",
              "  .colab-df-quickchart {\n",
              "      --bg-color: #E8F0FE;\n",
              "      --fill-color: #1967D2;\n",
              "      --hover-bg-color: #E2EBFA;\n",
              "      --hover-fill-color: #174EA6;\n",
              "      --disabled-fill-color: #AAA;\n",
              "      --disabled-bg-color: #DDD;\n",
              "  }\n",
              "\n",
              "  [theme=dark] .colab-df-quickchart {\n",
              "      --bg-color: #3B4455;\n",
              "      --fill-color: #D2E3FC;\n",
              "      --hover-bg-color: #434B5C;\n",
              "      --hover-fill-color: #FFFFFF;\n",
              "      --disabled-bg-color: #3B4455;\n",
              "      --disabled-fill-color: #666;\n",
              "  }\n",
              "\n",
              "  .colab-df-quickchart {\n",
              "    background-color: var(--bg-color);\n",
              "    border: none;\n",
              "    border-radius: 50%;\n",
              "    cursor: pointer;\n",
              "    display: none;\n",
              "    fill: var(--fill-color);\n",
              "    height: 32px;\n",
              "    padding: 0;\n",
              "    width: 32px;\n",
              "  }\n",
              "\n",
              "  .colab-df-quickchart:hover {\n",
              "    background-color: var(--hover-bg-color);\n",
              "    box-shadow: 0 1px 2px rgba(60, 64, 67, 0.3), 0 1px 3px 1px rgba(60, 64, 67, 0.15);\n",
              "    fill: var(--button-hover-fill-color);\n",
              "  }\n",
              "\n",
              "  .colab-df-quickchart-complete:disabled,\n",
              "  .colab-df-quickchart-complete:disabled:hover {\n",
              "    background-color: var(--disabled-bg-color);\n",
              "    fill: var(--disabled-fill-color);\n",
              "    box-shadow: none;\n",
              "  }\n",
              "\n",
              "  .colab-df-spinner {\n",
              "    border: 2px solid var(--fill-color);\n",
              "    border-color: transparent;\n",
              "    border-bottom-color: var(--fill-color);\n",
              "    animation:\n",
              "      spin 1s steps(1) infinite;\n",
              "  }\n",
              "\n",
              "  @keyframes spin {\n",
              "    0% {\n",
              "      border-color: transparent;\n",
              "      border-bottom-color: var(--fill-color);\n",
              "      border-left-color: var(--fill-color);\n",
              "    }\n",
              "    20% {\n",
              "      border-color: transparent;\n",
              "      border-left-color: var(--fill-color);\n",
              "      border-top-color: var(--fill-color);\n",
              "    }\n",
              "    30% {\n",
              "      border-color: transparent;\n",
              "      border-left-color: var(--fill-color);\n",
              "      border-top-color: var(--fill-color);\n",
              "      border-right-color: var(--fill-color);\n",
              "    }\n",
              "    40% {\n",
              "      border-color: transparent;\n",
              "      border-right-color: var(--fill-color);\n",
              "      border-top-color: var(--fill-color);\n",
              "    }\n",
              "    60% {\n",
              "      border-color: transparent;\n",
              "      border-right-color: var(--fill-color);\n",
              "    }\n",
              "    80% {\n",
              "      border-color: transparent;\n",
              "      border-right-color: var(--fill-color);\n",
              "      border-bottom-color: var(--fill-color);\n",
              "    }\n",
              "    90% {\n",
              "      border-color: transparent;\n",
              "      border-bottom-color: var(--fill-color);\n",
              "    }\n",
              "  }\n",
              "</style>\n",
              "\n",
              "      <script>\n",
              "        async function quickchart(key) {\n",
              "          const quickchartButtonEl =\n",
              "            document.querySelector('#' + key + ' button');\n",
              "          quickchartButtonEl.disabled = true;  // To prevent multiple clicks.\n",
              "          quickchartButtonEl.classList.add('colab-df-spinner');\n",
              "          try {\n",
              "            const charts = await google.colab.kernel.invokeFunction(\n",
              "                'suggestCharts', [key], {});\n",
              "          } catch (error) {\n",
              "            console.error('Error during call to suggestCharts:', error);\n",
              "          }\n",
              "          quickchartButtonEl.classList.remove('colab-df-spinner');\n",
              "          quickchartButtonEl.classList.add('colab-df-quickchart-complete');\n",
              "        }\n",
              "        (() => {\n",
              "          let quickchartButtonEl =\n",
              "            document.querySelector('#df-6a253a3d-533f-48e4-a8e9-cd9f9c8589a1 button');\n",
              "          quickchartButtonEl.style.display =\n",
              "            google.colab.kernel.accessAllowed ? 'block' : 'none';\n",
              "        })();\n",
              "      </script>\n",
              "    </div>\n",
              "\n",
              "    </div>\n",
              "  </div>\n"
            ],
            "application/vnd.google.colaboratory.intrinsic+json": {
              "type": "dataframe",
              "variable_name": "m31",
              "summary": "{\n  \"name\": \"m31\",\n  \"rows\": 55,\n  \"fields\": [\n    {\n      \"column\": \"r\",\n      \"properties\": {\n        \"dtype\": \"number\",\n        \"std\": 415.5239040951168,\n        \"min\": 0.1,\n        \"max\": 1887.071,\n        \"num_unique_values\": 55,\n        \"samples\": [\n          28.485,\n          0.249,\n          34.182\n        ],\n        \"semantic_type\": \"\",\n        \"description\": \"\"\n      }\n    },\n    {\n      \"column\": \"v\",\n      \"properties\": {\n        \"dtype\": \"number\",\n        \"std\": 42.79989232732137,\n        \"min\": 121.974,\n        \"max\": 414.942,\n        \"num_unique_values\": 55,\n        \"samples\": [\n          232.335,\n          213.512,\n          233.53\n        ],\n        \"semantic_type\": \"\",\n        \"description\": \"\"\n      }\n    },\n    {\n      \"column\": \"dv\",\n      \"properties\": {\n        \"dtype\": \"number\",\n        \"std\": 49.25479214102135,\n        \"min\": 0.0,\n        \"max\": 147.835,\n        \"num_unique_values\": 55,\n        \"samples\": [\n          16.577,\n          4.218,\n          27.353\n        ],\n        \"semantic_type\": \"\",\n        \"description\": \"\"\n      }\n    },\n    {\n      \"column\": \"err\",\n      \"properties\": {\n        \"dtype\": \"number\",\n        \"std\": 14.876950752158686,\n        \"min\": 0.0,\n        \"max\": 54.11,\n        \"num_unique_values\": 55,\n        \"samples\": [\n          2.106,\n          3.19,\n          3.826\n        ],\n        \"semantic_type\": \"\",\n        \"description\": \"\"\n      }\n    },\n    {\n      \"column\": \"err_tot\",\n      \"properties\": {\n        \"dtype\": \"number\",\n        \"std\": 50.970281870211416,\n        \"min\": 0.0,\n        \"max\": 152.20139700410112,\n        \"num_unique_values\": 55,\n        \"samples\": [\n          16.7102413208188,\n          5.2884424928328375,\n          27.61928465764456\n        ],\n        \"semantic_type\": \"\",\n        \"description\": \"\"\n      }\n    }\n  ]\n}"
            }
          },
          "metadata": {},
          "execution_count": 365
        }
      ]
    },
    {
      "cell_type": "code",
      "source": [
        "m31.tail()"
      ],
      "metadata": {
        "colab": {
          "base_uri": "https://localhost:8080/",
          "height": 206
        },
        "id": "18-4pj6WC5QC",
        "outputId": "f59ab56b-0548-413b-bcde-738ea0f1428a"
      },
      "execution_count": 366,
      "outputs": [
        {
          "output_type": "execute_result",
          "data": {
            "text/plain": [
              "           r        v       dv     err     err_tot\n",
              "50   910.046  250.377  141.353  22.663  143.158242\n",
              "51  1092.055  241.900  138.657  39.031  144.045766\n",
              "52  1310.466  235.039  103.480  46.508  113.450890\n",
              "53  1572.559  332.734  109.504  54.110  122.143433\n",
              "54  1887.071  414.942   69.579  27.931   74.975849"
            ],
            "text/html": [
              "\n",
              "  <div id=\"df-195a54cf-e20b-4eb4-9d7e-cbc62b5be314\" class=\"colab-df-container\">\n",
              "    <div>\n",
              "<style scoped>\n",
              "    .dataframe tbody tr th:only-of-type {\n",
              "        vertical-align: middle;\n",
              "    }\n",
              "\n",
              "    .dataframe tbody tr th {\n",
              "        vertical-align: top;\n",
              "    }\n",
              "\n",
              "    .dataframe thead th {\n",
              "        text-align: right;\n",
              "    }\n",
              "</style>\n",
              "<table border=\"1\" class=\"dataframe\">\n",
              "  <thead>\n",
              "    <tr style=\"text-align: right;\">\n",
              "      <th></th>\n",
              "      <th>r</th>\n",
              "      <th>v</th>\n",
              "      <th>dv</th>\n",
              "      <th>err</th>\n",
              "      <th>err_tot</th>\n",
              "    </tr>\n",
              "  </thead>\n",
              "  <tbody>\n",
              "    <tr>\n",
              "      <th>50</th>\n",
              "      <td>910.046</td>\n",
              "      <td>250.377</td>\n",
              "      <td>141.353</td>\n",
              "      <td>22.663</td>\n",
              "      <td>143.158242</td>\n",
              "    </tr>\n",
              "    <tr>\n",
              "      <th>51</th>\n",
              "      <td>1092.055</td>\n",
              "      <td>241.900</td>\n",
              "      <td>138.657</td>\n",
              "      <td>39.031</td>\n",
              "      <td>144.045766</td>\n",
              "    </tr>\n",
              "    <tr>\n",
              "      <th>52</th>\n",
              "      <td>1310.466</td>\n",
              "      <td>235.039</td>\n",
              "      <td>103.480</td>\n",
              "      <td>46.508</td>\n",
              "      <td>113.450890</td>\n",
              "    </tr>\n",
              "    <tr>\n",
              "      <th>53</th>\n",
              "      <td>1572.559</td>\n",
              "      <td>332.734</td>\n",
              "      <td>109.504</td>\n",
              "      <td>54.110</td>\n",
              "      <td>122.143433</td>\n",
              "    </tr>\n",
              "    <tr>\n",
              "      <th>54</th>\n",
              "      <td>1887.071</td>\n",
              "      <td>414.942</td>\n",
              "      <td>69.579</td>\n",
              "      <td>27.931</td>\n",
              "      <td>74.975849</td>\n",
              "    </tr>\n",
              "  </tbody>\n",
              "</table>\n",
              "</div>\n",
              "    <div class=\"colab-df-buttons\">\n",
              "\n",
              "  <div class=\"colab-df-container\">\n",
              "    <button class=\"colab-df-convert\" onclick=\"convertToInteractive('df-195a54cf-e20b-4eb4-9d7e-cbc62b5be314')\"\n",
              "            title=\"Convert this dataframe to an interactive table.\"\n",
              "            style=\"display:none;\">\n",
              "\n",
              "  <svg xmlns=\"http://www.w3.org/2000/svg\" height=\"24px\" viewBox=\"0 -960 960 960\">\n",
              "    <path d=\"M120-120v-720h720v720H120Zm60-500h600v-160H180v160Zm220 220h160v-160H400v160Zm0 220h160v-160H400v160ZM180-400h160v-160H180v160Zm440 0h160v-160H620v160ZM180-180h160v-160H180v160Zm440 0h160v-160H620v160Z\"/>\n",
              "  </svg>\n",
              "    </button>\n",
              "\n",
              "  <style>\n",
              "    .colab-df-container {\n",
              "      display:flex;\n",
              "      gap: 12px;\n",
              "    }\n",
              "\n",
              "    .colab-df-convert {\n",
              "      background-color: #E8F0FE;\n",
              "      border: none;\n",
              "      border-radius: 50%;\n",
              "      cursor: pointer;\n",
              "      display: none;\n",
              "      fill: #1967D2;\n",
              "      height: 32px;\n",
              "      padding: 0 0 0 0;\n",
              "      width: 32px;\n",
              "    }\n",
              "\n",
              "    .colab-df-convert:hover {\n",
              "      background-color: #E2EBFA;\n",
              "      box-shadow: 0px 1px 2px rgba(60, 64, 67, 0.3), 0px 1px 3px 1px rgba(60, 64, 67, 0.15);\n",
              "      fill: #174EA6;\n",
              "    }\n",
              "\n",
              "    .colab-df-buttons div {\n",
              "      margin-bottom: 4px;\n",
              "    }\n",
              "\n",
              "    [theme=dark] .colab-df-convert {\n",
              "      background-color: #3B4455;\n",
              "      fill: #D2E3FC;\n",
              "    }\n",
              "\n",
              "    [theme=dark] .colab-df-convert:hover {\n",
              "      background-color: #434B5C;\n",
              "      box-shadow: 0px 1px 3px 1px rgba(0, 0, 0, 0.15);\n",
              "      filter: drop-shadow(0px 1px 2px rgba(0, 0, 0, 0.3));\n",
              "      fill: #FFFFFF;\n",
              "    }\n",
              "  </style>\n",
              "\n",
              "    <script>\n",
              "      const buttonEl =\n",
              "        document.querySelector('#df-195a54cf-e20b-4eb4-9d7e-cbc62b5be314 button.colab-df-convert');\n",
              "      buttonEl.style.display =\n",
              "        google.colab.kernel.accessAllowed ? 'block' : 'none';\n",
              "\n",
              "      async function convertToInteractive(key) {\n",
              "        const element = document.querySelector('#df-195a54cf-e20b-4eb4-9d7e-cbc62b5be314');\n",
              "        const dataTable =\n",
              "          await google.colab.kernel.invokeFunction('convertToInteractive',\n",
              "                                                    [key], {});\n",
              "        if (!dataTable) return;\n",
              "\n",
              "        const docLinkHtml = 'Like what you see? Visit the ' +\n",
              "          '<a target=\"_blank\" href=https://colab.research.google.com/notebooks/data_table.ipynb>data table notebook</a>'\n",
              "          + ' to learn more about interactive tables.';\n",
              "        element.innerHTML = '';\n",
              "        dataTable['output_type'] = 'display_data';\n",
              "        await google.colab.output.renderOutput(dataTable, element);\n",
              "        const docLink = document.createElement('div');\n",
              "        docLink.innerHTML = docLinkHtml;\n",
              "        element.appendChild(docLink);\n",
              "      }\n",
              "    </script>\n",
              "  </div>\n",
              "\n",
              "\n",
              "    <div id=\"df-40e7d089-2936-43c3-ad40-b053b1457333\">\n",
              "      <button class=\"colab-df-quickchart\" onclick=\"quickchart('df-40e7d089-2936-43c3-ad40-b053b1457333')\"\n",
              "                title=\"Suggest charts\"\n",
              "                style=\"display:none;\">\n",
              "\n",
              "<svg xmlns=\"http://www.w3.org/2000/svg\" height=\"24px\"viewBox=\"0 0 24 24\"\n",
              "     width=\"24px\">\n",
              "    <g>\n",
              "        <path d=\"M19 3H5c-1.1 0-2 .9-2 2v14c0 1.1.9 2 2 2h14c1.1 0 2-.9 2-2V5c0-1.1-.9-2-2-2zM9 17H7v-7h2v7zm4 0h-2V7h2v10zm4 0h-2v-4h2v4z\"/>\n",
              "    </g>\n",
              "</svg>\n",
              "      </button>\n",
              "\n",
              "<style>\n",
              "  .colab-df-quickchart {\n",
              "      --bg-color: #E8F0FE;\n",
              "      --fill-color: #1967D2;\n",
              "      --hover-bg-color: #E2EBFA;\n",
              "      --hover-fill-color: #174EA6;\n",
              "      --disabled-fill-color: #AAA;\n",
              "      --disabled-bg-color: #DDD;\n",
              "  }\n",
              "\n",
              "  [theme=dark] .colab-df-quickchart {\n",
              "      --bg-color: #3B4455;\n",
              "      --fill-color: #D2E3FC;\n",
              "      --hover-bg-color: #434B5C;\n",
              "      --hover-fill-color: #FFFFFF;\n",
              "      --disabled-bg-color: #3B4455;\n",
              "      --disabled-fill-color: #666;\n",
              "  }\n",
              "\n",
              "  .colab-df-quickchart {\n",
              "    background-color: var(--bg-color);\n",
              "    border: none;\n",
              "    border-radius: 50%;\n",
              "    cursor: pointer;\n",
              "    display: none;\n",
              "    fill: var(--fill-color);\n",
              "    height: 32px;\n",
              "    padding: 0;\n",
              "    width: 32px;\n",
              "  }\n",
              "\n",
              "  .colab-df-quickchart:hover {\n",
              "    background-color: var(--hover-bg-color);\n",
              "    box-shadow: 0 1px 2px rgba(60, 64, 67, 0.3), 0 1px 3px 1px rgba(60, 64, 67, 0.15);\n",
              "    fill: var(--button-hover-fill-color);\n",
              "  }\n",
              "\n",
              "  .colab-df-quickchart-complete:disabled,\n",
              "  .colab-df-quickchart-complete:disabled:hover {\n",
              "    background-color: var(--disabled-bg-color);\n",
              "    fill: var(--disabled-fill-color);\n",
              "    box-shadow: none;\n",
              "  }\n",
              "\n",
              "  .colab-df-spinner {\n",
              "    border: 2px solid var(--fill-color);\n",
              "    border-color: transparent;\n",
              "    border-bottom-color: var(--fill-color);\n",
              "    animation:\n",
              "      spin 1s steps(1) infinite;\n",
              "  }\n",
              "\n",
              "  @keyframes spin {\n",
              "    0% {\n",
              "      border-color: transparent;\n",
              "      border-bottom-color: var(--fill-color);\n",
              "      border-left-color: var(--fill-color);\n",
              "    }\n",
              "    20% {\n",
              "      border-color: transparent;\n",
              "      border-left-color: var(--fill-color);\n",
              "      border-top-color: var(--fill-color);\n",
              "    }\n",
              "    30% {\n",
              "      border-color: transparent;\n",
              "      border-left-color: var(--fill-color);\n",
              "      border-top-color: var(--fill-color);\n",
              "      border-right-color: var(--fill-color);\n",
              "    }\n",
              "    40% {\n",
              "      border-color: transparent;\n",
              "      border-right-color: var(--fill-color);\n",
              "      border-top-color: var(--fill-color);\n",
              "    }\n",
              "    60% {\n",
              "      border-color: transparent;\n",
              "      border-right-color: var(--fill-color);\n",
              "    }\n",
              "    80% {\n",
              "      border-color: transparent;\n",
              "      border-right-color: var(--fill-color);\n",
              "      border-bottom-color: var(--fill-color);\n",
              "    }\n",
              "    90% {\n",
              "      border-color: transparent;\n",
              "      border-bottom-color: var(--fill-color);\n",
              "    }\n",
              "  }\n",
              "</style>\n",
              "\n",
              "      <script>\n",
              "        async function quickchart(key) {\n",
              "          const quickchartButtonEl =\n",
              "            document.querySelector('#' + key + ' button');\n",
              "          quickchartButtonEl.disabled = true;  // To prevent multiple clicks.\n",
              "          quickchartButtonEl.classList.add('colab-df-spinner');\n",
              "          try {\n",
              "            const charts = await google.colab.kernel.invokeFunction(\n",
              "                'suggestCharts', [key], {});\n",
              "          } catch (error) {\n",
              "            console.error('Error during call to suggestCharts:', error);\n",
              "          }\n",
              "          quickchartButtonEl.classList.remove('colab-df-spinner');\n",
              "          quickchartButtonEl.classList.add('colab-df-quickchart-complete');\n",
              "        }\n",
              "        (() => {\n",
              "          let quickchartButtonEl =\n",
              "            document.querySelector('#df-40e7d089-2936-43c3-ad40-b053b1457333 button');\n",
              "          quickchartButtonEl.style.display =\n",
              "            google.colab.kernel.accessAllowed ? 'block' : 'none';\n",
              "        })();\n",
              "      </script>\n",
              "    </div>\n",
              "\n",
              "    </div>\n",
              "  </div>\n"
            ],
            "application/vnd.google.colaboratory.intrinsic+json": {
              "type": "dataframe",
              "summary": "{\n  \"name\": \"m31\",\n  \"rows\": 5,\n  \"fields\": [\n    {\n      \"column\": \"r\",\n      \"properties\": {\n        \"dtype\": \"number\",\n        \"std\": 387.1489727666857,\n        \"min\": 910.046,\n        \"max\": 1887.071,\n        \"num_unique_values\": 5,\n        \"samples\": [\n          1092.055,\n          1887.071,\n          1310.466\n        ],\n        \"semantic_type\": \"\",\n        \"description\": \"\"\n      }\n    },\n    {\n      \"column\": \"v\",\n      \"properties\": {\n        \"dtype\": \"number\",\n        \"std\": 77.80758600098065,\n        \"min\": 235.039,\n        \"max\": 414.942,\n        \"num_unique_values\": 5,\n        \"samples\": [\n          241.9,\n          414.942,\n          235.039\n        ],\n        \"semantic_type\": \"\",\n        \"description\": \"\"\n      }\n    },\n    {\n      \"column\": \"dv\",\n      \"properties\": {\n        \"dtype\": \"number\",\n        \"std\": 29.365080662242363,\n        \"min\": 69.579,\n        \"max\": 141.353,\n        \"num_unique_values\": 5,\n        \"samples\": [\n          138.657,\n          69.579,\n          103.48\n        ],\n        \"semantic_type\": \"\",\n        \"description\": \"\"\n      }\n    },\n    {\n      \"column\": \"err\",\n      \"properties\": {\n        \"dtype\": \"number\",\n        \"std\": 12.93809921510884,\n        \"min\": 22.663,\n        \"max\": 54.11,\n        \"num_unique_values\": 5,\n        \"samples\": [\n          39.031,\n          27.931,\n          46.508\n        ],\n        \"semantic_type\": \"\",\n        \"description\": \"\"\n      }\n    },\n    {\n      \"column\": \"err_tot\",\n      \"properties\": {\n        \"dtype\": \"number\",\n        \"std\": 28.231947452403272,\n        \"min\": 74.97584945834224,\n        \"max\": 144.04576567882862,\n        \"num_unique_values\": 5,\n        \"samples\": [\n          144.04576567882862,\n          74.97584945834224,\n          113.4508900978745\n        ],\n        \"semantic_type\": \"\",\n        \"description\": \"\"\n      }\n    }\n  ]\n}"
            }
          },
          "metadata": {},
          "execution_count": 366
        }
      ]
    },
    {
      "cell_type": "markdown",
      "source": [
        "# exploratory data analysis\n",
        "proceed with at least a few basic exploratory tasks\n",
        "\n",
        "- what is the shape of the dataset?\n",
        "\n",
        "- what are the statistical properties of the dataset? like the mean and variance of each column etc etc? do you remember how to get them with a single python line of code?\n",
        "\n",
        "Look at the mean and the median of each column - what can you say about the distribution based on the comparison of these two numbers?"
      ],
      "metadata": {
        "id": "8nZhqbhvP2UC"
      }
    },
    {
      "cell_type": "code",
      "metadata": {
        "ExecuteTime": {
          "end_time": "2019-08-02T01:35:26.395158Z",
          "start_time": "2019-08-02T01:35:26.373338Z"
        },
        "run_control": {
          "frozen": false,
          "read_only": false
        },
        "id": "QsNRokb1OdCh",
        "colab": {
          "base_uri": "https://localhost:8080/"
        },
        "outputId": "d7c8ef8c-3347-453a-c8a8-708a8146da7a"
      },
      "source": [
        "m31.shape"
      ],
      "execution_count": 367,
      "outputs": [
        {
          "output_type": "execute_result",
          "data": {
            "text/plain": [
              "(55, 5)"
            ]
          },
          "metadata": {},
          "execution_count": 367
        }
      ]
    },
    {
      "cell_type": "code",
      "source": [
        "m31.describe()"
      ],
      "metadata": {
        "colab": {
          "base_uri": "https://localhost:8080/",
          "height": 300
        },
        "id": "tmk5Dcp6CY_A",
        "outputId": "080297b6-5f84-4804-9da3-424dc2798af6"
      },
      "execution_count": 368,
      "outputs": [
        {
          "output_type": "execute_result",
          "data": {
            "text/plain": [
              "                 r           v          dv        err     err_tot\n",
              "count    55.000000   55.000000   55.000000  55.000000   55.000000\n",
              "mean    205.853182  226.079255   55.034818  16.165855   57.781110\n",
              "std     415.523904   42.799892   49.254792  14.876951   50.970282\n",
              "min       0.100000  121.974000    0.000000   0.000000    0.000000\n",
              "25%       1.177000  208.894500   11.945500   3.224000   12.956817\n",
              "50%      13.737000  229.124000   30.697000  12.065000   32.684957\n",
              "75%     161.675000  244.102500   99.980000  23.641000  107.040605\n",
              "max    1887.071000  414.942000  147.835000  54.110000  152.201397"
            ],
            "text/html": [
              "\n",
              "  <div id=\"df-1c5bb40f-d8fd-4709-a26c-506c1a1ddbb5\" class=\"colab-df-container\">\n",
              "    <div>\n",
              "<style scoped>\n",
              "    .dataframe tbody tr th:only-of-type {\n",
              "        vertical-align: middle;\n",
              "    }\n",
              "\n",
              "    .dataframe tbody tr th {\n",
              "        vertical-align: top;\n",
              "    }\n",
              "\n",
              "    .dataframe thead th {\n",
              "        text-align: right;\n",
              "    }\n",
              "</style>\n",
              "<table border=\"1\" class=\"dataframe\">\n",
              "  <thead>\n",
              "    <tr style=\"text-align: right;\">\n",
              "      <th></th>\n",
              "      <th>r</th>\n",
              "      <th>v</th>\n",
              "      <th>dv</th>\n",
              "      <th>err</th>\n",
              "      <th>err_tot</th>\n",
              "    </tr>\n",
              "  </thead>\n",
              "  <tbody>\n",
              "    <tr>\n",
              "      <th>count</th>\n",
              "      <td>55.000000</td>\n",
              "      <td>55.000000</td>\n",
              "      <td>55.000000</td>\n",
              "      <td>55.000000</td>\n",
              "      <td>55.000000</td>\n",
              "    </tr>\n",
              "    <tr>\n",
              "      <th>mean</th>\n",
              "      <td>205.853182</td>\n",
              "      <td>226.079255</td>\n",
              "      <td>55.034818</td>\n",
              "      <td>16.165855</td>\n",
              "      <td>57.781110</td>\n",
              "    </tr>\n",
              "    <tr>\n",
              "      <th>std</th>\n",
              "      <td>415.523904</td>\n",
              "      <td>42.799892</td>\n",
              "      <td>49.254792</td>\n",
              "      <td>14.876951</td>\n",
              "      <td>50.970282</td>\n",
              "    </tr>\n",
              "    <tr>\n",
              "      <th>min</th>\n",
              "      <td>0.100000</td>\n",
              "      <td>121.974000</td>\n",
              "      <td>0.000000</td>\n",
              "      <td>0.000000</td>\n",
              "      <td>0.000000</td>\n",
              "    </tr>\n",
              "    <tr>\n",
              "      <th>25%</th>\n",
              "      <td>1.177000</td>\n",
              "      <td>208.894500</td>\n",
              "      <td>11.945500</td>\n",
              "      <td>3.224000</td>\n",
              "      <td>12.956817</td>\n",
              "    </tr>\n",
              "    <tr>\n",
              "      <th>50%</th>\n",
              "      <td>13.737000</td>\n",
              "      <td>229.124000</td>\n",
              "      <td>30.697000</td>\n",
              "      <td>12.065000</td>\n",
              "      <td>32.684957</td>\n",
              "    </tr>\n",
              "    <tr>\n",
              "      <th>75%</th>\n",
              "      <td>161.675000</td>\n",
              "      <td>244.102500</td>\n",
              "      <td>99.980000</td>\n",
              "      <td>23.641000</td>\n",
              "      <td>107.040605</td>\n",
              "    </tr>\n",
              "    <tr>\n",
              "      <th>max</th>\n",
              "      <td>1887.071000</td>\n",
              "      <td>414.942000</td>\n",
              "      <td>147.835000</td>\n",
              "      <td>54.110000</td>\n",
              "      <td>152.201397</td>\n",
              "    </tr>\n",
              "  </tbody>\n",
              "</table>\n",
              "</div>\n",
              "    <div class=\"colab-df-buttons\">\n",
              "\n",
              "  <div class=\"colab-df-container\">\n",
              "    <button class=\"colab-df-convert\" onclick=\"convertToInteractive('df-1c5bb40f-d8fd-4709-a26c-506c1a1ddbb5')\"\n",
              "            title=\"Convert this dataframe to an interactive table.\"\n",
              "            style=\"display:none;\">\n",
              "\n",
              "  <svg xmlns=\"http://www.w3.org/2000/svg\" height=\"24px\" viewBox=\"0 -960 960 960\">\n",
              "    <path d=\"M120-120v-720h720v720H120Zm60-500h600v-160H180v160Zm220 220h160v-160H400v160Zm0 220h160v-160H400v160ZM180-400h160v-160H180v160Zm440 0h160v-160H620v160ZM180-180h160v-160H180v160Zm440 0h160v-160H620v160Z\"/>\n",
              "  </svg>\n",
              "    </button>\n",
              "\n",
              "  <style>\n",
              "    .colab-df-container {\n",
              "      display:flex;\n",
              "      gap: 12px;\n",
              "    }\n",
              "\n",
              "    .colab-df-convert {\n",
              "      background-color: #E8F0FE;\n",
              "      border: none;\n",
              "      border-radius: 50%;\n",
              "      cursor: pointer;\n",
              "      display: none;\n",
              "      fill: #1967D2;\n",
              "      height: 32px;\n",
              "      padding: 0 0 0 0;\n",
              "      width: 32px;\n",
              "    }\n",
              "\n",
              "    .colab-df-convert:hover {\n",
              "      background-color: #E2EBFA;\n",
              "      box-shadow: 0px 1px 2px rgba(60, 64, 67, 0.3), 0px 1px 3px 1px rgba(60, 64, 67, 0.15);\n",
              "      fill: #174EA6;\n",
              "    }\n",
              "\n",
              "    .colab-df-buttons div {\n",
              "      margin-bottom: 4px;\n",
              "    }\n",
              "\n",
              "    [theme=dark] .colab-df-convert {\n",
              "      background-color: #3B4455;\n",
              "      fill: #D2E3FC;\n",
              "    }\n",
              "\n",
              "    [theme=dark] .colab-df-convert:hover {\n",
              "      background-color: #434B5C;\n",
              "      box-shadow: 0px 1px 3px 1px rgba(0, 0, 0, 0.15);\n",
              "      filter: drop-shadow(0px 1px 2px rgba(0, 0, 0, 0.3));\n",
              "      fill: #FFFFFF;\n",
              "    }\n",
              "  </style>\n",
              "\n",
              "    <script>\n",
              "      const buttonEl =\n",
              "        document.querySelector('#df-1c5bb40f-d8fd-4709-a26c-506c1a1ddbb5 button.colab-df-convert');\n",
              "      buttonEl.style.display =\n",
              "        google.colab.kernel.accessAllowed ? 'block' : 'none';\n",
              "\n",
              "      async function convertToInteractive(key) {\n",
              "        const element = document.querySelector('#df-1c5bb40f-d8fd-4709-a26c-506c1a1ddbb5');\n",
              "        const dataTable =\n",
              "          await google.colab.kernel.invokeFunction('convertToInteractive',\n",
              "                                                    [key], {});\n",
              "        if (!dataTable) return;\n",
              "\n",
              "        const docLinkHtml = 'Like what you see? Visit the ' +\n",
              "          '<a target=\"_blank\" href=https://colab.research.google.com/notebooks/data_table.ipynb>data table notebook</a>'\n",
              "          + ' to learn more about interactive tables.';\n",
              "        element.innerHTML = '';\n",
              "        dataTable['output_type'] = 'display_data';\n",
              "        await google.colab.output.renderOutput(dataTable, element);\n",
              "        const docLink = document.createElement('div');\n",
              "        docLink.innerHTML = docLinkHtml;\n",
              "        element.appendChild(docLink);\n",
              "      }\n",
              "    </script>\n",
              "  </div>\n",
              "\n",
              "\n",
              "    <div id=\"df-4f48ca9b-0522-4b91-b3ca-a3cc9a2171ef\">\n",
              "      <button class=\"colab-df-quickchart\" onclick=\"quickchart('df-4f48ca9b-0522-4b91-b3ca-a3cc9a2171ef')\"\n",
              "                title=\"Suggest charts\"\n",
              "                style=\"display:none;\">\n",
              "\n",
              "<svg xmlns=\"http://www.w3.org/2000/svg\" height=\"24px\"viewBox=\"0 0 24 24\"\n",
              "     width=\"24px\">\n",
              "    <g>\n",
              "        <path d=\"M19 3H5c-1.1 0-2 .9-2 2v14c0 1.1.9 2 2 2h14c1.1 0 2-.9 2-2V5c0-1.1-.9-2-2-2zM9 17H7v-7h2v7zm4 0h-2V7h2v10zm4 0h-2v-4h2v4z\"/>\n",
              "    </g>\n",
              "</svg>\n",
              "      </button>\n",
              "\n",
              "<style>\n",
              "  .colab-df-quickchart {\n",
              "      --bg-color: #E8F0FE;\n",
              "      --fill-color: #1967D2;\n",
              "      --hover-bg-color: #E2EBFA;\n",
              "      --hover-fill-color: #174EA6;\n",
              "      --disabled-fill-color: #AAA;\n",
              "      --disabled-bg-color: #DDD;\n",
              "  }\n",
              "\n",
              "  [theme=dark] .colab-df-quickchart {\n",
              "      --bg-color: #3B4455;\n",
              "      --fill-color: #D2E3FC;\n",
              "      --hover-bg-color: #434B5C;\n",
              "      --hover-fill-color: #FFFFFF;\n",
              "      --disabled-bg-color: #3B4455;\n",
              "      --disabled-fill-color: #666;\n",
              "  }\n",
              "\n",
              "  .colab-df-quickchart {\n",
              "    background-color: var(--bg-color);\n",
              "    border: none;\n",
              "    border-radius: 50%;\n",
              "    cursor: pointer;\n",
              "    display: none;\n",
              "    fill: var(--fill-color);\n",
              "    height: 32px;\n",
              "    padding: 0;\n",
              "    width: 32px;\n",
              "  }\n",
              "\n",
              "  .colab-df-quickchart:hover {\n",
              "    background-color: var(--hover-bg-color);\n",
              "    box-shadow: 0 1px 2px rgba(60, 64, 67, 0.3), 0 1px 3px 1px rgba(60, 64, 67, 0.15);\n",
              "    fill: var(--button-hover-fill-color);\n",
              "  }\n",
              "\n",
              "  .colab-df-quickchart-complete:disabled,\n",
              "  .colab-df-quickchart-complete:disabled:hover {\n",
              "    background-color: var(--disabled-bg-color);\n",
              "    fill: var(--disabled-fill-color);\n",
              "    box-shadow: none;\n",
              "  }\n",
              "\n",
              "  .colab-df-spinner {\n",
              "    border: 2px solid var(--fill-color);\n",
              "    border-color: transparent;\n",
              "    border-bottom-color: var(--fill-color);\n",
              "    animation:\n",
              "      spin 1s steps(1) infinite;\n",
              "  }\n",
              "\n",
              "  @keyframes spin {\n",
              "    0% {\n",
              "      border-color: transparent;\n",
              "      border-bottom-color: var(--fill-color);\n",
              "      border-left-color: var(--fill-color);\n",
              "    }\n",
              "    20% {\n",
              "      border-color: transparent;\n",
              "      border-left-color: var(--fill-color);\n",
              "      border-top-color: var(--fill-color);\n",
              "    }\n",
              "    30% {\n",
              "      border-color: transparent;\n",
              "      border-left-color: var(--fill-color);\n",
              "      border-top-color: var(--fill-color);\n",
              "      border-right-color: var(--fill-color);\n",
              "    }\n",
              "    40% {\n",
              "      border-color: transparent;\n",
              "      border-right-color: var(--fill-color);\n",
              "      border-top-color: var(--fill-color);\n",
              "    }\n",
              "    60% {\n",
              "      border-color: transparent;\n",
              "      border-right-color: var(--fill-color);\n",
              "    }\n",
              "    80% {\n",
              "      border-color: transparent;\n",
              "      border-right-color: var(--fill-color);\n",
              "      border-bottom-color: var(--fill-color);\n",
              "    }\n",
              "    90% {\n",
              "      border-color: transparent;\n",
              "      border-bottom-color: var(--fill-color);\n",
              "    }\n",
              "  }\n",
              "</style>\n",
              "\n",
              "      <script>\n",
              "        async function quickchart(key) {\n",
              "          const quickchartButtonEl =\n",
              "            document.querySelector('#' + key + ' button');\n",
              "          quickchartButtonEl.disabled = true;  // To prevent multiple clicks.\n",
              "          quickchartButtonEl.classList.add('colab-df-spinner');\n",
              "          try {\n",
              "            const charts = await google.colab.kernel.invokeFunction(\n",
              "                'suggestCharts', [key], {});\n",
              "          } catch (error) {\n",
              "            console.error('Error during call to suggestCharts:', error);\n",
              "          }\n",
              "          quickchartButtonEl.classList.remove('colab-df-spinner');\n",
              "          quickchartButtonEl.classList.add('colab-df-quickchart-complete');\n",
              "        }\n",
              "        (() => {\n",
              "          let quickchartButtonEl =\n",
              "            document.querySelector('#df-4f48ca9b-0522-4b91-b3ca-a3cc9a2171ef button');\n",
              "          quickchartButtonEl.style.display =\n",
              "            google.colab.kernel.accessAllowed ? 'block' : 'none';\n",
              "        })();\n",
              "      </script>\n",
              "    </div>\n",
              "\n",
              "    </div>\n",
              "  </div>\n"
            ],
            "application/vnd.google.colaboratory.intrinsic+json": {
              "type": "dataframe",
              "summary": "{\n  \"name\": \"m31\",\n  \"rows\": 8,\n  \"fields\": [\n    {\n      \"column\": \"r\",\n      \"properties\": {\n        \"dtype\": \"number\",\n        \"std\": 639.9645756159855,\n        \"min\": 0.1,\n        \"max\": 1887.071,\n        \"num_unique_values\": 8,\n        \"samples\": [\n          205.8531818181818,\n          13.737,\n          55.0\n        ],\n        \"semantic_type\": \"\",\n        \"description\": \"\"\n      }\n    },\n    {\n      \"column\": \"v\",\n      \"properties\": {\n        \"dtype\": \"number\",\n        \"std\": 120.22012586232157,\n        \"min\": 42.79989232732137,\n        \"max\": 414.942,\n        \"num_unique_values\": 8,\n        \"samples\": [\n          226.07925454545455,\n          229.124,\n          55.0\n        ],\n        \"semantic_type\": \"\",\n        \"description\": \"\"\n      }\n    },\n    {\n      \"column\": \"dv\",\n      \"properties\": {\n        \"dtype\": \"number\",\n        \"std\": 48.00594644705554,\n        \"min\": 0.0,\n        \"max\": 147.835,\n        \"num_unique_values\": 8,\n        \"samples\": [\n          55.034818181818196,\n          30.697,\n          55.0\n        ],\n        \"semantic_type\": \"\",\n        \"description\": \"\"\n      }\n    },\n    {\n      \"column\": \"err\",\n      \"properties\": {\n        \"dtype\": \"number\",\n        \"std\": 21.184814321007977,\n        \"min\": 0.0,\n        \"max\": 55.0,\n        \"num_unique_values\": 8,\n        \"samples\": [\n          16.165854545454547,\n          12.065,\n          55.0\n        ],\n        \"semantic_type\": \"\",\n        \"description\": \"\"\n      }\n    },\n    {\n      \"column\": \"err_tot\",\n      \"properties\": {\n        \"dtype\": \"number\",\n        \"std\": 49.81164970623109,\n        \"min\": 0.0,\n        \"max\": 152.20139700410112,\n        \"num_unique_values\": 8,\n        \"samples\": [\n          57.781109974996404,\n          32.684957304546074,\n          55.0\n        ],\n        \"semantic_type\": \"\",\n        \"description\": \"\"\n      }\n    }\n  ]\n}"
            }
          },
          "metadata": {},
          "execution_count": 368
        }
      ]
    },
    {
      "cell_type": "markdown",
      "source": [
        "> The distribution of rotational velocities of HII regions is nearly symmetrical, despite the HII regions being far from the center (over 200 kpc) on average. At first glance, the matter does not appear to be following the $\\frac{1}{r^2}$ rule."
      ],
      "metadata": {
        "id": "8eqbko2HCh9V"
      }
    },
    {
      "cell_type": "markdown",
      "source": [
        "Make a histogram of each column of the dataframe and comment on the shape of the distribution in the caption. Remember the axis labels which, when we work with physical quantities, shoudl also state what units are used."
      ],
      "metadata": {
        "id": "ujTxbjRz8FHB"
      }
    },
    {
      "cell_type": "code",
      "source": [
        "caption = \"Figure 1: A histogram of HII Region distances from the center of M31. The distribution is power law /exponential / skewed towards the lower values.\"\n",
        "\n",
        "plt.hist(m31[\"r\"], bins=30, edgecolor='black', log=False)\n",
        "plt.title(\"M31 - Histogram of Distances\")\n",
        "plt.xlabel(\"Distance (kpc)\")\n",
        "plt.ylabel(\"Frequency\")\n",
        "plt.grid()\n",
        "plt.figtext(0.5, 0.1, caption, ha='center', fontsize=10, wrap=True)\n",
        "plt.tight_layout(rect=[0, 0.15, 1, 1])"
      ],
      "metadata": {
        "id": "OPJxdjzt8D5l",
        "colab": {
          "base_uri": "https://localhost:8080/",
          "height": 459
        },
        "outputId": "12e6506b-6505-4cf9-e64e-4374dcb02898"
      },
      "execution_count": 369,
      "outputs": [
        {
          "output_type": "display_data",
          "data": {
            "text/plain": [
              "<Figure size 640x480 with 1 Axes>"
            ],
            "image/png": "[encoded data removed]"
          },
          "metadata": {}
        }
      ]
    },
    {
      "cell_type": "code",
      "source": [
        "caption = \"Figure 2: A histogram of HII Region orbital velocities from the center of M31. The distribution is nearly symmetric.\"\n",
        "\n",
        "plt.hist(m31[\"v\"], bins=30, edgecolor='black', log=False)\n",
        "plt.title(\"M31 - Histogram of Orbital Velocities\")\n",
        "plt.xlabel(\"Velocity (km/s)\")\n",
        "plt.ylabel(\"Frequency\")\n",
        "plt.grid()\n",
        "plt.figtext(0.5, 0.1, caption, ha='center', fontsize=10, wrap=True)\n",
        "plt.tight_layout(rect=[0, 0.15, 1, 1])"
      ],
      "metadata": {
        "colab": {
          "base_uri": "https://localhost:8080/",
          "height": 459
        },
        "id": "kwkVaT-kI8Go",
        "outputId": "b4df2eae-b592-45d7-c721-bd84a6bbe753"
      },
      "execution_count": 370,
      "outputs": [
        {
          "output_type": "display_data",
          "data": {
            "text/plain": [
              "<Figure size 640x480 with 1 Axes>"
            ],
            "image/png": "[encoded data removed]"
          },
          "metadata": {}
        }
      ]
    },
    {
      "cell_type": "code",
      "source": [
        "caption = \"Figure 3: A histogram of uncertainties in the measured wavelengths of the HII Line. The distribution is multimodal / non-symmetric.\"\n",
        "\n",
        "plt.hist(m31[\"dv\"], bins=30, edgecolor='black', log=False)\n",
        "plt.title(\"M31 - Histogram of Uncertainties\")\n",
        "plt.xlabel(\"Uncertainty\")\n",
        "plt.ylabel(\"Frequency\")\n",
        "plt.grid()\n",
        "plt.figtext(0.5, 0.1, caption, ha='center', fontsize=10, wrap=True)\n",
        "plt.tight_layout(rect=[0, 0.15, 1, 1])"
      ],
      "metadata": {
        "colab": {
          "base_uri": "https://localhost:8080/",
          "height": 459
        },
        "id": "DO73BAIMJhLF",
        "outputId": "cd3a079b-e63c-4e3b-afc7-ffb051db2ebf"
      },
      "execution_count": 371,
      "outputs": [
        {
          "output_type": "display_data",
          "data": {
            "text/plain": [
              "<Figure size 640x480 with 1 Axes>"
            ],
            "image/png": "[encoded data removed]"
          },
          "metadata": {}
        }
      ]
    },
    {
      "cell_type": "code",
      "source": [
        "caption = \"Figure 4: A histogram of the remaining error budget in the uncertainty of measured wavelengths of the HII Line. The distribution is multimodal / non-symmetric.\"\n",
        "\n",
        "plt.hist(m31[\"err\"], bins=30, edgecolor='black', log=False)\n",
        "plt.title(\"M31 - Histogram of Error\")\n",
        "plt.xlabel(\"Error\")\n",
        "plt.ylabel(\"Frequency\")\n",
        "plt.grid()\n",
        "plt.figtext(0.5, 0.1, caption, ha='center', fontsize=10, wrap=True)\n",
        "plt.tight_layout(rect=[0, 0.15, 1, 1])"
      ],
      "metadata": {
        "colab": {
          "base_uri": "https://localhost:8080/",
          "height": 459
        },
        "id": "Rj0DrcK4KWI8",
        "outputId": "c6ef7ed6-de36-4abf-a387-e9ebb6a297c7"
      },
      "execution_count": 372,
      "outputs": [
        {
          "output_type": "display_data",
          "data": {
            "text/plain": [
              "<Figure size 640x480 with 1 Axes>"
            ],
            "image/png": "[encoded data removed]"
          },
          "metadata": {}
        }
      ]
    },
    {
      "cell_type": "code",
      "source": [
        "caption = \"Figure 5: A histogram of the total error in the uncertainty of measured wavelengths of the HII Line. The distribution is multimodal / non-symmetric.\"\n",
        "\n",
        "plt.hist(m31[\"err_tot\"], bins=30, edgecolor='black', log=False)\n",
        "plt.title(\"M31 - Histogram of Total Error\")\n",
        "plt.xlabel(\"Error\")\n",
        "plt.ylabel(\"Frequency\")\n",
        "plt.grid()\n",
        "plt.figtext(0.5, 0.1, caption, ha='center', fontsize=10, wrap=True)\n",
        "plt.tight_layout(rect=[0, 0.15, 1, 1])"
      ],
      "metadata": {
        "colab": {
          "base_uri": "https://localhost:8080/",
          "height": 459
        },
        "id": "9S1iNOWqKxM0",
        "outputId": "b3d84929-5e1c-42bf-fc45-089be520a4d3"
      },
      "execution_count": 373,
      "outputs": [
        {
          "output_type": "display_data",
          "data": {
            "text/plain": [
              "<Figure size 640x480 with 1 Axes>"
            ],
            "image/png": "[encoded data removed]"
          },
          "metadata": {}
        }
      ]
    },
    {
      "cell_type": "markdown",
      "metadata": {
        "run_control": {
          "frozen": false,
          "read_only": false
        },
        "id": "Vv0Ut6vOOdCk"
      },
      "source": [
        "from https://en.wikipedia.org/wiki/Andromeda_Galaxy get the extent of the luminous component of M31 (Andromeda). The distance of the Galaxy multiplied by the angular size will give you this information from basic trigonometry (make sure you convert the units properly, using astropy). Make sure you include the uncertainties! uncertainties in the distance will give you the uncertainty in the size\n",
        "\n",
        "Assume the distance is 778 $\\pm$ 33 kpc\n",
        "   "
      ]
    },
    {
      "cell_type": "code",
      "metadata": {
        "id": "kvIFr6D778ri"
      },
      "source": [
        "apparentSizeM31 = 3.167"
      ],
      "execution_count": 374,
      "outputs": []
    },
    {
      "cell_type": "code",
      "metadata": {
        "ExecuteTime": {
          "end_time": "2019-08-02T01:35:41.413407Z",
          "start_time": "2019-08-02T01:35:41.408764Z"
        },
        "run_control": {
          "frozen": false,
          "read_only": false
        },
        "id": "tzGNh98hOdCl",
        "colab": {
          "base_uri": "https://localhost:8080/"
        },
        "outputId": "c96e8fb9-efc4-42e0-addf-daca5e8226c2"
      },
      "source": [
        "# note : by PEP8 standards the import should be at the top, I leave it here for hyou to see that I am using astropy.units now for visibility. Please move it to the top cell\n",
        "from astropy import units as u\n",
        "m31angS = apparentSizeM31 * u.degree\n",
        "print(\"Angular Size of the visible component of Andromeda: {:.2f}\".format(m31angS.to(u.rad)  ))"
      ],
      "execution_count": 375,
      "outputs": [
        {
          "output_type": "stream",
          "name": "stdout",
          "text": [
            "Angular Size of the visible component of Andromeda: 0.06 rad\n"
          ]
        }
      ]
    },
    {
      "cell_type": "markdown",
      "metadata": {
        "id": "cOw0Y4KNWTOZ"
      },
      "source": [
        "Please make sure you print a sensible number of decimal digits! you have a  number of significant digits set by the number of digit in the info you get from wikipedia and me"
      ]
    },
    {
      "cell_type": "markdown",
      "metadata": {
        "id": "hF2wXZ988QgS"
      },
      "source": [
        "The distance, from Wikipedia, will have an uncertainty. Convert both to kiloparsecs Kpc"
      ]
    },
    {
      "cell_type": "code",
      "metadata": {
        "ExecuteTime": {
          "end_time": "2019-08-02T01:35:42.257553Z",
          "start_time": "2019-08-02T01:35:42.254539Z"
        },
        "run_control": {
          "frozen": false,
          "read_only": false
        },
        "id": "7-nEP6KrOdCo"
      },
      "source": [
        "dist = 778\n",
        "dist_error = 33\n",
        "\n",
        "dist_kpc = dist * u.kpc\n",
        "dist_error_kpc = dist_error * u.kpc"
      ],
      "execution_count": 376,
      "outputs": []
    },
    {
      "cell_type": "markdown",
      "metadata": {
        "id": "_pTXgdTL8jv6"
      },
      "source": [
        "Calculate and print the distance like I printed the angular size.\n",
        "\n",
        "To get the physical size of the visible component of Andromeda you can use simple trigonometry: $y = r * sin(\\alpha) ~ \\sim ~ r \\alpha $ for small angles\n",
        "\n",
        "\n",
        "Print the physical size of the Andromeda galaxy (remember decimal digits, proper formatting etc etc).\n"
      ]
    },
    {
      "cell_type": "code",
      "source": [
        "print(\"The distance to Andromeda: \" +\n",
        "      r\"{:.0f} +/- {:2.1f}\".format(dist_kpc, dist_error_kpc))"
      ],
      "metadata": {
        "colab": {
          "base_uri": "https://localhost:8080/"
        },
        "id": "_YJGxmZ0ZRAM",
        "outputId": "de94fcc9-4305-4044-84fe-e7b6b6a8b2bf"
      },
      "execution_count": 377,
      "outputs": [
        {
          "output_type": "stream",
          "name": "stdout",
          "text": [
            "The distance to Andromeda: 778 kpc +/- 33.0 kpc\n"
          ]
        }
      ]
    },
    {
      "cell_type": "code",
      "metadata": {
        "ExecuteTime": {
          "end_time": "2019-08-02T01:35:42.815232Z",
          "start_time": "2019-08-02T01:35:42.810316Z"
        },
        "run_control": {
          "frozen": false,
          "read_only": false
        },
        "id": "0y_V9AuFOdCv",
        "colab": {
          "base_uri": "https://localhost:8080/"
        },
        "outputId": "d7a99569-229e-4c6d-c313-0d6431e797f8"
      },
      "source": [
        "m31angS.to(u.rad)\n",
        "\n",
        "m31Size = (dist_kpc * m31angS.to(u.rad).value).to(u.kpc)\n",
        "\n",
        "m31SizeError = (dist_error_kpc * m31angS.to(u.rad).value).to(u.kpc)\n",
        "\n",
        "print(\"Size of the visible component of Andromeda: \" +\n",
        "      r\"{:.0f} +/- {:2.1f}\".format(m31Size, m31SizeError))#, m31SizeError\n"
      ],
      "execution_count": 378,
      "outputs": [
        {
          "output_type": "stream",
          "name": "stdout",
          "text": [
            "Size of the visible component of Andromeda: 43 kpc +/- 1.8 kpc\n"
          ]
        }
      ]
    },
    {
      "cell_type": "markdown",
      "metadata": {
        "run_control": {
          "frozen": false,
          "read_only": false
        },
        "id": "97o52hRhOdCy"
      },
      "source": [
        "### find the first measurement  in your data table that includes all the luminous mass.\n",
        "\n",
        "What is the smallest radius in your data where the luminous mass is completely included and what is the veolcity at that radius?\n",
        "You can do it by broadcasting (see homework 3)"
      ]
    },
    {
      "cell_type": "code",
      "metadata": {
        "ExecuteTime": {
          "end_time": "2019-08-02T02:10:47.943179Z",
          "start_time": "2019-08-02T02:10:47.937541Z"
        },
        "run_control": {
          "frozen": false,
          "read_only": false
        },
        "id": "JF31dWaBOdCz",
        "colab": {
          "base_uri": "https://localhost:8080/",
          "height": 206
        },
        "outputId": "43349e6f-6a67-469d-e318-72bbefdb2a8f"
      },
      "source": [
        "m31_luminous = m31[m31[\"r\"] <= 43 + 1.8]\n",
        "m31_luminous.tail()"
      ],
      "execution_count": 379,
      "outputs": [
        {
          "output_type": "execute_result",
          "data": {
            "text/plain": [
              "         r        v      dv    err    err_tot\n",
              "29  19.781  246.140  13.446  1.989  13.592315\n",
              "30  23.738  236.511  11.729  1.580  11.834942\n",
              "31  28.485  232.335  16.577  2.106  16.710241\n",
              "32  34.182  233.530  27.353  3.826  27.619285\n",
              "33  41.019  230.444  52.432  9.815  53.342749"
            ],
            "text/html": [
              "\n",
              "  <div id=\"df-9e36c8e7-1eb3-4060-a0a9-dce48e162b84\" class=\"colab-df-container\">\n",
              "    <div>\n",
              "<style scoped>\n",
              "    .dataframe tbody tr th:only-of-type {\n",
              "        vertical-align: middle;\n",
              "    }\n",
              "\n",
              "    .dataframe tbody tr th {\n",
              "        vertical-align: top;\n",
              "    }\n",
              "\n",
              "    .dataframe thead th {\n",
              "        text-align: right;\n",
              "    }\n",
              "</style>\n",
              "<table border=\"1\" class=\"dataframe\">\n",
              "  <thead>\n",
              "    <tr style=\"text-align: right;\">\n",
              "      <th></th>\n",
              "      <th>r</th>\n",
              "      <th>v</th>\n",
              "      <th>dv</th>\n",
              "      <th>err</th>\n",
              "      <th>err_tot</th>\n",
              "    </tr>\n",
              "  </thead>\n",
              "  <tbody>\n",
              "    <tr>\n",
              "      <th>29</th>\n",
              "      <td>19.781</td>\n",
              "      <td>246.140</td>\n",
              "      <td>13.446</td>\n",
              "      <td>1.989</td>\n",
              "      <td>13.592315</td>\n",
              "    </tr>\n",
              "    <tr>\n",
              "      <th>30</th>\n",
              "      <td>23.738</td>\n",
              "      <td>236.511</td>\n",
              "      <td>11.729</td>\n",
              "      <td>1.580</td>\n",
              "      <td>11.834942</td>\n",
              "    </tr>\n",
              "    <tr>\n",
              "      <th>31</th>\n",
              "      <td>28.485</td>\n",
              "      <td>232.335</td>\n",
              "      <td>16.577</td>\n",
              "      <td>2.106</td>\n",
              "      <td>16.710241</td>\n",
              "    </tr>\n",
              "    <tr>\n",
              "      <th>32</th>\n",
              "      <td>34.182</td>\n",
              "      <td>233.530</td>\n",
              "      <td>27.353</td>\n",
              "      <td>3.826</td>\n",
              "      <td>27.619285</td>\n",
              "    </tr>\n",
              "    <tr>\n",
              "      <th>33</th>\n",
              "      <td>41.019</td>\n",
              "      <td>230.444</td>\n",
              "      <td>52.432</td>\n",
              "      <td>9.815</td>\n",
              "      <td>53.342749</td>\n",
              "    </tr>\n",
              "  </tbody>\n",
              "</table>\n",
              "</div>\n",
              "    <div class=\"colab-df-buttons\">\n",
              "\n",
              "  <div class=\"colab-df-container\">\n",
              "    <button class=\"colab-df-convert\" onclick=\"convertToInteractive('df-9e36c8e7-1eb3-4060-a0a9-dce48e162b84')\"\n",
              "            title=\"Convert this dataframe to an interactive table.\"\n",
              "            style=\"display:none;\">\n",
              "\n",
              "  <svg xmlns=\"http://www.w3.org/2000/svg\" height=\"24px\" viewBox=\"0 -960 960 960\">\n",
              "    <path d=\"M120-120v-720h720v720H120Zm60-500h600v-160H180v160Zm220 220h160v-160H400v160Zm0 220h160v-160H400v160ZM180-400h160v-160H180v160Zm440 0h160v-160H620v160ZM180-180h160v-160H180v160Zm440 0h160v-160H620v160Z\"/>\n",
              "  </svg>\n",
              "    </button>\n",
              "\n",
              "  <style>\n",
              "    .colab-df-container {\n",
              "      display:flex;\n",
              "      gap: 12px;\n",
              "    }\n",
              "\n",
              "    .colab-df-convert {\n",
              "      background-color: #E8F0FE;\n",
              "      border: none;\n",
              "      border-radius: 50%;\n",
              "      cursor: pointer;\n",
              "      display: none;\n",
              "      fill: #1967D2;\n",
              "      height: 32px;\n",
              "      padding: 0 0 0 0;\n",
              "      width: 32px;\n",
              "    }\n",
              "\n",
              "    .colab-df-convert:hover {\n",
              "      background-color: #E2EBFA;\n",
              "      box-shadow: 0px 1px 2px rgba(60, 64, 67, 0.3), 0px 1px 3px 1px rgba(60, 64, 67, 0.15);\n",
              "      fill: #174EA6;\n",
              "    }\n",
              "\n",
              "    .colab-df-buttons div {\n",
              "      margin-bottom: 4px;\n",
              "    }\n",
              "\n",
              "    [theme=dark] .colab-df-convert {\n",
              "      background-color: #3B4455;\n",
              "      fill: #D2E3FC;\n",
              "    }\n",
              "\n",
              "    [theme=dark] .colab-df-convert:hover {\n",
              "      background-color: #434B5C;\n",
              "      box-shadow: 0px 1px 3px 1px rgba(0, 0, 0, 0.15);\n",
              "      filter: drop-shadow(0px 1px 2px rgba(0, 0, 0, 0.3));\n",
              "      fill: #FFFFFF;\n",
              "    }\n",
              "  </style>\n",
              "\n",
              "    <script>\n",
              "      const buttonEl =\n",
              "        document.querySelector('#df-9e36c8e7-1eb3-4060-a0a9-dce48e162b84 button.colab-df-convert');\n",
              "      buttonEl.style.display =\n",
              "        google.colab.kernel.accessAllowed ? 'block' : 'none';\n",
              "\n",
              "      async function convertToInteractive(key) {\n",
              "        const element = document.querySelector('#df-9e36c8e7-1eb3-4060-a0a9-dce48e162b84');\n",
              "        const dataTable =\n",
              "          await google.colab.kernel.invokeFunction('convertToInteractive',\n",
              "                                                    [key], {});\n",
              "        if (!dataTable) return;\n",
              "\n",
              "        const docLinkHtml = 'Like what you see? Visit the ' +\n",
              "          '<a target=\"_blank\" href=https://colab.research.google.com/notebooks/data_table.ipynb>data table notebook</a>'\n",
              "          + ' to learn more about interactive tables.';\n",
              "        element.innerHTML = '';\n",
              "        dataTable['output_type'] = 'display_data';\n",
              "        await google.colab.output.renderOutput(dataTable, element);\n",
              "        const docLink = document.createElement('div');\n",
              "        docLink.innerHTML = docLinkHtml;\n",
              "        element.appendChild(docLink);\n",
              "      }\n",
              "    </script>\n",
              "  </div>\n",
              "\n",
              "\n",
              "    <div id=\"df-2c077400-65c5-4265-a14e-b267d589f414\">\n",
              "      <button class=\"colab-df-quickchart\" onclick=\"quickchart('df-2c077400-65c5-4265-a14e-b267d589f414')\"\n",
              "                title=\"Suggest charts\"\n",
              "                style=\"display:none;\">\n",
              "\n",
              "<svg xmlns=\"http://www.w3.org/2000/svg\" height=\"24px\"viewBox=\"0 0 24 24\"\n",
              "     width=\"24px\">\n",
              "    <g>\n",
              "        <path d=\"M19 3H5c-1.1 0-2 .9-2 2v14c0 1.1.9 2 2 2h14c1.1 0 2-.9 2-2V5c0-1.1-.9-2-2-2zM9 17H7v-7h2v7zm4 0h-2V7h2v10zm4 0h-2v-4h2v4z\"/>\n",
              "    </g>\n",
              "</svg>\n",
              "      </button>\n",
              "\n",
              "<style>\n",
              "  .colab-df-quickchart {\n",
              "      --bg-color: #E8F0FE;\n",
              "      --fill-color: #1967D2;\n",
              "      --hover-bg-color: #E2EBFA;\n",
              "      --hover-fill-color: #174EA6;\n",
              "      --disabled-fill-color: #AAA;\n",
              "      --disabled-bg-color: #DDD;\n",
              "  }\n",
              "\n",
              "  [theme=dark] .colab-df-quickchart {\n",
              "      --bg-color: #3B4455;\n",
              "      --fill-color: #D2E3FC;\n",
              "      --hover-bg-color: #434B5C;\n",
              "      --hover-fill-color: #FFFFFF;\n",
              "      --disabled-bg-color: #3B4455;\n",
              "      --disabled-fill-color: #666;\n",
              "  }\n",
              "\n",
              "  .colab-df-quickchart {\n",
              "    background-color: var(--bg-color);\n",
              "    border: none;\n",
              "    border-radius: 50%;\n",
              "    cursor: pointer;\n",
              "    display: none;\n",
              "    fill: var(--fill-color);\n",
              "    height: 32px;\n",
              "    padding: 0;\n",
              "    width: 32px;\n",
              "  }\n",
              "\n",
              "  .colab-df-quickchart:hover {\n",
              "    background-color: var(--hover-bg-color);\n",
              "    box-shadow: 0 1px 2px rgba(60, 64, 67, 0.3), 0 1px 3px 1px rgba(60, 64, 67, 0.15);\n",
              "    fill: var(--button-hover-fill-color);\n",
              "  }\n",
              "\n",
              "  .colab-df-quickchart-complete:disabled,\n",
              "  .colab-df-quickchart-complete:disabled:hover {\n",
              "    background-color: var(--disabled-bg-color);\n",
              "    fill: var(--disabled-fill-color);\n",
              "    box-shadow: none;\n",
              "  }\n",
              "\n",
              "  .colab-df-spinner {\n",
              "    border: 2px solid var(--fill-color);\n",
              "    border-color: transparent;\n",
              "    border-bottom-color: var(--fill-color);\n",
              "    animation:\n",
              "      spin 1s steps(1) infinite;\n",
              "  }\n",
              "\n",
              "  @keyframes spin {\n",
              "    0% {\n",
              "      border-color: transparent;\n",
              "      border-bottom-color: var(--fill-color);\n",
              "      border-left-color: var(--fill-color);\n",
              "    }\n",
              "    20% {\n",
              "      border-color: transparent;\n",
              "      border-left-color: var(--fill-color);\n",
              "      border-top-color: var(--fill-color);\n",
              "    }\n",
              "    30% {\n",
              "      border-color: transparent;\n",
              "      border-left-color: var(--fill-color);\n",
              "      border-top-color: var(--fill-color);\n",
              "      border-right-color: var(--fill-color);\n",
              "    }\n",
              "    40% {\n",
              "      border-color: transparent;\n",
              "      border-right-color: var(--fill-color);\n",
              "      border-top-color: var(--fill-color);\n",
              "    }\n",
              "    60% {\n",
              "      border-color: transparent;\n",
              "      border-right-color: var(--fill-color);\n",
              "    }\n",
              "    80% {\n",
              "      border-color: transparent;\n",
              "      border-right-color: var(--fill-color);\n",
              "      border-bottom-color: var(--fill-color);\n",
              "    }\n",
              "    90% {\n",
              "      border-color: transparent;\n",
              "      border-bottom-color: var(--fill-color);\n",
              "    }\n",
              "  }\n",
              "</style>\n",
              "\n",
              "      <script>\n",
              "        async function quickchart(key) {\n",
              "          const quickchartButtonEl =\n",
              "            document.querySelector('#' + key + ' button');\n",
              "          quickchartButtonEl.disabled = true;  // To prevent multiple clicks.\n",
              "          quickchartButtonEl.classList.add('colab-df-spinner');\n",
              "          try {\n",
              "            const charts = await google.colab.kernel.invokeFunction(\n",
              "                'suggestCharts', [key], {});\n",
              "          } catch (error) {\n",
              "            console.error('Error during call to suggestCharts:', error);\n",
              "          }\n",
              "          quickchartButtonEl.classList.remove('colab-df-spinner');\n",
              "          quickchartButtonEl.classList.add('colab-df-quickchart-complete');\n",
              "        }\n",
              "        (() => {\n",
              "          let quickchartButtonEl =\n",
              "            document.querySelector('#df-2c077400-65c5-4265-a14e-b267d589f414 button');\n",
              "          quickchartButtonEl.style.display =\n",
              "            google.colab.kernel.accessAllowed ? 'block' : 'none';\n",
              "        })();\n",
              "      </script>\n",
              "    </div>\n",
              "\n",
              "    </div>\n",
              "  </div>\n"
            ],
            "application/vnd.google.colaboratory.intrinsic+json": {
              "type": "dataframe",
              "summary": "{\n  \"name\": \"m31_luminous\",\n  \"rows\": 5,\n  \"fields\": [\n    {\n      \"column\": \"r\",\n      \"properties\": {\n        \"dtype\": \"number\",\n        \"std\": 8.415475476763033,\n        \"min\": 19.781,\n        \"max\": 41.019,\n        \"num_unique_values\": 5,\n        \"samples\": [\n          23.738,\n          41.019,\n          28.485\n        ],\n        \"semantic_type\": \"\",\n        \"description\": \"\"\n      }\n    },\n    {\n      \"column\": \"v\",\n      \"properties\": {\n        \"dtype\": \"number\",\n        \"std\": 6.1900456783451885,\n        \"min\": 230.444,\n        \"max\": 246.14,\n        \"num_unique_values\": 5,\n        \"samples\": [\n          236.511,\n          230.444,\n          232.335\n        ],\n        \"semantic_type\": \"\",\n        \"description\": \"\"\n      }\n    },\n    {\n      \"column\": \"dv\",\n      \"properties\": {\n        \"dtype\": \"number\",\n        \"std\": 16.853887127306866,\n        \"min\": 11.729,\n        \"max\": 52.432,\n        \"num_unique_values\": 5,\n        \"samples\": [\n          11.729,\n          52.432,\n          16.577\n        ],\n        \"semantic_type\": \"\",\n        \"description\": \"\"\n      }\n    },\n    {\n      \"column\": \"err\",\n      \"properties\": {\n        \"dtype\": \"number\",\n        \"std\": 3.4365202894788793,\n        \"min\": 1.58,\n        \"max\": 9.815,\n        \"num_unique_values\": 5,\n        \"samples\": [\n          1.58,\n          9.815,\n          2.106\n        ],\n        \"semantic_type\": \"\",\n        \"description\": \"\"\n      }\n    },\n    {\n      \"column\": \"err_tot\",\n      \"properties\": {\n        \"dtype\": \"number\",\n        \"std\": 17.187377909451524,\n        \"min\": 11.834941529217623,\n        \"max\": 53.34274879493932,\n        \"num_unique_values\": 5,\n        \"samples\": [\n          11.834941529217623,\n          53.34274879493932,\n          16.7102413208188\n        ],\n        \"semantic_type\": \"\",\n        \"description\": \"\"\n      }\n    }\n  ]\n}"
            }
          },
          "metadata": {},
          "execution_count": 379
        }
      ]
    },
    {
      "cell_type": "markdown",
      "source": [
        "\n",
        "\n",
        "> The smallest radius in my data where the luminous mass is completely included is 41.019 kpc, with a velocity at that radius of 230.444 km/s.\n",
        "\n"
      ],
      "metadata": {
        "id": "YNoQYpUnhmx2"
      }
    },
    {
      "cell_type": "markdown",
      "metadata": {
        "run_control": {
          "frozen": false,
          "read_only": false
        },
        "id": "TVWiU84XOdDA"
      },
      "source": [
        "We expect the velocity to decrease as $1 / \\sqrt{r}$ if all mass is included: the velocity at a radius twice as far as the radius that includes all the mass should be a factor $\\sqrt{2}$ slower, three times as far a factor $\\sqrt{3}$ slower."
      ]
    },
    {
      "cell_type": "markdown",
      "metadata": {
        "id": "b096Ax33SiXl"
      },
      "source": [
        "write a function that\n",
        "\n",
        "1. finds the smallest radius in the dataset that is at least N times the radius of the visible galaxy,\n",
        "\n",
        "2. takes as arguments:\n",
        "    - the data and\n",
        "    - N\n",
        "    - the size of the luminous component of the galaxy\n",
        "\n",
        "2. Returns the value of the radius and its uncertainty and the velocity and its uncertainty"
      ]
    },
    {
      "cell_type": "code",
      "source": [
        "m31[m31[\"r\"] >= (1 * 43)][\"r\"].min()"
      ],
      "metadata": {
        "colab": {
          "base_uri": "https://localhost:8080/"
        },
        "id": "sQugAwcd3x5A",
        "outputId": "7b6d73a8-b69c-49c8-924d-aef875f77be9"
      },
      "execution_count": 380,
      "outputs": [
        {
          "output_type": "execute_result",
          "data": {
            "text/plain": [
              "49.222"
            ]
          },
          "metadata": {},
          "execution_count": 380
        }
      ]
    },
    {
      "cell_type": "code",
      "source": [
        "nRadius = m31[m31[\"r\"] >= (1 * 43)][\"r\"].min()\n",
        "print(\"nRadius = \" + str(nRadius))"
      ],
      "metadata": {
        "colab": {
          "base_uri": "https://localhost:8080/"
        },
        "id": "kdCjoS-82AO2",
        "outputId": "4f7555d2-a144-4b16-c010-c7f23f8d2a76"
      },
      "execution_count": 381,
      "outputs": [
        {
          "output_type": "stream",
          "name": "stdout",
          "text": [
            "nRadius = 49.222\n"
          ]
        }
      ]
    },
    {
      "cell_type": "code",
      "source": [
        "velIndex = m31[\"v\"].index[m31[\"r\"] == nRadius][0]\n",
        "print(\"velocity index = \" + str(velIndex))"
      ],
      "metadata": {
        "colab": {
          "base_uri": "https://localhost:8080/"
        },
        "id": "Q2ovAGvV7l7I",
        "outputId": "b2294ec4-520d-4ec9-f2e7-60207a824e59"
      },
      "execution_count": 382,
      "outputs": [
        {
          "output_type": "stream",
          "name": "stdout",
          "text": [
            "velocity index = 34\n"
          ]
        }
      ]
    },
    {
      "cell_type": "code",
      "metadata": {
        "ExecuteTime": {
          "end_time": "2019-08-02T02:07:26.053511Z",
          "start_time": "2019-08-02T02:07:26.046677Z"
        },
        "run_control": {
          "frozen": false,
          "read_only": false
        },
        "id": "-_O34Bb7OdC2",
        "colab": {
          "base_uri": "https://localhost:8080/"
        },
        "outputId": "a496d8bf-725d-401f-da66-2cdcd321dd70"
      },
      "source": [
        "# first measurement including all mass\n",
        "def getradii(data, N, lumSize):\n",
        "  nRadius = data[data[\"r\"] >= (N * lumSize / 2)][\"r\"].min() * u.kpc\n",
        "  nRadius_err = m31SizeError / 2 * N\n",
        "\n",
        "  velIndex = data[\"v\"].index[data[\"r\"] == nRadius.value][0]\n",
        "  #nRadiusVel = data[\"v\"][velIndex] * u.Unit(\"km/s\")\n",
        "  nRadiusVel = data[\"v\"][velIndex] * u.km / u.s\n",
        "  nRadiusVel_err = data[\"err_tot\"][velIndex] * u.km / u.s\n",
        "\n",
        "  return nRadius, nRadius_err, nRadiusVel, nRadiusVel_err\n",
        "\n",
        "n = 1\n",
        "m31Rds = getradii(m31, n, m31Size.value + m31SizeError.value)\n",
        "print(\"{} times the radius of the visible component of Andromeda: \".format(n) +\n",
        "      r\"{:.2f} +/- {:2.1f} with a velocity of {:.0f} and error of {:.0f}\".format(m31Rds[0], m31Rds[1], m31Rds[2], m31Rds[3]))"
      ],
      "execution_count": 383,
      "outputs": [
        {
          "output_type": "stream",
          "name": "stdout",
          "text": [
            "1 times the radius of the visible component of Andromeda: 23.74 kpc +/- 0.9 kpc with a velocity of 237 km / s and error of 12 km / s\n"
          ]
        }
      ]
    },
    {
      "cell_type": "markdown",
      "metadata": {
        "ExecuteTime": {
          "end_time": "2019-08-01T18:13:58.231637Z",
          "start_time": "2019-08-01T18:13:58.229447Z"
        },
        "run_control": {
          "frozen": false,
          "read_only": false
        },
        "id": "ogu_iquzOdC5"
      },
      "source": [
        "### data visualization"
      ]
    },
    {
      "cell_type": "markdown",
      "metadata": {
        "id": "kJ6MujVJUyel"
      },
      "source": [
        "make a plot that shows\n",
        "\n",
        "1. the rotational curve of the galaxy (as a line) (e.g. with `df.plot(...)` if your data is stored as a dataframe `df`) showing the uncertainty dv at each quantity (if using `df.plot()` you can use the argument `yerr`)\n",
        "\n",
        "2. each velocity as an errorbar with error equal to `err_tot` in three different colors of your choice (not black)\n",
        "\n",
        "3. each velocity as an errorbar with error equal to `dv` in black\n",
        "\n",
        "4. the datapoint corresponding to N=1, 2, 3 each in a different color.\n",
        "\n",
        "5. add a legend that indicates the meaning of each color (```pl.legend()```)\n",
        "\n",
        "6. add a text that indicates the velocity and its uncertainty (dv and err) just below the largest errorbar (```pl.text()``` or ```ax.text()``` if you have an axis object)\n",
        "\n",
        "7. limit the x axis to the \"relevant\" portion of the data"
      ]
    },
    {
      "cell_type": "code",
      "source": [
        "def plotGal(gal, size, lim):\n",
        "  # ensure plotting vs radius in ascending order\n",
        "  df = gal.sort_values('r').reset_index(drop=True)\n",
        "\n",
        "  fig, ax = plt.subplots(figsize=(12,5))\n",
        "\n",
        "  # 1) rotation curve as a line\n",
        "  ax.plot(df['r'], df['v'], '-', lw=1.5, label='v')\n",
        "\n",
        "  # show dv as a faint band around the line (visual uncertainty)\n",
        "  ax.fill_between(df['r'], df['v'] - df['dv'], df['v'] + df['dv'],\n",
        "                  color='gray', alpha=0.25, label='dv')\n",
        "\n",
        "  # 3) each velocity as an errorbar with error equal to dv in black\n",
        "  ax.errorbar(df['r'], df['v'], yerr=df['dv'], fmt='none', ecolor='k',\n",
        "              elinewidth=1, alpha=0.9, label='dv (black)')\n",
        "\n",
        "  # 2) err_tot errorbars in three non-black colors: cycle points into 3 groups\n",
        "  colors = ['tab:blue', 'tab:orange', 'tab:green']   # three non-black colors\n",
        "  for i, color in enumerate(colors):\n",
        "      subset = df.iloc[i::3]   # take every 3rd point starting at i\n",
        "      ax.errorbar(subset['r'], subset['v'], yerr=subset['err_tot'],\n",
        "                  fmt='o', color=color, ecolor=color, alpha=0.8,\n",
        "                  capsize=3, markersize=4, label=f'err_tot ({i+1})')\n",
        "\n",
        "  # 4) datapoints for N = 1,2,3 (getradii returns r, r_err, v, v_err)\n",
        "  colors_N = ['red', 'purple', 'brown']\n",
        "  for i, N in enumerate((1,2,3)):\n",
        "      rN, rN_err, vN, vN_err = getradii(m31, N, size)   # pass diameter = rds (kpc)\n",
        "      ax.plot(rN, vN, marker='s', ms=8, color=colors_N[i], label=f'{N}xradius')\n",
        "      ax.errorbar(rN, vN, xerr=rN_err, yerr=vN_err, fmt='none',\n",
        "                  ecolor=colors_N[i], capsize=4, elinewidth=1.5)\n",
        "\n",
        "  # 6) place a text below the largest err_tot errorbar showing v, dv, err\n",
        "  df_lim = df[df['r'] <= lim]\n",
        "  idx_max = df_lim['err_tot'].idxmax()\n",
        "  r_max = float(df.loc[idx_max, 'r']) #~85\n",
        "  v_max = float(df.loc[idx_max, 'v'])\n",
        "  dv_max = float(df.loc[idx_max, 'dv'])\n",
        "  err_max = float(df.loc[idx_max, 'err'])         # the remaining error budget\n",
        "  errtot_max = float(df.loc[idx_max, 'err_tot'])\n",
        "\n",
        "  # compute a y position below the errorbar (a bit of padding)\n",
        "  vmin, vmax = df['v'].min(), df['v'].max()\n",
        "  y_text = v_max - errtot_max - 0.05*(vmax - vmin)\n",
        "  txt = f\"v = {v_max:.1f} km/s\\n dv = {dv_max:.1f} km/s\\n err = {err_max:.2f} km/s\"\n",
        "  ax.text(r_max, y_text, txt, ha='center', va='top', fontsize=9,\n",
        "          bbox=dict(facecolor='white', alpha=0.6, edgecolor='none'))\n",
        "\n",
        "  # Plot caption\n",
        "  caption = \"Figure 1: A plot of the orbital velocity of material in the galaxy, vs. radius from the galactic center. The blue line represents the rotational curve of the galaxy.\"\n",
        "  ax.text(0.5, -0.2, caption, ha='center', fontsize=10, va='top', transform=ax.transAxes, wrap=True)\n",
        "\n",
        "  # axis limits, title, labels, legend, grid\n",
        "  ax.set_title(\"M31 - Orbital Velocity vs. Radius\")\n",
        "  ax.set_xlim(0, lim)\n",
        "  ax.set_xlabel('radius (kpc)')\n",
        "  ax.set_ylabel('velocity (km/s)')\n",
        "  ax.legend(loc='best', fontsize=9)\n",
        "  ax.grid(alpha=0.3)\n",
        "\n",
        "  plt.tight_layout()\n",
        "  plt.show()\n",
        "\n",
        "# 7) the \"relevent\" portion of the data\n",
        "limit = 100 # kpc\n",
        "\n",
        "plotGal(m31, m31Size.value + m31SizeError.value, limit);"
      ],
      "metadata": {
        "colab": {
          "base_uri": "https://localhost:8080/",
          "height": 501
        },
        "id": "cHyKvZ7IG-3i",
        "outputId": "0ff50602-b61c-4fcb-8abf-cacf7dcc2a46"
      },
      "execution_count": 384,
      "outputs": [
        {
          "output_type": "display_data",
          "data": {
            "text/plain": [
              "<Figure size 1200x500 with 1 Axes>"
            ],
            "image/png": "[encoded data removed]"
          },
          "metadata": {}
        }
      ]
    },
    {
      "cell_type": "markdown",
      "metadata": {
        "id": "bIbv3YrhTo0X"
      },
      "source": [
        "Write a function that for a given dataset and a given luminous radius and a given N\n",
        "  \n",
        "  1) uses the function above ```getradii``` to find the radius at least as large as needed and the velocity at that radius,\n",
        "  \n",
        "  2) states the expected drop in rotational velocities according to Newton's law $v\\propto 1/\\sqrt{r}$\n",
        "  \n",
        "  3) calculates the ratio of radii and the ratio of velocities at N radii from the center N=1 and N=N (input, e.g. 2, 3 etc) with uncertainties,\n",
        "  \n",
        "  4) and stated whether that ratio is consistent within the uncertainties with Newton's law $v \\propto 1/\\sqrt{r}$\n",
        "  \n",
        "Your function should print\n",
        "\n",
        "     - the expected ratio based on the radii,\n",
        "     - the calculated ratio using ```dv```, and its uncertainty, -\n",
        "     - the 2-$\\sigma$ upper and lower limits of the calculated ratio\n",
        "     - whether the expected ratio is within the $2-\\sigma$ of the calculated ratio,\n",
        "  5) and the same using ```err```  instead of ```dv```"
      ]
    },
    {
      "cell_type": "code",
      "source": [
        "def vratios(data, luminous_diameter, N, err_kind='dv'):\n",
        "    \"\"\"\n",
        "    Compare measured v(N)/v(1) to Newton expectation v ∝ r^(-1/2).\n",
        "\n",
        "    Parameters\n",
        "    ----------\n",
        "    data : pandas.DataFrame\n",
        "        Must include column 'r' (kpc) and columns for uncertainties like 'dv' and/or 'err'.\n",
        "    luminous_diameter : float\n",
        "        Diameter of luminous component (kpc) as passed to getradii (keeps interface from before).\n",
        "    N : int\n",
        "        Radius multiplier (e.g. 2 or 3).\n",
        "    err_kind : str, optional\n",
        "        Which uncertainty column to use for the measured velocities ('dv' by default,\n",
        "        or 'err' if you want the remaining error budget). This function will attempt to\n",
        "        extract that column value for the returned radii. If not found it will use the\n",
        "        uncertainty returned by getradii.\n",
        "    \"\"\"\n",
        "\n",
        "    # find radii & velocities for N=1 and N=N\n",
        "    r1, r1_err, v1, v1_err = getradii(data, 1, luminous_diameter)\n",
        "    rN, rN_err, vN, vN_err = getradii(data, N, luminous_diameter)\n",
        "\n",
        "\n",
        "    # helper: find nearest row in dataframe to a returned radius and extract the requested uncertainty column if available\n",
        "    def _get_unc_from_df(radius_value, err_col, fallback_err):\n",
        "        try:\n",
        "            # assume 'r' column exists\n",
        "            idx = (data['r'] - radius_value).abs().idxmin()\n",
        "            # allow a tiny tolerance check (optional); we'll accept nearest\n",
        "            if err_col in data.columns:\n",
        "                val = float(data.loc[idx, err_col])\n",
        "                return val\n",
        "            else:\n",
        "                return float(fallback_err)\n",
        "        except Exception:\n",
        "            return float(fallback_err)\n",
        "\n",
        "    # choose which uncertainty to use for the measured velocities\n",
        "    v1_unc = _get_unc_from_df(r1, err_kind, v1_err)\n",
        "    vN_unc = _get_unc_from_df(rN, err_kind, vN_err)\n",
        "\n",
        "\n",
        "    def _to_value(x, unit):\n",
        "      \"\"\"\n",
        "      Convert x to a plain float in given astropy unit.\n",
        "      If x is an astropy Quantity, convert; otherwise cast to float.\n",
        "      \"\"\"\n",
        "      if isinstance(x, u.Quantity):\n",
        "          return x.to(unit).value\n",
        "      else:\n",
        "          return float(x)\n",
        "\n",
        "\n",
        "    # coerce returned values to floats in expected units:\n",
        "    # radii -> kpc, velocities -> km/s, velocity-uncerts -> km/s\n",
        "    r1 = _to_value(r1, u.kpc)\n",
        "    r1_err = _to_value(r1_err, u.kpc)\n",
        "    rN = _to_value(rN, u.kpc)\n",
        "    rN_err = _to_value(rN_err, u.kpc)\n",
        "\n",
        "    v1 = _to_value(v1, u.km / u.s)\n",
        "    vN = _to_value(vN, u.km / u.s)\n",
        "\n",
        "    # --- expected ratio from Newton: v_N / v_1 = sqrt(r1 / rN)\n",
        "    expected_ratio = np.sqrt(r1 / rN)\n",
        "    # propagate uncertainties on r1 and rN into expected_ratio:\n",
        "    # (σE/E)^2 = 1/4 * [ (σr1/r1)^2 + (σrN/rN)^2 ]\n",
        "    frac_r1 = (r1_err / r1) if r1 > 0 else 0.0\n",
        "    frac_rN = (rN_err / rN) if rN > 0 else 0.0\n",
        "    expected_frac_err = 0.5 * np.sqrt(frac_r1**2 + frac_rN**2)\n",
        "    expected_ratio_unc = expected_ratio * expected_frac_err\n",
        "\n",
        "    # --- measured ratio and its uncertainty (assume v1 and vN uncorrelated)\n",
        "    if v1 == 0 or vN == 0:\n",
        "        raise ValueError(\"v1 or vN is zero which prevents ratio/error propagation.\")\n",
        "    measured_ratio = vN / v1\n",
        "    measured_ratio_unc = measured_ratio * np.sqrt((vN_unc / vN)**2 + (v1_unc / v1)**2)\n",
        "\n",
        "    # two-sigma interval for measured ratio\n",
        "    measured_lo_2sigma = measured_ratio - 2 * measured_ratio_unc\n",
        "    measured_hi_2sigma = measured_ratio + 2 * measured_ratio_unc\n",
        "\n",
        "    # check consistency: expected_ratio within measured 2-sigma?\n",
        "    consistent = (expected_ratio >= measured_lo_2sigma) and (expected_ratio <= measured_hi_2sigma)\n",
        "\n",
        "    # print results\n",
        "    print(f\"--- vratios (using '{err_kind}' uncertainties) ---\")\n",
        "    print(f\"Radii returned: r1 = {r1:.3f} ± {r1_err:.3f} kpc, r{N} = {rN:.3f} ± {rN_err:.3f} kpc\")\n",
        "    print()\n",
        "    print(f\"Expected ratio from Newton (v_N / v_1 = sqrt(r1/rN)):\")\n",
        "    print(f\"  expected = {expected_ratio:.4f} ± {expected_ratio_unc:.4f} (1σ from radii)\")\n",
        "    print()\n",
        "    print(\"Measured ratio (using measured velocities and uncertainties):\")\n",
        "    print(f\"  measured = {measured_ratio:.4f} ± {measured_ratio_unc:.4f} (1σ, using '{err_kind}')\")\n",
        "    print(f\"  2σ lower = {measured_lo_2sigma:.4f}\")\n",
        "    print(f\"  2σ upper = {measured_hi_2sigma:.4f}\")\n",
        "    print()\n",
        "    print(f\"Is the expected ratio within the measured 2σ interval? {'YES' if consistent else 'NO'}\")\n",
        "    print()"
      ],
      "metadata": {
        "id": "utELEN5zX9jo"
      },
      "execution_count": 385,
      "outputs": []
    },
    {
      "cell_type": "code",
      "source": [
        "m31_lum_diam = m31Size.value + m31SizeError.value\n",
        "m31_lum_diam"
      ],
      "metadata": {
        "colab": {
          "base_uri": "https://localhost:8080/"
        },
        "id": "J4caizxhRuBu",
        "outputId": "23e5d4b2-18aa-474d-ae60-9e498dcccde0"
      },
      "execution_count": 386,
      "outputs": [
        {
          "output_type": "execute_result",
          "data": {
            "text/plain": [
              "np.float64(44.82768228004559)"
            ]
          },
          "metadata": {},
          "execution_count": 386
        }
      ]
    },
    {
      "cell_type": "code",
      "metadata": {
        "ExecuteTime": {
          "end_time": "2019-08-02T02:22:20.233692Z",
          "start_time": "2019-08-02T02:22:20.225631Z"
        },
        "run_control": {
          "frozen": false,
          "read_only": false
        },
        "id": "8TPkTIthOdDI",
        "colab": {
          "base_uri": "https://localhost:8080/"
        },
        "outputId": "38f2fb4d-b5a3-4e05-95c4-f8fc0d6075e1"
      },
      "source": [
        "\n",
        "\n",
        "vratios(m31, m31_lum_diam, 1)\n",
        "\n",
        "#vratios(m31, m31Rds, 1, err='err')"
      ],
      "execution_count": 387,
      "outputs": [
        {
          "output_type": "stream",
          "name": "stdout",
          "text": [
            "--- vratios (using 'dv' uncertainties) ---\n",
            "Radii returned: r1 = 23.738 ± 0.912 kpc, r1 = 23.738 ± 0.912 kpc\n",
            "\n",
            "Expected ratio from Newton (v_N / v_1 = sqrt(r1/rN)):\n",
            "  expected = 1.0000 ± 0.0272 (1σ from radii)\n",
            "\n",
            "Measured ratio (using measured velocities and uncertainties):\n",
            "  measured = 1.0000 ± 0.0701 (1σ, using 'dv')\n",
            "  2σ lower = 0.8597\n",
            "  2σ upper = 1.1403\n",
            "\n",
            "Is the expected ratio within the measured 2σ interval? YES\n",
            "\n"
          ]
        }
      ]
    },
    {
      "cell_type": "code",
      "source": [
        "vratios(m31, m31_lum_diam, 1, err_kind='err')"
      ],
      "metadata": {
        "colab": {
          "base_uri": "https://localhost:8080/"
        },
        "id": "ZILOVYWdiMLY",
        "outputId": "65d98be6-0c1f-4874-b631-64f4dadde113"
      },
      "execution_count": 388,
      "outputs": [
        {
          "output_type": "stream",
          "name": "stdout",
          "text": [
            "--- vratios (using 'err' uncertainties) ---\n",
            "Radii returned: r1 = 23.738 ± 0.912 kpc, r1 = 23.738 ± 0.912 kpc\n",
            "\n",
            "Expected ratio from Newton (v_N / v_1 = sqrt(r1/rN)):\n",
            "  expected = 1.0000 ± 0.0272 (1σ from radii)\n",
            "\n",
            "Measured ratio (using measured velocities and uncertainties):\n",
            "  measured = 1.0000 ± 0.0094 (1σ, using 'err')\n",
            "  2σ lower = 0.9811\n",
            "  2σ upper = 1.0189\n",
            "\n",
            "Is the expected ratio within the measured 2σ interval? YES\n",
            "\n"
          ]
        }
      ]
    },
    {
      "cell_type": "code",
      "metadata": {
        "ExecuteTime": {
          "end_time": "2019-08-02T02:22:26.272266Z",
          "start_time": "2019-08-02T02:22:26.263760Z"
        },
        "run_control": {
          "frozen": false,
          "read_only": false
        },
        "id": "XeQoBcM7OdDP",
        "colab": {
          "base_uri": "https://localhost:8080/"
        },
        "outputId": "e874c74b-1531-4ead-b564-6b79ac557be8"
      },
      "source": [
        "vratios(m31, m31_lum_diam, 2)"
      ],
      "execution_count": 389,
      "outputs": [
        {
          "output_type": "stream",
          "name": "stdout",
          "text": [
            "--- vratios (using 'dv' uncertainties) ---\n",
            "Radii returned: r1 = 23.738 ± 0.912 kpc, r2 = 49.222 ± 1.824 kpc\n",
            "\n",
            "Expected ratio from Newton (v_N / v_1 = sqrt(r1/rN)):\n",
            "  expected = 0.6945 ± 0.0185 (1σ from radii)\n",
            "\n",
            "Measured ratio (using measured velocities and uncertainties):\n",
            "  measured = 1.0024 ± 0.4651 (1σ, using 'dv')\n",
            "  2σ lower = 0.0721\n",
            "  2σ upper = 1.9326\n",
            "\n",
            "Is the expected ratio within the measured 2σ interval? YES\n",
            "\n"
          ]
        }
      ]
    },
    {
      "cell_type": "code",
      "metadata": {
        "ExecuteTime": {
          "end_time": "2019-08-02T02:24:18.604569Z",
          "start_time": "2019-08-02T02:24:18.596278Z"
        },
        "run_control": {
          "frozen": false,
          "read_only": false
        },
        "id": "Stigi9P_OdDW",
        "colab": {
          "base_uri": "https://localhost:8080/"
        },
        "outputId": "a8a07a0b-9668-4dce-f287-6277dab48884"
      },
      "source": [
        "vratios(m31, m31_lum_diam, 2, err_kind='err')"
      ],
      "execution_count": 390,
      "outputs": [
        {
          "output_type": "stream",
          "name": "stdout",
          "text": [
            "--- vratios (using 'err' uncertainties) ---\n",
            "Radii returned: r1 = 23.738 ± 0.912 kpc, r2 = 49.222 ± 1.824 kpc\n",
            "\n",
            "Expected ratio from Newton (v_N / v_1 = sqrt(r1/rN)):\n",
            "  expected = 0.6945 ± 0.0185 (1σ from radii)\n",
            "\n",
            "Measured ratio (using measured velocities and uncertainties):\n",
            "  measured = 1.0024 ± 0.1014 (1σ, using 'err')\n",
            "  2σ lower = 0.7996\n",
            "  2σ upper = 1.2051\n",
            "\n",
            "Is the expected ratio within the measured 2σ interval? NO\n",
            "\n"
          ]
        }
      ]
    },
    {
      "cell_type": "markdown",
      "metadata": {
        "ExecuteTime": {
          "end_time": "2019-08-02T00:36:41.637045Z",
          "start_time": "2019-08-02T00:36:41.634825Z"
        },
        "run_control": {
          "frozen": false,
          "read_only": false
        },
        "id": "6me5k4c1OdDY"
      },
      "source": [
        "### Discuss!"
      ]
    },
    {
      "cell_type": "markdown",
      "metadata": {
        "run_control": {
          "frozen": false,
          "read_only": false
        },
        "id": "QIHRn8UlOdDZ"
      },
      "source": [
        "\n",
        "---\n",
        "\n",
        "\n",
        "## do the same for the Milky Way. If your functions were create properly you should be able to reuse them seamlessly\n",
        "\n",
        "---\n",
        "\n"
      ]
    },
    {
      "cell_type": "code",
      "metadata": {
        "id": "NVp9cJzv-Dic"
      },
      "source": [
        "#delete all below"
      ],
      "execution_count": 391,
      "outputs": []
    },
    {
      "cell_type": "markdown",
      "metadata": {
        "run_control": {
          "frozen": false,
          "read_only": false
        },
        "id": "oxQofaCKOdDg"
      },
      "source": [
        "https://en.wikipedia.org/wiki/Milky_Way\n",
        "    "
      ]
    },
    {
      "cell_type": "code",
      "source": [
        "mw = pd.read_csv(\"https://raw.githubusercontent.com/fedhere/DSPS_FBianco/refs/heads/main/HW4/mw.csv\", skiprows=1, sep=\",\")\n",
        "mw = mw.rename({\"R(kpc)\": \"r\", \"V(km/s)\": \"v\", \"St.dev.\": \"dv\", \"St.error\": \"err\"}, axis=1)\n",
        "mw[\"err_tot\"] = np.hypot(mw[\"dv\"], mw[\"err\"])\n",
        "\n",
        "mw.head()"
      ],
      "metadata": {
        "colab": {
          "base_uri": "https://localhost:8080/",
          "height": 206
        },
        "id": "Qq78J9PFNDNv",
        "outputId": "3a4fe6be-acd1-438e-cccf-53f728bea973"
      },
      "execution_count": 392,
      "outputs": [
        {
          "output_type": "execute_result",
          "data": {
            "text/plain": [
              "       r        v      dv     err    err_tot\n",
              "0  0.010  119.061  41.832  32.714  53.104821\n",
              "1  0.012  115.268  35.199  17.100  39.132846\n",
              "2  0.014  117.392  35.152  14.429  37.998147\n",
              "3  0.017  118.475  35.252  14.870  38.259906\n",
              "4  0.021  110.386  33.817  14.427  36.765851"
            ],
            "text/html": [
              "\n",
              "  <div id=\"df-6992a31c-aba4-4202-84e2-5ba9aa7019d3\" class=\"colab-df-container\">\n",
              "    <div>\n",
              "<style scoped>\n",
              "    .dataframe tbody tr th:only-of-type {\n",
              "        vertical-align: middle;\n",
              "    }\n",
              "\n",
              "    .dataframe tbody tr th {\n",
              "        vertical-align: top;\n",
              "    }\n",
              "\n",
              "    .dataframe thead th {\n",
              "        text-align: right;\n",
              "    }\n",
              "</style>\n",
              "<table border=\"1\" class=\"dataframe\">\n",
              "  <thead>\n",
              "    <tr style=\"text-align: right;\">\n",
              "      <th></th>\n",
              "      <th>r</th>\n",
              "      <th>v</th>\n",
              "      <th>dv</th>\n",
              "      <th>err</th>\n",
              "      <th>err_tot</th>\n",
              "    </tr>\n",
              "  </thead>\n",
              "  <tbody>\n",
              "    <tr>\n",
              "      <th>0</th>\n",
              "      <td>0.010</td>\n",
              "      <td>119.061</td>\n",
              "      <td>41.832</td>\n",
              "      <td>32.714</td>\n",
              "      <td>53.104821</td>\n",
              "    </tr>\n",
              "    <tr>\n",
              "      <th>1</th>\n",
              "      <td>0.012</td>\n",
              "      <td>115.268</td>\n",
              "      <td>35.199</td>\n",
              "      <td>17.100</td>\n",
              "      <td>39.132846</td>\n",
              "    </tr>\n",
              "    <tr>\n",
              "      <th>2</th>\n",
              "      <td>0.014</td>\n",
              "      <td>117.392</td>\n",
              "      <td>35.152</td>\n",
              "      <td>14.429</td>\n",
              "      <td>37.998147</td>\n",
              "    </tr>\n",
              "    <tr>\n",
              "      <th>3</th>\n",
              "      <td>0.017</td>\n",
              "      <td>118.475</td>\n",
              "      <td>35.252</td>\n",
              "      <td>14.870</td>\n",
              "      <td>38.259906</td>\n",
              "    </tr>\n",
              "    <tr>\n",
              "      <th>4</th>\n",
              "      <td>0.021</td>\n",
              "      <td>110.386</td>\n",
              "      <td>33.817</td>\n",
              "      <td>14.427</td>\n",
              "      <td>36.765851</td>\n",
              "    </tr>\n",
              "  </tbody>\n",
              "</table>\n",
              "</div>\n",
              "    <div class=\"colab-df-buttons\">\n",
              "\n",
              "  <div class=\"colab-df-container\">\n",
              "    <button class=\"colab-df-convert\" onclick=\"convertToInteractive('df-6992a31c-aba4-4202-84e2-5ba9aa7019d3')\"\n",
              "            title=\"Convert this dataframe to an interactive table.\"\n",
              "            style=\"display:none;\">\n",
              "\n",
              "  <svg xmlns=\"http://www.w3.org/2000/svg\" height=\"24px\" viewBox=\"0 -960 960 960\">\n",
              "    <path d=\"M120-120v-720h720v720H120Zm60-500h600v-160H180v160Zm220 220h160v-160H400v160Zm0 220h160v-160H400v160ZM180-400h160v-160H180v160Zm440 0h160v-160H620v160ZM180-180h160v-160H180v160Zm440 0h160v-160H620v160Z\"/>\n",
              "  </svg>\n",
              "    </button>\n",
              "\n",
              "  <style>\n",
              "    .colab-df-container {\n",
              "      display:flex;\n",
              "      gap: 12px;\n",
              "    }\n",
              "\n",
              "    .colab-df-convert {\n",
              "      background-color: #E8F0FE;\n",
              "      border: none;\n",
              "      border-radius: 50%;\n",
              "      cursor: pointer;\n",
              "      display: none;\n",
              "      fill: #1967D2;\n",
              "      height: 32px;\n",
              "      padding: 0 0 0 0;\n",
              "      width: 32px;\n",
              "    }\n",
              "\n",
              "    .colab-df-convert:hover {\n",
              "      background-color: #E2EBFA;\n",
              "      box-shadow: 0px 1px 2px rgba(60, 64, 67, 0.3), 0px 1px 3px 1px rgba(60, 64, 67, 0.15);\n",
              "      fill: #174EA6;\n",
              "    }\n",
              "\n",
              "    .colab-df-buttons div {\n",
              "      margin-bottom: 4px;\n",
              "    }\n",
              "\n",
              "    [theme=dark] .colab-df-convert {\n",
              "      background-color: #3B4455;\n",
              "      fill: #D2E3FC;\n",
              "    }\n",
              "\n",
              "    [theme=dark] .colab-df-convert:hover {\n",
              "      background-color: #434B5C;\n",
              "      box-shadow: 0px 1px 3px 1px rgba(0, 0, 0, 0.15);\n",
              "      filter: drop-shadow(0px 1px 2px rgba(0, 0, 0, 0.3));\n",
              "      fill: #FFFFFF;\n",
              "    }\n",
              "  </style>\n",
              "\n",
              "    <script>\n",
              "      const buttonEl =\n",
              "        document.querySelector('#df-6992a31c-aba4-4202-84e2-5ba9aa7019d3 button.colab-df-convert');\n",
              "      buttonEl.style.display =\n",
              "        google.colab.kernel.accessAllowed ? 'block' : 'none';\n",
              "\n",
              "      async function convertToInteractive(key) {\n",
              "        const element = document.querySelector('#df-6992a31c-aba4-4202-84e2-5ba9aa7019d3');\n",
              "        const dataTable =\n",
              "          await google.colab.kernel.invokeFunction('convertToInteractive',\n",
              "                                                    [key], {});\n",
              "        if (!dataTable) return;\n",
              "\n",
              "        const docLinkHtml = 'Like what you see? Visit the ' +\n",
              "          '<a target=\"_blank\" href=https://colab.research.google.com/notebooks/data_table.ipynb>data table notebook</a>'\n",
              "          + ' to learn more about interactive tables.';\n",
              "        element.innerHTML = '';\n",
              "        dataTable['output_type'] = 'display_data';\n",
              "        await google.colab.output.renderOutput(dataTable, element);\n",
              "        const docLink = document.createElement('div');\n",
              "        docLink.innerHTML = docLinkHtml;\n",
              "        element.appendChild(docLink);\n",
              "      }\n",
              "    </script>\n",
              "  </div>\n",
              "\n",
              "\n",
              "    <div id=\"df-cc7b5f5b-f3ed-4f1e-ae78-995220e44c81\">\n",
              "      <button class=\"colab-df-quickchart\" onclick=\"quickchart('df-cc7b5f5b-f3ed-4f1e-ae78-995220e44c81')\"\n",
              "                title=\"Suggest charts\"\n",
              "                style=\"display:none;\">\n",
              "\n",
              "<svg xmlns=\"http://www.w3.org/2000/svg\" height=\"24px\"viewBox=\"0 0 24 24\"\n",
              "     width=\"24px\">\n",
              "    <g>\n",
              "        <path d=\"M19 3H5c-1.1 0-2 .9-2 2v14c0 1.1.9 2 2 2h14c1.1 0 2-.9 2-2V5c0-1.1-.9-2-2-2zM9 17H7v-7h2v7zm4 0h-2V7h2v10zm4 0h-2v-4h2v4z\"/>\n",
              "    </g>\n",
              "</svg>\n",
              "      </button>\n",
              "\n",
              "<style>\n",
              "  .colab-df-quickchart {\n",
              "      --bg-color: #E8F0FE;\n",
              "      --fill-color: #1967D2;\n",
              "      --hover-bg-color: #E2EBFA;\n",
              "      --hover-fill-color: #174EA6;\n",
              "      --disabled-fill-color: #AAA;\n",
              "      --disabled-bg-color: #DDD;\n",
              "  }\n",
              "\n",
              "  [theme=dark] .colab-df-quickchart {\n",
              "      --bg-color: #3B4455;\n",
              "      --fill-color: #D2E3FC;\n",
              "      --hover-bg-color: #434B5C;\n",
              "      --hover-fill-color: #FFFFFF;\n",
              "      --disabled-bg-color: #3B4455;\n",
              "      --disabled-fill-color: #666;\n",
              "  }\n",
              "\n",
              "  .colab-df-quickchart {\n",
              "    background-color: var(--bg-color);\n",
              "    border: none;\n",
              "    border-radius: 50%;\n",
              "    cursor: pointer;\n",
              "    display: none;\n",
              "    fill: var(--fill-color);\n",
              "    height: 32px;\n",
              "    padding: 0;\n",
              "    width: 32px;\n",
              "  }\n",
              "\n",
              "  .colab-df-quickchart:hover {\n",
              "    background-color: var(--hover-bg-color);\n",
              "    box-shadow: 0 1px 2px rgba(60, 64, 67, 0.3), 0 1px 3px 1px rgba(60, 64, 67, 0.15);\n",
              "    fill: var(--button-hover-fill-color);\n",
              "  }\n",
              "\n",
              "  .colab-df-quickchart-complete:disabled,\n",
              "  .colab-df-quickchart-complete:disabled:hover {\n",
              "    background-color: var(--disabled-bg-color);\n",
              "    fill: var(--disabled-fill-color);\n",
              "    box-shadow: none;\n",
              "  }\n",
              "\n",
              "  .colab-df-spinner {\n",
              "    border: 2px solid var(--fill-color);\n",
              "    border-color: transparent;\n",
              "    border-bottom-color: var(--fill-color);\n",
              "    animation:\n",
              "      spin 1s steps(1) infinite;\n",
              "  }\n",
              "\n",
              "  @keyframes spin {\n",
              "    0% {\n",
              "      border-color: transparent;\n",
              "      border-bottom-color: var(--fill-color);\n",
              "      border-left-color: var(--fill-color);\n",
              "    }\n",
              "    20% {\n",
              "      border-color: transparent;\n",
              "      border-left-color: var(--fill-color);\n",
              "      border-top-color: var(--fill-color);\n",
              "    }\n",
              "    30% {\n",
              "      border-color: transparent;\n",
              "      border-left-color: var(--fill-color);\n",
              "      border-top-color: var(--fill-color);\n",
              "      border-right-color: var(--fill-color);\n",
              "    }\n",
              "    40% {\n",
              "      border-color: transparent;\n",
              "      border-right-color: var(--fill-color);\n",
              "      border-top-color: var(--fill-color);\n",
              "    }\n",
              "    60% {\n",
              "      border-color: transparent;\n",
              "      border-right-color: var(--fill-color);\n",
              "    }\n",
              "    80% {\n",
              "      border-color: transparent;\n",
              "      border-right-color: var(--fill-color);\n",
              "      border-bottom-color: var(--fill-color);\n",
              "    }\n",
              "    90% {\n",
              "      border-color: transparent;\n",
              "      border-bottom-color: var(--fill-color);\n",
              "    }\n",
              "  }\n",
              "</style>\n",
              "\n",
              "      <script>\n",
              "        async function quickchart(key) {\n",
              "          const quickchartButtonEl =\n",
              "            document.querySelector('#' + key + ' button');\n",
              "          quickchartButtonEl.disabled = true;  // To prevent multiple clicks.\n",
              "          quickchartButtonEl.classList.add('colab-df-spinner');\n",
              "          try {\n",
              "            const charts = await google.colab.kernel.invokeFunction(\n",
              "                'suggestCharts', [key], {});\n",
              "          } catch (error) {\n",
              "            console.error('Error during call to suggestCharts:', error);\n",
              "          }\n",
              "          quickchartButtonEl.classList.remove('colab-df-spinner');\n",
              "          quickchartButtonEl.classList.add('colab-df-quickchart-complete');\n",
              "        }\n",
              "        (() => {\n",
              "          let quickchartButtonEl =\n",
              "            document.querySelector('#df-cc7b5f5b-f3ed-4f1e-ae78-995220e44c81 button');\n",
              "          quickchartButtonEl.style.display =\n",
              "            google.colab.kernel.accessAllowed ? 'block' : 'none';\n",
              "        })();\n",
              "      </script>\n",
              "    </div>\n",
              "\n",
              "    </div>\n",
              "  </div>\n"
            ],
            "application/vnd.google.colaboratory.intrinsic+json": {
              "type": "dataframe",
              "variable_name": "mw",
              "summary": "{\n  \"name\": \"mw\",\n  \"rows\": 64,\n  \"fields\": [\n    {\n      \"column\": \"r\",\n      \"properties\": {\n        \"dtype\": \"number\",\n        \"std\": 348.14477313379405,\n        \"min\": 0.01,\n        \"max\": 1682.532,\n        \"num_unique_values\": 64,\n        \"samples\": [\n          131.047,\n          676.172,\n          0.01\n        ],\n        \"semantic_type\": \"\",\n        \"description\": \"\"\n      }\n    },\n    {\n      \"column\": \"v\",\n      \"properties\": {\n        \"dtype\": \"number\",\n        \"std\": 52.1619010436839,\n        \"min\": 93.042,\n        \"max\": 255.3,\n        \"num_unique_values\": 64,\n        \"samples\": [\n          128.756,\n          158.66,\n          119.061\n        ],\n        \"semantic_type\": \"\",\n        \"description\": \"\"\n      }\n    },\n    {\n      \"column\": \"dv\",\n      \"properties\": {\n        \"dtype\": \"number\",\n        \"std\": 41.25528582232519,\n        \"min\": 3.37,\n        \"max\": 165.096,\n        \"num_unique_values\": 64,\n        \"samples\": [\n          88.515,\n          104.697,\n          41.832\n        ],\n        \"semantic_type\": \"\",\n        \"description\": \"\"\n      }\n    },\n    {\n      \"column\": \"err\",\n      \"properties\": {\n        \"dtype\": \"number\",\n        \"std\": 23.51346646625445,\n        \"min\": 0.868,\n        \"max\": 110.484,\n        \"num_unique_values\": 64,\n        \"samples\": [\n          39.433,\n          34.157,\n          32.714\n        ],\n        \"semantic_type\": \"\",\n        \"description\": \"\"\n      }\n    },\n    {\n      \"column\": \"err_tot\",\n      \"properties\": {\n        \"dtype\": \"number\",\n        \"std\": 46.90770278863923,\n        \"min\": 3.7365620562222706,\n        \"max\": 197.2176047314235,\n        \"num_unique_values\": 64,\n        \"samples\": [\n          96.90132462458911,\n          110.12793677355442,\n          53.10482106174542\n        ],\n        \"semantic_type\": \"\",\n        \"description\": \"\"\n      }\n    }\n  ]\n}"
            }
          },
          "metadata": {},
          "execution_count": 392
        }
      ]
    },
    {
      "cell_type": "code",
      "source": [
        "mw.shape"
      ],
      "metadata": {
        "colab": {
          "base_uri": "https://localhost:8080/"
        },
        "id": "vFZcfzpiObbe",
        "outputId": "7ce9b0da-ebdf-4121-c4cc-37dcd56b87bd"
      },
      "execution_count": 393,
      "outputs": [
        {
          "output_type": "execute_result",
          "data": {
            "text/plain": [
              "(64, 5)"
            ]
          },
          "metadata": {},
          "execution_count": 393
        }
      ]
    },
    {
      "cell_type": "code",
      "source": [
        "mw.describe()"
      ],
      "metadata": {
        "colab": {
          "base_uri": "https://localhost:8080/",
          "height": 300
        },
        "id": "wRomNHj9Vg5t",
        "outputId": "ecc0975d-7e4a-453c-97e7-931779a7fac8"
      },
      "execution_count": 394,
      "outputs": [
        {
          "output_type": "execute_result",
          "data": {
            "text/plain": [
              "                 r           v          dv         err     err_tot\n",
              "count    64.000000   64.000000   64.000000   64.000000   64.000000\n",
              "mean    142.281500  187.101219   48.249063   19.003297   52.371692\n",
              "std     348.144773   52.161901   41.255286   23.513466   46.907703\n",
              "min       0.010000   93.042000    3.370000    0.868000    3.736562\n",
              "25%       0.177250  138.676250   12.585500    2.709750   13.190724\n",
              "50%       3.133500  204.576000   35.288500   13.923000   38.696376\n",
              "75%      55.298250  235.920500   68.412750   24.791250   73.655114\n",
              "max    1682.532000  255.300000  165.096000  110.484000  197.217605"
            ],
            "text/html": [
              "\n",
              "  <div id=\"df-ccf493b9-fd45-4b72-9ffd-2a5806894559\" class=\"colab-df-container\">\n",
              "    <div>\n",
              "<style scoped>\n",
              "    .dataframe tbody tr th:only-of-type {\n",
              "        vertical-align: middle;\n",
              "    }\n",
              "\n",
              "    .dataframe tbody tr th {\n",
              "        vertical-align: top;\n",
              "    }\n",
              "\n",
              "    .dataframe thead th {\n",
              "        text-align: right;\n",
              "    }\n",
              "</style>\n",
              "<table border=\"1\" class=\"dataframe\">\n",
              "  <thead>\n",
              "    <tr style=\"text-align: right;\">\n",
              "      <th></th>\n",
              "      <th>r</th>\n",
              "      <th>v</th>\n",
              "      <th>dv</th>\n",
              "      <th>err</th>\n",
              "      <th>err_tot</th>\n",
              "    </tr>\n",
              "  </thead>\n",
              "  <tbody>\n",
              "    <tr>\n",
              "      <th>count</th>\n",
              "      <td>64.000000</td>\n",
              "      <td>64.000000</td>\n",
              "      <td>64.000000</td>\n",
              "      <td>64.000000</td>\n",
              "      <td>64.000000</td>\n",
              "    </tr>\n",
              "    <tr>\n",
              "      <th>mean</th>\n",
              "      <td>142.281500</td>\n",
              "      <td>187.101219</td>\n",
              "      <td>48.249063</td>\n",
              "      <td>19.003297</td>\n",
              "      <td>52.371692</td>\n",
              "    </tr>\n",
              "    <tr>\n",
              "      <th>std</th>\n",
              "      <td>348.144773</td>\n",
              "      <td>52.161901</td>\n",
              "      <td>41.255286</td>\n",
              "      <td>23.513466</td>\n",
              "      <td>46.907703</td>\n",
              "    </tr>\n",
              "    <tr>\n",
              "      <th>min</th>\n",
              "      <td>0.010000</td>\n",
              "      <td>93.042000</td>\n",
              "      <td>3.370000</td>\n",
              "      <td>0.868000</td>\n",
              "      <td>3.736562</td>\n",
              "    </tr>\n",
              "    <tr>\n",
              "      <th>25%</th>\n",
              "      <td>0.177250</td>\n",
              "      <td>138.676250</td>\n",
              "      <td>12.585500</td>\n",
              "      <td>2.709750</td>\n",
              "      <td>13.190724</td>\n",
              "    </tr>\n",
              "    <tr>\n",
              "      <th>50%</th>\n",
              "      <td>3.133500</td>\n",
              "      <td>204.576000</td>\n",
              "      <td>35.288500</td>\n",
              "      <td>13.923000</td>\n",
              "      <td>38.696376</td>\n",
              "    </tr>\n",
              "    <tr>\n",
              "      <th>75%</th>\n",
              "      <td>55.298250</td>\n",
              "      <td>235.920500</td>\n",
              "      <td>68.412750</td>\n",
              "      <td>24.791250</td>\n",
              "      <td>73.655114</td>\n",
              "    </tr>\n",
              "    <tr>\n",
              "      <th>max</th>\n",
              "      <td>1682.532000</td>\n",
              "      <td>255.300000</td>\n",
              "      <td>165.096000</td>\n",
              "      <td>110.484000</td>\n",
              "      <td>197.217605</td>\n",
              "    </tr>\n",
              "  </tbody>\n",
              "</table>\n",
              "</div>\n",
              "    <div class=\"colab-df-buttons\">\n",
              "\n",
              "  <div class=\"colab-df-container\">\n",
              "    <button class=\"colab-df-convert\" onclick=\"convertToInteractive('df-ccf493b9-fd45-4b72-9ffd-2a5806894559')\"\n",
              "            title=\"Convert this dataframe to an interactive table.\"\n",
              "            style=\"display:none;\">\n",
              "\n",
              "  <svg xmlns=\"http://www.w3.org/2000/svg\" height=\"24px\" viewBox=\"0 -960 960 960\">\n",
              "    <path d=\"M120-120v-720h720v720H120Zm60-500h600v-160H180v160Zm220 220h160v-160H400v160Zm0 220h160v-160H400v160ZM180-400h160v-160H180v160Zm440 0h160v-160H620v160ZM180-180h160v-160H180v160Zm440 0h160v-160H620v160Z\"/>\n",
              "  </svg>\n",
              "    </button>\n",
              "\n",
              "  <style>\n",
              "    .colab-df-container {\n",
              "      display:flex;\n",
              "      gap: 12px;\n",
              "    }\n",
              "\n",
              "    .colab-df-convert {\n",
              "      background-color: #E8F0FE;\n",
              "      border: none;\n",
              "      border-radius: 50%;\n",
              "      cursor: pointer;\n",
              "      display: none;\n",
              "      fill: #1967D2;\n",
              "      height: 32px;\n",
              "      padding: 0 0 0 0;\n",
              "      width: 32px;\n",
              "    }\n",
              "\n",
              "    .colab-df-convert:hover {\n",
              "      background-color: #E2EBFA;\n",
              "      box-shadow: 0px 1px 2px rgba(60, 64, 67, 0.3), 0px 1px 3px 1px rgba(60, 64, 67, 0.15);\n",
              "      fill: #174EA6;\n",
              "    }\n",
              "\n",
              "    .colab-df-buttons div {\n",
              "      margin-bottom: 4px;\n",
              "    }\n",
              "\n",
              "    [theme=dark] .colab-df-convert {\n",
              "      background-color: #3B4455;\n",
              "      fill: #D2E3FC;\n",
              "    }\n",
              "\n",
              "    [theme=dark] .colab-df-convert:hover {\n",
              "      background-color: #434B5C;\n",
              "      box-shadow: 0px 1px 3px 1px rgba(0, 0, 0, 0.15);\n",
              "      filter: drop-shadow(0px 1px 2px rgba(0, 0, 0, 0.3));\n",
              "      fill: #FFFFFF;\n",
              "    }\n",
              "  </style>\n",
              "\n",
              "    <script>\n",
              "      const buttonEl =\n",
              "        document.querySelector('#df-ccf493b9-fd45-4b72-9ffd-2a5806894559 button.colab-df-convert');\n",
              "      buttonEl.style.display =\n",
              "        google.colab.kernel.accessAllowed ? 'block' : 'none';\n",
              "\n",
              "      async function convertToInteractive(key) {\n",
              "        const element = document.querySelector('#df-ccf493b9-fd45-4b72-9ffd-2a5806894559');\n",
              "        const dataTable =\n",
              "          await google.colab.kernel.invokeFunction('convertToInteractive',\n",
              "                                                    [key], {});\n",
              "        if (!dataTable) return;\n",
              "\n",
              "        const docLinkHtml = 'Like what you see? Visit the ' +\n",
              "          '<a target=\"_blank\" href=https://colab.research.google.com/notebooks/data_table.ipynb>data table notebook</a>'\n",
              "          + ' to learn more about interactive tables.';\n",
              "        element.innerHTML = '';\n",
              "        dataTable['output_type'] = 'display_data';\n",
              "        await google.colab.output.renderOutput(dataTable, element);\n",
              "        const docLink = document.createElement('div');\n",
              "        docLink.innerHTML = docLinkHtml;\n",
              "        element.appendChild(docLink);\n",
              "      }\n",
              "    </script>\n",
              "  </div>\n",
              "\n",
              "\n",
              "    <div id=\"df-478d2dc8-876c-4583-8c55-897b07218019\">\n",
              "      <button class=\"colab-df-quickchart\" onclick=\"quickchart('df-478d2dc8-876c-4583-8c55-897b07218019')\"\n",
              "                title=\"Suggest charts\"\n",
              "                style=\"display:none;\">\n",
              "\n",
              "<svg xmlns=\"http://www.w3.org/2000/svg\" height=\"24px\"viewBox=\"0 0 24 24\"\n",
              "     width=\"24px\">\n",
              "    <g>\n",
              "        <path d=\"M19 3H5c-1.1 0-2 .9-2 2v14c0 1.1.9 2 2 2h14c1.1 0 2-.9 2-2V5c0-1.1-.9-2-2-2zM9 17H7v-7h2v7zm4 0h-2V7h2v10zm4 0h-2v-4h2v4z\"/>\n",
              "    </g>\n",
              "</svg>\n",
              "      </button>\n",
              "\n",
              "<style>\n",
              "  .colab-df-quickchart {\n",
              "      --bg-color: #E8F0FE;\n",
              "      --fill-color: #1967D2;\n",
              "      --hover-bg-color: #E2EBFA;\n",
              "      --hover-fill-color: #174EA6;\n",
              "      --disabled-fill-color: #AAA;\n",
              "      --disabled-bg-color: #DDD;\n",
              "  }\n",
              "\n",
              "  [theme=dark] .colab-df-quickchart {\n",
              "      --bg-color: #3B4455;\n",
              "      --fill-color: #D2E3FC;\n",
              "      --hover-bg-color: #434B5C;\n",
              "      --hover-fill-color: #FFFFFF;\n",
              "      --disabled-bg-color: #3B4455;\n",
              "      --disabled-fill-color: #666;\n",
              "  }\n",
              "\n",
              "  .colab-df-quickchart {\n",
              "    background-color: var(--bg-color);\n",
              "    border: none;\n",
              "    border-radius: 50%;\n",
              "    cursor: pointer;\n",
              "    display: none;\n",
              "    fill: var(--fill-color);\n",
              "    height: 32px;\n",
              "    padding: 0;\n",
              "    width: 32px;\n",
              "  }\n",
              "\n",
              "  .colab-df-quickchart:hover {\n",
              "    background-color: var(--hover-bg-color);\n",
              "    box-shadow: 0 1px 2px rgba(60, 64, 67, 0.3), 0 1px 3px 1px rgba(60, 64, 67, 0.15);\n",
              "    fill: var(--button-hover-fill-color);\n",
              "  }\n",
              "\n",
              "  .colab-df-quickchart-complete:disabled,\n",
              "  .colab-df-quickchart-complete:disabled:hover {\n",
              "    background-color: var(--disabled-bg-color);\n",
              "    fill: var(--disabled-fill-color);\n",
              "    box-shadow: none;\n",
              "  }\n",
              "\n",
              "  .colab-df-spinner {\n",
              "    border: 2px solid var(--fill-color);\n",
              "    border-color: transparent;\n",
              "    border-bottom-color: var(--fill-color);\n",
              "    animation:\n",
              "      spin 1s steps(1) infinite;\n",
              "  }\n",
              "\n",
              "  @keyframes spin {\n",
              "    0% {\n",
              "      border-color: transparent;\n",
              "      border-bottom-color: var(--fill-color);\n",
              "      border-left-color: var(--fill-color);\n",
              "    }\n",
              "    20% {\n",
              "      border-color: transparent;\n",
              "      border-left-color: var(--fill-color);\n",
              "      border-top-color: var(--fill-color);\n",
              "    }\n",
              "    30% {\n",
              "      border-color: transparent;\n",
              "      border-left-color: var(--fill-color);\n",
              "      border-top-color: var(--fill-color);\n",
              "      border-right-color: var(--fill-color);\n",
              "    }\n",
              "    40% {\n",
              "      border-color: transparent;\n",
              "      border-right-color: var(--fill-color);\n",
              "      border-top-color: var(--fill-color);\n",
              "    }\n",
              "    60% {\n",
              "      border-color: transparent;\n",
              "      border-right-color: var(--fill-color);\n",
              "    }\n",
              "    80% {\n",
              "      border-color: transparent;\n",
              "      border-right-color: var(--fill-color);\n",
              "      border-bottom-color: var(--fill-color);\n",
              "    }\n",
              "    90% {\n",
              "      border-color: transparent;\n",
              "      border-bottom-color: var(--fill-color);\n",
              "    }\n",
              "  }\n",
              "</style>\n",
              "\n",
              "      <script>\n",
              "        async function quickchart(key) {\n",
              "          const quickchartButtonEl =\n",
              "            document.querySelector('#' + key + ' button');\n",
              "          quickchartButtonEl.disabled = true;  // To prevent multiple clicks.\n",
              "          quickchartButtonEl.classList.add('colab-df-spinner');\n",
              "          try {\n",
              "            const charts = await google.colab.kernel.invokeFunction(\n",
              "                'suggestCharts', [key], {});\n",
              "          } catch (error) {\n",
              "            console.error('Error during call to suggestCharts:', error);\n",
              "          }\n",
              "          quickchartButtonEl.classList.remove('colab-df-spinner');\n",
              "          quickchartButtonEl.classList.add('colab-df-quickchart-complete');\n",
              "        }\n",
              "        (() => {\n",
              "          let quickchartButtonEl =\n",
              "            document.querySelector('#df-478d2dc8-876c-4583-8c55-897b07218019 button');\n",
              "          quickchartButtonEl.style.display =\n",
              "            google.colab.kernel.accessAllowed ? 'block' : 'none';\n",
              "        })();\n",
              "      </script>\n",
              "    </div>\n",
              "\n",
              "    </div>\n",
              "  </div>\n"
            ],
            "application/vnd.google.colaboratory.intrinsic+json": {
              "type": "dataframe",
              "summary": "{\n  \"name\": \"mw\",\n  \"rows\": 8,\n  \"fields\": [\n    {\n      \"column\": \"r\",\n      \"properties\": {\n        \"dtype\": \"number\",\n        \"std\": 575.7997058754096,\n        \"min\": 0.01,\n        \"max\": 1682.532,\n        \"num_unique_values\": 8,\n        \"samples\": [\n          142.2815,\n          3.1335,\n          64.0\n        ],\n        \"semantic_type\": \"\",\n        \"description\": \"\"\n      }\n    },\n    {\n      \"column\": \"v\",\n      \"properties\": {\n        \"dtype\": \"number\",\n        \"std\": 78.41992053390165,\n        \"min\": 52.1619010436839,\n        \"max\": 255.3,\n        \"num_unique_values\": 8,\n        \"samples\": [\n          187.10121875,\n          204.576,\n          64.0\n        ],\n        \"semantic_type\": \"\",\n        \"description\": \"\"\n      }\n    },\n    {\n      \"column\": \"dv\",\n      \"properties\": {\n        \"dtype\": \"number\",\n        \"std\": 49.956171694703876,\n        \"min\": 3.37,\n        \"max\": 165.096,\n        \"num_unique_values\": 8,\n        \"samples\": [\n          48.2490625,\n          35.2885,\n          64.0\n        ],\n        \"semantic_type\": \"\",\n        \"description\": \"\"\n      }\n    },\n    {\n      \"column\": \"err\",\n      \"properties\": {\n        \"dtype\": \"number\",\n        \"std\": 37.089048610570984,\n        \"min\": 0.868,\n        \"max\": 110.484,\n        \"num_unique_values\": 8,\n        \"samples\": [\n          19.003296875,\n          13.923,\n          64.0\n        ],\n        \"semantic_type\": \"\",\n        \"description\": \"\"\n      }\n    },\n    {\n      \"column\": \"err_tot\",\n      \"properties\": {\n        \"dtype\": \"number\",\n        \"std\": 59.83228222866599,\n        \"min\": 3.7365620562222706,\n        \"max\": 197.2176047314235,\n        \"num_unique_values\": 8,\n        \"samples\": [\n          52.371692035726596,\n          38.696375755576554,\n          64.0\n        ],\n        \"semantic_type\": \"\",\n        \"description\": \"\"\n      }\n    }\n  ]\n}"
            }
          },
          "metadata": {},
          "execution_count": 394
        }
      ]
    },
    {
      "cell_type": "code",
      "source": [
        "caption = \"Figure 1: A histogram of HII Region distances from the center of the Milky Way. The distribution is power law /exponential / skewed towards the lower values.\"\n",
        "\n",
        "plt.hist(mw[\"r\"], bins=30, edgecolor='black', log=False)\n",
        "plt.title(\"Milky Way - Histogram of Distances\")\n",
        "plt.xlabel(\"Distance (kpc)\")\n",
        "plt.ylabel(\"Frequency\")\n",
        "plt.grid()\n",
        "plt.figtext(0.5, 0.1, caption, ha='center', fontsize=10, wrap=True)\n",
        "plt.tight_layout(rect=[0, 0.15, 1, 1])"
      ],
      "metadata": {
        "colab": {
          "base_uri": "https://localhost:8080/",
          "height": 459
        },
        "id": "VrPaZYKtUWdw",
        "outputId": "c632ec33-77d9-4093-da4b-a0e05ea45eea"
      },
      "execution_count": 395,
      "outputs": [
        {
          "output_type": "display_data",
          "data": {
            "text/plain": [
              "<Figure size 640x480 with 1 Axes>"
            ],
            "image/png": "[encoded data removed]"
          },
          "metadata": {}
        }
      ]
    },
    {
      "cell_type": "code",
      "source": [
        "caption = \"Figure 2: A histogram of HII Region orbital velocities from the center of the Milky Way. The distribution is multimodal / non-symmetric.\"\n",
        "\n",
        "plt.hist(mw[\"v\"], bins=30, edgecolor='black', log=False)\n",
        "plt.title(\"Milky Way - Histogram of Orbital Velocities\")\n",
        "plt.xlabel(\"Velocity (km/s)\")\n",
        "plt.ylabel(\"Frequency\")\n",
        "plt.grid()\n",
        "plt.figtext(0.5, 0.1, caption, ha='center', fontsize=10, wrap=True)\n",
        "plt.tight_layout(rect=[0, 0.15, 1, 1])"
      ],
      "metadata": {
        "colab": {
          "base_uri": "https://localhost:8080/",
          "height": 459
        },
        "id": "d4DN_n3dUjKv",
        "outputId": "0e195b6b-8848-4eb8-8665-e55a8279af71"
      },
      "execution_count": 396,
      "outputs": [
        {
          "output_type": "display_data",
          "data": {
            "text/plain": [
              "<Figure size 640x480 with 1 Axes>"
            ],
            "image/png": "[encoded data removed]"
          },
          "metadata": {}
        }
      ]
    },
    {
      "cell_type": "code",
      "source": [
        "caption = \"Figure 3: A histogram of uncertainties in the measured wavelengths of the HII Line. The distribution is multimodal / non-symmetric.\"\n",
        "\n",
        "plt.hist(mw[\"dv\"], bins=30, edgecolor='black', log=False)\n",
        "plt.title(\"Milky Way - Histogram of Uncertainties\")\n",
        "plt.xlabel(\"Uncertainty\")\n",
        "plt.ylabel(\"Frequency\")\n",
        "plt.grid()\n",
        "plt.figtext(0.5, 0.1, caption, ha='center', fontsize=10, wrap=True)\n",
        "plt.tight_layout(rect=[0, 0.15, 1, 1])"
      ],
      "metadata": {
        "colab": {
          "base_uri": "https://localhost:8080/",
          "height": 459
        },
        "id": "ZnAZeuhbUnRX",
        "outputId": "b58d9571-ac01-45da-b8ab-356eadb0be64"
      },
      "execution_count": 397,
      "outputs": [
        {
          "output_type": "display_data",
          "data": {
            "text/plain": [
              "<Figure size 640x480 with 1 Axes>"
            ],
            "image/png": "[encoded data removed]"
          },
          "metadata": {}
        }
      ]
    },
    {
      "cell_type": "code",
      "source": [
        "caption = \"Figure 4: A histogram of the remaining error budget in the uncertainty of measured wavelengths of the HII Line. The distribution is skewed to lower values.\"\n",
        "\n",
        "plt.hist(mw[\"err\"], bins=30, edgecolor='black', log=False)\n",
        "plt.title(\"Milky Way - Histogram of Error\")\n",
        "plt.xlabel(\"Error\")\n",
        "plt.ylabel(\"Frequency\")\n",
        "plt.grid()\n",
        "plt.figtext(0.5, 0.1, caption, ha='center', fontsize=10, wrap=True)\n",
        "plt.tight_layout(rect=[0, 0.15, 1, 1])"
      ],
      "metadata": {
        "colab": {
          "base_uri": "https://localhost:8080/",
          "height": 459
        },
        "id": "NfBnsw_yUrxI",
        "outputId": "671240b7-0a93-4dbe-d7db-1ca20ce61e35"
      },
      "execution_count": 398,
      "outputs": [
        {
          "output_type": "display_data",
          "data": {
            "text/plain": [
              "<Figure size 640x480 with 1 Axes>"
            ],
            "image/png": "[encoded data removed]"
          },
          "metadata": {}
        }
      ]
    },
    {
      "cell_type": "code",
      "source": [
        "caption = \"Figure 5: A histogram of the total error in the uncertainty of measured wavelengths of the HII Line. The distribution is multimodal / non-symmetric.\"\n",
        "\n",
        "plt.hist(mw[\"err_tot\"], bins=30, edgecolor='black', log=False)\n",
        "plt.title(\"Milky Way - Histogram of Total Error\")\n",
        "plt.xlabel(\"Error\")\n",
        "plt.ylabel(\"Frequency\")\n",
        "plt.grid()\n",
        "plt.figtext(0.5, 0.1, caption, ha='center', fontsize=10, wrap=True)\n",
        "plt.tight_layout(rect=[0, 0.15, 1, 1])"
      ],
      "metadata": {
        "colab": {
          "base_uri": "https://localhost:8080/",
          "height": 459
        },
        "id": "cNz2b38OUvfp",
        "outputId": "41950537-92cd-4dc3-d9e2-7e85490f40df"
      },
      "execution_count": 399,
      "outputs": [
        {
          "output_type": "display_data",
          "data": {
            "text/plain": [
              "<Figure size 640x480 with 1 Axes>"
            ],
            "image/png": "[encoded data removed]"
          },
          "metadata": {}
        }
      ]
    },
    {
      "cell_type": "code",
      "source": [
        "mwSize = 26.8 * u.kpc\n",
        "mwSize_err = 1.1 * u.kpc\n",
        "mw_lum_diam = mwSize.value + mwSize_err.value\n",
        "\n",
        "n = 1  # 1 x the radius of the galaxy's luminous content\n",
        "mwRds = getradii(mw, n, mw_lum_diam)\n",
        "print(\"{} times the radius of the visible component of the Milky Way: \".format(n) +\n",
        "      r\"{:.2f} +/- {:2.1f} with a velocity of {:.0f} and error of {:.0f}\".format(mwRds[0], mwRds[1], mwRds[2], mwRds[3]))"
      ],
      "metadata": {
        "colab": {
          "base_uri": "https://localhost:8080/"
        },
        "id": "UVqhQ5NQMBLJ",
        "outputId": "4987673b-45ed-4a63-c3ff-79d6ca39d550"
      },
      "execution_count": 400,
      "outputs": [
        {
          "output_type": "stream",
          "name": "stdout",
          "text": [
            "1 times the radius of the visible component of the Milky Way: 14.70 kpc +/- 0.9 kpc with a velocity of 247 km / s and error of 42 km / s\n"
          ]
        }
      ]
    },
    {
      "cell_type": "code",
      "source": [
        "# The \"relevent\" portion of the data\n",
        "limit = 60 # kpc\n",
        "\n",
        "plotGal(mw, mw_lum_diam, limit);"
      ],
      "metadata": {
        "colab": {
          "base_uri": "https://localhost:8080/",
          "height": 501
        },
        "id": "qKFWLThZO0iU",
        "outputId": "f4804171-dca8-42e3-b301-98248788e2b4"
      },
      "execution_count": 401,
      "outputs": [
        {
          "output_type": "display_data",
          "data": {
            "text/plain": [
              "<Figure size 1200x500 with 1 Axes>"
            ],
            "image/png": "[encoded data removed]"
          },
          "metadata": {}
        }
      ]
    },
    {
      "cell_type": "code",
      "source": [
        "vratios(mw, mw_lum_diam, 1)"
      ],
      "metadata": {
        "colab": {
          "base_uri": "https://localhost:8080/"
        },
        "id": "5XPaApdeTV9t",
        "outputId": "a000d24e-9aaa-4c15-99d2-1d19e5429a8b"
      },
      "execution_count": 402,
      "outputs": [
        {
          "output_type": "stream",
          "name": "stdout",
          "text": [
            "--- vratios (using 'dv' uncertainties) ---\n",
            "Radii returned: r1 = 14.698 ± 0.912 kpc, r1 = 14.698 ± 0.912 kpc\n",
            "\n",
            "Expected ratio from Newton (v_N / v_1 = sqrt(r1/rN)):\n",
            "  expected = 1.0000 ± 0.0439 (1σ from radii)\n",
            "\n",
            "Measured ratio (using measured velocities and uncertainties):\n",
            "  measured = 1.0000 ± 0.2410 (1σ, using 'dv')\n",
            "  2σ lower = 0.5180\n",
            "  2σ upper = 1.4820\n",
            "\n",
            "Is the expected ratio within the measured 2σ interval? YES\n",
            "\n"
          ]
        }
      ]
    },
    {
      "cell_type": "code",
      "source": [
        "vratios(mw, mw_lum_diam, 1, err_kind='err')"
      ],
      "metadata": {
        "colab": {
          "base_uri": "https://localhost:8080/"
        },
        "id": "APuDABPvTcnv",
        "outputId": "cc3cdfa1-d533-474c-a867-82664156ab76"
      },
      "execution_count": 403,
      "outputs": [
        {
          "output_type": "stream",
          "name": "stdout",
          "text": [
            "--- vratios (using 'err' uncertainties) ---\n",
            "Radii returned: r1 = 14.698 ± 0.912 kpc, r1 = 14.698 ± 0.912 kpc\n",
            "\n",
            "Expected ratio from Newton (v_N / v_1 = sqrt(r1/rN)):\n",
            "  expected = 1.0000 ± 0.0439 (1σ from radii)\n",
            "\n",
            "Measured ratio (using measured velocities and uncertainties):\n",
            "  measured = 1.0000 ± 0.0233 (1σ, using 'err')\n",
            "  2σ lower = 0.9534\n",
            "  2σ upper = 1.0466\n",
            "\n",
            "Is the expected ratio within the measured 2σ interval? YES\n",
            "\n"
          ]
        }
      ]
    },
    {
      "cell_type": "code",
      "source": [
        "vratios(mw, mw_lum_diam, 2)"
      ],
      "metadata": {
        "colab": {
          "base_uri": "https://localhost:8080/"
        },
        "id": "NJfFX59xTmUD",
        "outputId": "4d43b975-809e-46b5-de98-a93341338ff2"
      },
      "execution_count": 404,
      "outputs": [
        {
          "output_type": "stream",
          "name": "stdout",
          "text": [
            "--- vratios (using 'dv' uncertainties) ---\n",
            "Radii returned: r1 = 14.698 ± 0.912 kpc, r2 = 30.477 ± 1.824 kpc\n",
            "\n",
            "Expected ratio from Newton (v_N / v_1 = sqrt(r1/rN)):\n",
            "  expected = 0.6945 ± 0.0299 (1σ from radii)\n",
            "\n",
            "Measured ratio (using measured velocities and uncertainties):\n",
            "  measured = 0.9720 ± 0.3454 (1σ, using 'dv')\n",
            "  2σ lower = 0.2813\n",
            "  2σ upper = 1.6628\n",
            "\n",
            "Is the expected ratio within the measured 2σ interval? YES\n",
            "\n"
          ]
        }
      ]
    },
    {
      "cell_type": "code",
      "source": [
        "vratios(mw, mw_lum_diam, 2, err_kind='err')"
      ],
      "metadata": {
        "colab": {
          "base_uri": "https://localhost:8080/"
        },
        "id": "tEo-zwSATqxU",
        "outputId": "f56f682c-c0cc-4ef1-bf74-0f7ea85e4d82"
      },
      "execution_count": 405,
      "outputs": [
        {
          "output_type": "stream",
          "name": "stdout",
          "text": [
            "--- vratios (using 'err' uncertainties) ---\n",
            "Radii returned: r1 = 14.698 ± 0.912 kpc, r2 = 30.477 ± 1.824 kpc\n",
            "\n",
            "Expected ratio from Newton (v_N / v_1 = sqrt(r1/rN)):\n",
            "  expected = 0.6945 ± 0.0299 (1σ from radii)\n",
            "\n",
            "Measured ratio (using measured velocities and uncertainties):\n",
            "  measured = 0.9720 ± 0.0847 (1σ, using 'err')\n",
            "  2σ lower = 0.8027\n",
            "  2σ upper = 1.1413\n",
            "\n",
            "Is the expected ratio within the measured 2σ interval? NO\n",
            "\n"
          ]
        }
      ]
    }
  ]
}
