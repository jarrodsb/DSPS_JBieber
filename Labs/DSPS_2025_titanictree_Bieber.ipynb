{
  "nbformat": 4,
  "nbformat_minor": 0,
  "metadata": {
    "anaconda-cloud": {},
    "kernelspec": {
      "display_name": "Python 3",
      "language": "python",
      "name": "python3"
    },
    "language_info": {
      "codemirror_mode": {
        "name": "ipython",
        "version": 3
      },
      "file_extension": ".py",
      "mimetype": "text/x-python",
      "name": "python",
      "nbconvert_exporter": "python",
      "pygments_lexer": "ipython3",
      "version": "3.7.3"
    },
    "latex_envs": {
      "LaTeX_envs_menu_present": true,
      "autoclose": false,
      "autocomplete": true,
      "bibliofile": "biblio.bib",
      "cite_by": "apalike",
      "current_citInitial": 1,
      "eqLabelWithNumbers": true,
      "eqNumInitial": 1,
      "hotkeys": {
        "equation": "Ctrl-E",
        "itemize": "Ctrl-I"
      },
      "labels_anchors": false,
      "latex_user_defs": false,
      "report_style_numbering": false,
      "user_envs_cfg": false
    },
    "nbTranslate": {
      "displayLangs": [
        "*"
      ],
      "hotkey": "alt-t",
      "langInMainMenu": true,
      "sourceLang": "en",
      "targetLang": "fr",
      "useGoogleTranslate": true
    },
    "toc": {
      "base_numbering": 1,
      "nav_menu": {
        "height": "203px",
        "width": "252px"
      },
      "number_sections": false,
      "sideBar": true,
      "skip_h1_title": false,
      "title_cell": "Table of Contents",
      "title_sidebar": "Contents",
      "toc_cell": false,
      "toc_position": {},
      "toc_section_display": "block",
      "toc_window_display": false
    },
    "colab": {
      "provenance": [],
      "include_colab_link": true
    }
  },
  "cells": [
    {
      "cell_type": "markdown",
      "metadata": {
        "id": "view-in-github",
        "colab_type": "text"
      },
      "source": [
        "<a href=\"https://colab.research.google.com/github/jarrodsb/DSPS_JBieber/blob/main/Labs/DSPS_2025_titanictree_Bieber.ipynb\" target=\"_parent\"><img src=\"https://colab.research.google.com/assets/colab-badge.svg\" alt=\"Open In Colab\"/></a>"
      ]
    },
    {
      "cell_type": "code",
      "metadata": {
        "ExecuteTime": {
          "end_time": "2019-10-28T03:54:27.722114Z",
          "start_time": "2019-10-28T03:54:26.787711Z"
        },
        "id": "gCbLLA_Bg12Z",
        "outputId": "96f03357-e5ac-4196-a8dc-c6850afc7488",
        "colab": {
          "base_uri": "https://localhost:8080/"
        }
      },
      "source": [
        "import pandas as pd\n",
        "import numpy as np\n",
        "import pylab as pl\n",
        "import os\n",
        "import json\n",
        "%pylab inline\n",
        "pl.style.use(\"https://raw.githubusercontent.com/fedhere/DSPS_FBianco/master/fbb.mplstyle\")"
      ],
      "execution_count": 1,
      "outputs": [
        {
          "output_type": "stream",
          "name": "stdout",
          "text": [
            "Populating the interactive namespace from numpy and matplotlib\n"
          ]
        }
      ]
    },
    {
      "cell_type": "markdown",
      "metadata": {
        "id": "iPgdtu9gsinm"
      },
      "source": [
        "# 1 reading data from kaggle"
      ]
    },
    {
      "cell_type": "code",
      "metadata": {
        "id": "pCUXEwM5g12d",
        "outputId": "653fc770-fb5f-49e5-c8d1-12f2613cdf87",
        "colab": {
          "base_uri": "https://localhost:8080/"
        }
      },
      "source": [
        "pip install kaggle"
      ],
      "execution_count": 2,
      "outputs": [
        {
          "output_type": "stream",
          "name": "stdout",
          "text": [
            "Requirement already satisfied: kaggle in /usr/local/lib/python3.12/dist-packages (1.7.4.5)\n",
            "Requirement already satisfied: bleach in /usr/local/lib/python3.12/dist-packages (from kaggle) (6.2.0)\n",
            "Requirement already satisfied: certifi>=14.05.14 in /usr/local/lib/python3.12/dist-packages (from kaggle) (2025.10.5)\n",
            "Requirement already satisfied: charset-normalizer in /usr/local/lib/python3.12/dist-packages (from kaggle) (3.4.4)\n",
            "Requirement already satisfied: idna in /usr/local/lib/python3.12/dist-packages (from kaggle) (3.11)\n",
            "Requirement already satisfied: protobuf in /usr/local/lib/python3.12/dist-packages (from kaggle) (5.29.5)\n",
            "Requirement already satisfied: python-dateutil>=2.5.3 in /usr/local/lib/python3.12/dist-packages (from kaggle) (2.9.0.post0)\n",
            "Requirement already satisfied: python-slugify in /usr/local/lib/python3.12/dist-packages (from kaggle) (8.0.4)\n",
            "Requirement already satisfied: requests in /usr/local/lib/python3.12/dist-packages (from kaggle) (2.32.4)\n",
            "Requirement already satisfied: setuptools>=21.0.0 in /usr/local/lib/python3.12/dist-packages (from kaggle) (75.2.0)\n",
            "Requirement already satisfied: six>=1.10 in /usr/local/lib/python3.12/dist-packages (from kaggle) (1.17.0)\n",
            "Requirement already satisfied: text-unidecode in /usr/local/lib/python3.12/dist-packages (from kaggle) (1.3)\n",
            "Requirement already satisfied: tqdm in /usr/local/lib/python3.12/dist-packages (from kaggle) (4.67.1)\n",
            "Requirement already satisfied: urllib3>=1.15.1 in /usr/local/lib/python3.12/dist-packages (from kaggle) (2.5.0)\n",
            "Requirement already satisfied: webencodings in /usr/local/lib/python3.12/dist-packages (from kaggle) (0.5.1)\n"
          ]
        }
      ]
    },
    {
      "cell_type": "code",
      "metadata": {
        "id": "d8O5LOhWrF2s",
        "outputId": "f4afbbe0-f353-4720-98f1-5f57a071c8ef",
        "colab": {
          "base_uri": "https://localhost:8080/"
        }
      },
      "source": [
        "from google.colab import drive\n",
        "\n",
        "drive.mount(\"/content/gdrive\")\n"
      ],
      "execution_count": 4,
      "outputs": [
        {
          "output_type": "stream",
          "name": "stdout",
          "text": [
            "Mounted at /content/gdrive\n"
          ]
        }
      ]
    },
    {
      "cell_type": "code",
      "metadata": {
        "id": "tFeYhc7icChm",
        "colab": {
          "base_uri": "https://localhost:8080/"
        },
        "outputId": "9e588b5f-8c86-4b92-bcb1-78f33847aa93"
      },
      "source": [
        "cd /content/gdrive/MyDrive/"
      ],
      "execution_count": 5,
      "outputs": [
        {
          "output_type": "stream",
          "name": "stdout",
          "text": [
            "/content/gdrive/MyDrive\n"
          ]
        }
      ]
    },
    {
      "cell_type": "markdown",
      "metadata": {
        "id": "Am1XS9yFu5_H"
      },
      "source": [
        "# create a file kaggle.json by requesting and API key to kaggle (under account)\n",
        "# https://www.kaggle.com/docs/api\n",
        "# and upload it to your google drive (manuallym outside of the notebook). Upload it to the general drive foloder and make sure it is still called kaggle.json\n",
        "\n",
        "Change the permission on the file so that it is secure and cannot be seen used others. The update the environmental variables KAGGLE_USERNAME and KAGGLE_KEY based on the values on the file\n",
        "\n",
        "\n",
        "The competition is https://www.kaggle.com/competitions/titanic/code and you need to join the competition on the website to get the data"
      ]
    },
    {
      "cell_type": "code",
      "metadata": {
        "id": "6_m5iYc-vHq7",
        "colab": {
          "base_uri": "https://localhost:8080/"
        },
        "outputId": "d9a6ec96-4550-4084-d10b-c197810d703e"
      },
      "source": [
        "ls kaggle.json"
      ],
      "execution_count": 9,
      "outputs": [
        {
          "output_type": "stream",
          "name": "stdout",
          "text": [
            "kaggle.json\n"
          ]
        }
      ]
    },
    {
      "cell_type": "code",
      "metadata": {
        "id": "jsICrTrsvKMq"
      },
      "source": [
        "!chmod 600 kaggle.json"
      ],
      "execution_count": 10,
      "outputs": []
    },
    {
      "cell_type": "code",
      "metadata": {
        "id": "AbS20L4_mQry"
      },
      "source": [
        "\n",
        "envs = json.load(open(\"kaggle.json\", \"r\"))\n",
        "os.environ[\"KAGGLE_USERNAME\"] = envs['username']\n",
        "os.environ[\"KAGGLE_KEY\"] = envs['key']"
      ],
      "execution_count": 12,
      "outputs": []
    },
    {
      "cell_type": "code",
      "metadata": {
        "id": "fmjKsHsChHnm",
        "colab": {
          "base_uri": "https://localhost:8080/"
        },
        "outputId": "8f6680aa-9b25-4a44-cbf2-00460542e245"
      },
      "source": [
        "#check that it worked by listing the kaggle datasets\n",
        "!kaggle datasets list"
      ],
      "execution_count": 13,
      "outputs": [
        {
          "output_type": "stream",
          "name": "stdout",
          "text": [
            "ref                                                           title                                                    size  lastUpdated                 downloadCount  voteCount  usabilityRating  \n",
            "------------------------------------------------------------  -------------------------------------------------  ----------  --------------------------  -------------  ---------  ---------------  \n",
            "ahmeduzaki/global-earthquake-tsunami-risk-assessment-dataset  Global Earthquake-Tsunami Risk Assessment Dataset       16151  2025-10-01 16:35:53.273000          10121        369  1.0              \n",
            "jockeroika/life-style-data                                    Life Style Data                                       3995645  2025-10-14 13:50:45.303000          11987        264  0.8235294        \n",
            "jaderz/hospital-beds-management                               Hospital Beds Management                                47583  2025-10-03 09:21:58.590000           8438        210  1.0              \n",
            "ahmadrazakashif/bmw-worldwide-sales-records-20102024          BMW Worldwide Sales Records (2010–2024)                853348  2025-09-20 14:39:45.280000          13611        286  1.0              \n",
            "grandmaster07/student-exam-score-dataset-analysis             Student exam score dataset analysis                      2430  2025-09-26 07:44:12.677000           6884        143  1.0              \n",
            "ahmadrazakashif/shopping-behavior-dataset                     Shopping_Behavior_Dataset                               72157  2025-10-08 16:19:06.293000           1745         31  1.0              \n",
            "prince7489/mental-health-and-social-media-balance-dataset     Mental Health & Social Media Balance Dataset             5941  2025-10-15 15:56:35.387000           1501         33  0.9411765        \n",
            "anassarfraz13/student-success-factors-and-insights            Student Success: Factors & Insights                     96178  2025-09-24 07:58:55.117000           5168         93  1.0              \n",
            "nalisha/student-exam-scores-analysis-ipyn                     student_exam_scores_analysis.ipyn                        2430  2025-10-09 10:21:47.360000            693         26  1.0              \n",
            "asadullahcreative/world-population-by-country-2025            🌍 World Population by Country 2025 (Latest)              9275  2025-10-15 21:38:51.047000           1280         31  1.0              \n",
            "mohankrishnathalla/medical-insurance-cost-prediction          Medical Insurance Cost Prediction                     5897923  2025-10-10 15:35:01.663000           2181         56  1.0              \n",
            "miadul/lifestyle-and-health-risk-prediction                   Lifestyle and Health Risk Prediction                    61139  2025-10-19 06:35:37.617000           1201         35  0.7058824        \n",
            "rehan497/health-lifestyle-dataset                             Health Lifestyle Dataset                              2204934  2025-10-04 08:55:55.723000           2700         33  1.0              \n",
            "willianoliveiragibin/green-house-gas-emission                 Green_House_Gas_Emission                                 7855  2025-10-19 21:44:31.943000            506         24  1.0              \n",
            "afnansaifafnan/electric-car-performance-and-battery-dataset   Electric Car Performance and Battery Dataset            16631  2025-10-15 10:17:39.960000            941         21  1.0              \n",
            "afnansaifafnan/study-habits-and-activities-of-students        Study Habits and Activities of Students                 22153  2025-10-04 09:09:48.013000           1280         31  1.0              \n",
            "mohankrishnathalla/diabetes-health-indicators-dataset         Diabetes Health Indicators Dataset                    3927348  2025-09-21 16:47:53.203000           4883         74  1.0              \n",
            "raghavdharwal/amazon-ml-challenge-2025                        Amazon ML Challenge 2025                             49977798  2025-10-11 01:51:41.403000           1208         33  1.0              \n",
            "grandmaster07/student-stress-levels-dataset                   Student Stress Levels Dataset Analysis                    864  2025-09-25 10:19:53.697000           1104         28  1.0              \n",
            "dansbecker/melbourne-housing-snapshot                         Melbourne Housing Snapshot                             461423  2018-06-05 12:52:24.087000         195616       1684  0.7058824        \n"
          ]
        }
      ]
    },
    {
      "cell_type": "code",
      "source": [
        "#make a directory dsps, go in that directory, create a subdirectory kaggleTitanic, download the data there, unzip it\n"
      ],
      "metadata": {
        "id": "f981PB4WiKxj"
      },
      "execution_count": null,
      "outputs": []
    },
    {
      "cell_type": "code",
      "metadata": {
        "id": "pFU00uNqv4gu"
      },
      "source": [
        "!mkdir dsps"
      ],
      "execution_count": 14,
      "outputs": []
    },
    {
      "cell_type": "code",
      "source": [
        "%cd dsps"
      ],
      "metadata": {
        "colab": {
          "base_uri": "https://localhost:8080/"
        },
        "id": "pAGF_2972O6W",
        "outputId": "76e3d9af-56a4-4038-d4cb-344c9b1ad707"
      },
      "execution_count": 20,
      "outputs": [
        {
          "output_type": "stream",
          "name": "stdout",
          "text": [
            "/content/gdrive/MyDrive/dsps\n"
          ]
        }
      ]
    },
    {
      "cell_type": "code",
      "source": [
        "!mkdir kaggleTitanic"
      ],
      "metadata": {
        "id": "2MGL0i_x2TaW"
      },
      "execution_count": 21,
      "outputs": []
    },
    {
      "cell_type": "code",
      "metadata": {
        "id": "JlZyIqNprVo_",
        "colab": {
          "base_uri": "https://localhost:8080/"
        },
        "outputId": "206bc6fa-9af2-4304-ea65-465547916ec3"
      },
      "source": [
        "#create a directory for these data\n",
        "%cd kaggleTitanic"
      ],
      "execution_count": 22,
      "outputs": [
        {
          "output_type": "stream",
          "name": "stdout",
          "text": [
            "/content/gdrive/MyDrive/dsps/kaggleTitanic\n"
          ]
        }
      ]
    },
    {
      "cell_type": "code",
      "metadata": {
        "id": "mqDrRNAKrZy8"
      },
      "source": [],
      "execution_count": null,
      "outputs": []
    },
    {
      "cell_type": "markdown",
      "metadata": {
        "id": "f2U_0rHYv0Qk"
      },
      "source": [
        "download the titanic data into the directory you created for it"
      ]
    },
    {
      "cell_type": "code",
      "metadata": {
        "id": "Pk-m5nEZp7ua",
        "colab": {
          "base_uri": "https://localhost:8080/"
        },
        "outputId": "cdb5c618-c6f8-4100-e6f0-6b6be4ec4c4d"
      },
      "source": [
        "!kaggle competitions download -c titanic"
      ],
      "execution_count": 23,
      "outputs": [
        {
          "output_type": "stream",
          "name": "stdout",
          "text": [
            "Downloading titanic.zip to /content/gdrive/MyDrive/dsps/kaggleTitanic\n",
            "\r  0% 0.00/34.1k [00:00<?, ?B/s]\n",
            "\r100% 34.1k/34.1k [00:00<00:00, 3.54MB/s]\n"
          ]
        }
      ]
    },
    {
      "cell_type": "code",
      "metadata": {
        "id": "k0oX-TFgp-df",
        "colab": {
          "base_uri": "https://localhost:8080/"
        },
        "outputId": "a176cd3b-da68-4098-fd64-951fbaa4a644"
      },
      "source": [
        "ls"
      ],
      "execution_count": 24,
      "outputs": [
        {
          "output_type": "stream",
          "name": "stdout",
          "text": [
            "titanic.zip\n"
          ]
        }
      ]
    },
    {
      "cell_type": "code",
      "source": [
        "pwd"
      ],
      "metadata": {
        "id": "tGRMz-QhiPLd",
        "colab": {
          "base_uri": "https://localhost:8080/",
          "height": 36
        },
        "outputId": "f72869ba-2e01-4d89-cda4-d515984294d9"
      },
      "execution_count": 25,
      "outputs": [
        {
          "output_type": "execute_result",
          "data": {
            "text/plain": [
              "'/content/gdrive/MyDrive/dsps/kaggleTitanic'"
            ],
            "application/vnd.google.colaboratory.intrinsic+json": {
              "type": "string"
            }
          },
          "metadata": {},
          "execution_count": 25
        }
      ]
    },
    {
      "cell_type": "code",
      "source": [
        "!unzip titanic.zip"
      ],
      "metadata": {
        "colab": {
          "base_uri": "https://localhost:8080/"
        },
        "id": "1NZ6NPpz4Gn7",
        "outputId": "aa55f6aa-2070-4c02-f34e-f6802e32a690"
      },
      "execution_count": 26,
      "outputs": [
        {
          "output_type": "stream",
          "name": "stdout",
          "text": [
            "Archive:  titanic.zip\n",
            "  inflating: gender_submission.csv   \n",
            "  inflating: test.csv                \n",
            "  inflating: train.csv               \n"
          ]
        }
      ]
    },
    {
      "cell_type": "code",
      "source": [
        "ls"
      ],
      "metadata": {
        "colab": {
          "base_uri": "https://localhost:8080/"
        },
        "id": "fHKX2QU-4K0O",
        "outputId": "5983d262-4114-4eb3-c56d-bc2df3360ad3"
      },
      "execution_count": 27,
      "outputs": [
        {
          "output_type": "stream",
          "name": "stdout",
          "text": [
            "gender_submission.csv  test.csv  titanic.zip  train.csv\n"
          ]
        }
      ]
    },
    {
      "cell_type": "markdown",
      "metadata": {
        "id": "QnlbzVpwwSxU"
      },
      "source": [
        "read in the data"
      ]
    },
    {
      "cell_type": "code",
      "metadata": {
        "ExecuteTime": {
          "end_time": "2018-11-28T13:09:38.694413Z",
          "start_time": "2018-11-28T13:09:38.661437Z"
        },
        "id": "WXM9gKq6g12e"
      },
      "source": [
        "titanic = pd.read_csv(\"train.csv\")"
      ],
      "execution_count": 28,
      "outputs": []
    },
    {
      "cell_type": "code",
      "metadata": {
        "ExecuteTime": {
          "end_time": "2018-11-28T13:09:38.712717Z",
          "start_time": "2018-11-28T13:09:38.700624Z"
        },
        "id": "Cswjv-15g12g",
        "colab": {
          "base_uri": "https://localhost:8080/"
        },
        "outputId": "de0515bb-2efd-43ce-83a4-c4c159370301"
      },
      "source": [
        "titanic.shape"
      ],
      "execution_count": 29,
      "outputs": [
        {
          "output_type": "execute_result",
          "data": {
            "text/plain": [
              "(891, 12)"
            ]
          },
          "metadata": {},
          "execution_count": 29
        }
      ]
    },
    {
      "cell_type": "code",
      "source": [
        "titanic.dropna(subset=[\"Survived\", \"Sex\", \"Pclass\", \"Age\"], inplace=True)"
      ],
      "metadata": {
        "id": "IyA6ifZNkpRM"
      },
      "execution_count": 30,
      "outputs": []
    },
    {
      "cell_type": "code",
      "metadata": {
        "ExecuteTime": {
          "end_time": "2018-11-28T13:09:38.844735Z",
          "start_time": "2018-11-28T13:09:38.803001Z"
        },
        "id": "PmupK5Jsg12j",
        "colab": {
          "base_uri": "https://localhost:8080/",
          "height": 143
        },
        "outputId": "7c5f9375-c6cf-4cc9-86ad-288ab26b75fe"
      },
      "source": [
        "titanic.head(3)"
      ],
      "execution_count": 31,
      "outputs": [
        {
          "output_type": "execute_result",
          "data": {
            "text/plain": [
              "   PassengerId  Survived  Pclass  \\\n",
              "0            1         0       3   \n",
              "1            2         1       1   \n",
              "2            3         1       3   \n",
              "\n",
              "                                                Name     Sex   Age  SibSp  \\\n",
              "0                            Braund, Mr. Owen Harris    male  22.0      1   \n",
              "1  Cumings, Mrs. John Bradley (Florence Briggs Th...  female  38.0      1   \n",
              "2                             Heikkinen, Miss. Laina  female  26.0      0   \n",
              "\n",
              "   Parch            Ticket     Fare Cabin Embarked  \n",
              "0      0         A/5 21171   7.2500   NaN        S  \n",
              "1      0          PC 17599  71.2833   C85        C  \n",
              "2      0  STON/O2. 3101282   7.9250   NaN        S  "
            ],
            "text/html": [
              "\n",
              "  <div id=\"df-638a8a2e-ae61-4e9a-956b-701b1bf0532e\" class=\"colab-df-container\">\n",
              "    <div>\n",
              "<style scoped>\n",
              "    .dataframe tbody tr th:only-of-type {\n",
              "        vertical-align: middle;\n",
              "    }\n",
              "\n",
              "    .dataframe tbody tr th {\n",
              "        vertical-align: top;\n",
              "    }\n",
              "\n",
              "    .dataframe thead th {\n",
              "        text-align: right;\n",
              "    }\n",
              "</style>\n",
              "<table border=\"1\" class=\"dataframe\">\n",
              "  <thead>\n",
              "    <tr style=\"text-align: right;\">\n",
              "      <th></th>\n",
              "      <th>PassengerId</th>\n",
              "      <th>Survived</th>\n",
              "      <th>Pclass</th>\n",
              "      <th>Name</th>\n",
              "      <th>Sex</th>\n",
              "      <th>Age</th>\n",
              "      <th>SibSp</th>\n",
              "      <th>Parch</th>\n",
              "      <th>Ticket</th>\n",
              "      <th>Fare</th>\n",
              "      <th>Cabin</th>\n",
              "      <th>Embarked</th>\n",
              "    </tr>\n",
              "  </thead>\n",
              "  <tbody>\n",
              "    <tr>\n",
              "      <th>0</th>\n",
              "      <td>1</td>\n",
              "      <td>0</td>\n",
              "      <td>3</td>\n",
              "      <td>Braund, Mr. Owen Harris</td>\n",
              "      <td>male</td>\n",
              "      <td>22.0</td>\n",
              "      <td>1</td>\n",
              "      <td>0</td>\n",
              "      <td>A/5 21171</td>\n",
              "      <td>7.2500</td>\n",
              "      <td>NaN</td>\n",
              "      <td>S</td>\n",
              "    </tr>\n",
              "    <tr>\n",
              "      <th>1</th>\n",
              "      <td>2</td>\n",
              "      <td>1</td>\n",
              "      <td>1</td>\n",
              "      <td>Cumings, Mrs. John Bradley (Florence Briggs Th...</td>\n",
              "      <td>female</td>\n",
              "      <td>38.0</td>\n",
              "      <td>1</td>\n",
              "      <td>0</td>\n",
              "      <td>PC 17599</td>\n",
              "      <td>71.2833</td>\n",
              "      <td>C85</td>\n",
              "      <td>C</td>\n",
              "    </tr>\n",
              "    <tr>\n",
              "      <th>2</th>\n",
              "      <td>3</td>\n",
              "      <td>1</td>\n",
              "      <td>3</td>\n",
              "      <td>Heikkinen, Miss. Laina</td>\n",
              "      <td>female</td>\n",
              "      <td>26.0</td>\n",
              "      <td>0</td>\n",
              "      <td>0</td>\n",
              "      <td>STON/O2. 3101282</td>\n",
              "      <td>7.9250</td>\n",
              "      <td>NaN</td>\n",
              "      <td>S</td>\n",
              "    </tr>\n",
              "  </tbody>\n",
              "</table>\n",
              "</div>\n",
              "    <div class=\"colab-df-buttons\">\n",
              "\n",
              "  <div class=\"colab-df-container\">\n",
              "    <button class=\"colab-df-convert\" onclick=\"convertToInteractive('df-638a8a2e-ae61-4e9a-956b-701b1bf0532e')\"\n",
              "            title=\"Convert this dataframe to an interactive table.\"\n",
              "            style=\"display:none;\">\n",
              "\n",
              "  <svg xmlns=\"http://www.w3.org/2000/svg\" height=\"24px\" viewBox=\"0 -960 960 960\">\n",
              "    <path d=\"M120-120v-720h720v720H120Zm60-500h600v-160H180v160Zm220 220h160v-160H400v160Zm0 220h160v-160H400v160ZM180-400h160v-160H180v160Zm440 0h160v-160H620v160ZM180-180h160v-160H180v160Zm440 0h160v-160H620v160Z\"/>\n",
              "  </svg>\n",
              "    </button>\n",
              "\n",
              "  <style>\n",
              "    .colab-df-container {\n",
              "      display:flex;\n",
              "      gap: 12px;\n",
              "    }\n",
              "\n",
              "    .colab-df-convert {\n",
              "      background-color: #E8F0FE;\n",
              "      border: none;\n",
              "      border-radius: 50%;\n",
              "      cursor: pointer;\n",
              "      display: none;\n",
              "      fill: #1967D2;\n",
              "      height: 32px;\n",
              "      padding: 0 0 0 0;\n",
              "      width: 32px;\n",
              "    }\n",
              "\n",
              "    .colab-df-convert:hover {\n",
              "      background-color: #E2EBFA;\n",
              "      box-shadow: 0px 1px 2px rgba(60, 64, 67, 0.3), 0px 1px 3px 1px rgba(60, 64, 67, 0.15);\n",
              "      fill: #174EA6;\n",
              "    }\n",
              "\n",
              "    .colab-df-buttons div {\n",
              "      margin-bottom: 4px;\n",
              "    }\n",
              "\n",
              "    [theme=dark] .colab-df-convert {\n",
              "      background-color: #3B4455;\n",
              "      fill: #D2E3FC;\n",
              "    }\n",
              "\n",
              "    [theme=dark] .colab-df-convert:hover {\n",
              "      background-color: #434B5C;\n",
              "      box-shadow: 0px 1px 3px 1px rgba(0, 0, 0, 0.15);\n",
              "      filter: drop-shadow(0px 1px 2px rgba(0, 0, 0, 0.3));\n",
              "      fill: #FFFFFF;\n",
              "    }\n",
              "  </style>\n",
              "\n",
              "    <script>\n",
              "      const buttonEl =\n",
              "        document.querySelector('#df-638a8a2e-ae61-4e9a-956b-701b1bf0532e button.colab-df-convert');\n",
              "      buttonEl.style.display =\n",
              "        google.colab.kernel.accessAllowed ? 'block' : 'none';\n",
              "\n",
              "      async function convertToInteractive(key) {\n",
              "        const element = document.querySelector('#df-638a8a2e-ae61-4e9a-956b-701b1bf0532e');\n",
              "        const dataTable =\n",
              "          await google.colab.kernel.invokeFunction('convertToInteractive',\n",
              "                                                    [key], {});\n",
              "        if (!dataTable) return;\n",
              "\n",
              "        const docLinkHtml = 'Like what you see? Visit the ' +\n",
              "          '<a target=\"_blank\" href=https://colab.research.google.com/notebooks/data_table.ipynb>data table notebook</a>'\n",
              "          + ' to learn more about interactive tables.';\n",
              "        element.innerHTML = '';\n",
              "        dataTable['output_type'] = 'display_data';\n",
              "        await google.colab.output.renderOutput(dataTable, element);\n",
              "        const docLink = document.createElement('div');\n",
              "        docLink.innerHTML = docLinkHtml;\n",
              "        element.appendChild(docLink);\n",
              "      }\n",
              "    </script>\n",
              "  </div>\n",
              "\n",
              "\n",
              "    <div id=\"df-8f9ecbb3-6658-4102-bce5-d58309912487\">\n",
              "      <button class=\"colab-df-quickchart\" onclick=\"quickchart('df-8f9ecbb3-6658-4102-bce5-d58309912487')\"\n",
              "                title=\"Suggest charts\"\n",
              "                style=\"display:none;\">\n",
              "\n",
              "<svg xmlns=\"http://www.w3.org/2000/svg\" height=\"24px\"viewBox=\"0 0 24 24\"\n",
              "     width=\"24px\">\n",
              "    <g>\n",
              "        <path d=\"M19 3H5c-1.1 0-2 .9-2 2v14c0 1.1.9 2 2 2h14c1.1 0 2-.9 2-2V5c0-1.1-.9-2-2-2zM9 17H7v-7h2v7zm4 0h-2V7h2v10zm4 0h-2v-4h2v4z\"/>\n",
              "    </g>\n",
              "</svg>\n",
              "      </button>\n",
              "\n",
              "<style>\n",
              "  .colab-df-quickchart {\n",
              "      --bg-color: #E8F0FE;\n",
              "      --fill-color: #1967D2;\n",
              "      --hover-bg-color: #E2EBFA;\n",
              "      --hover-fill-color: #174EA6;\n",
              "      --disabled-fill-color: #AAA;\n",
              "      --disabled-bg-color: #DDD;\n",
              "  }\n",
              "\n",
              "  [theme=dark] .colab-df-quickchart {\n",
              "      --bg-color: #3B4455;\n",
              "      --fill-color: #D2E3FC;\n",
              "      --hover-bg-color: #434B5C;\n",
              "      --hover-fill-color: #FFFFFF;\n",
              "      --disabled-bg-color: #3B4455;\n",
              "      --disabled-fill-color: #666;\n",
              "  }\n",
              "\n",
              "  .colab-df-quickchart {\n",
              "    background-color: var(--bg-color);\n",
              "    border: none;\n",
              "    border-radius: 50%;\n",
              "    cursor: pointer;\n",
              "    display: none;\n",
              "    fill: var(--fill-color);\n",
              "    height: 32px;\n",
              "    padding: 0;\n",
              "    width: 32px;\n",
              "  }\n",
              "\n",
              "  .colab-df-quickchart:hover {\n",
              "    background-color: var(--hover-bg-color);\n",
              "    box-shadow: 0 1px 2px rgba(60, 64, 67, 0.3), 0 1px 3px 1px rgba(60, 64, 67, 0.15);\n",
              "    fill: var(--button-hover-fill-color);\n",
              "  }\n",
              "\n",
              "  .colab-df-quickchart-complete:disabled,\n",
              "  .colab-df-quickchart-complete:disabled:hover {\n",
              "    background-color: var(--disabled-bg-color);\n",
              "    fill: var(--disabled-fill-color);\n",
              "    box-shadow: none;\n",
              "  }\n",
              "\n",
              "  .colab-df-spinner {\n",
              "    border: 2px solid var(--fill-color);\n",
              "    border-color: transparent;\n",
              "    border-bottom-color: var(--fill-color);\n",
              "    animation:\n",
              "      spin 1s steps(1) infinite;\n",
              "  }\n",
              "\n",
              "  @keyframes spin {\n",
              "    0% {\n",
              "      border-color: transparent;\n",
              "      border-bottom-color: var(--fill-color);\n",
              "      border-left-color: var(--fill-color);\n",
              "    }\n",
              "    20% {\n",
              "      border-color: transparent;\n",
              "      border-left-color: var(--fill-color);\n",
              "      border-top-color: var(--fill-color);\n",
              "    }\n",
              "    30% {\n",
              "      border-color: transparent;\n",
              "      border-left-color: var(--fill-color);\n",
              "      border-top-color: var(--fill-color);\n",
              "      border-right-color: var(--fill-color);\n",
              "    }\n",
              "    40% {\n",
              "      border-color: transparent;\n",
              "      border-right-color: var(--fill-color);\n",
              "      border-top-color: var(--fill-color);\n",
              "    }\n",
              "    60% {\n",
              "      border-color: transparent;\n",
              "      border-right-color: var(--fill-color);\n",
              "    }\n",
              "    80% {\n",
              "      border-color: transparent;\n",
              "      border-right-color: var(--fill-color);\n",
              "      border-bottom-color: var(--fill-color);\n",
              "    }\n",
              "    90% {\n",
              "      border-color: transparent;\n",
              "      border-bottom-color: var(--fill-color);\n",
              "    }\n",
              "  }\n",
              "</style>\n",
              "\n",
              "      <script>\n",
              "        async function quickchart(key) {\n",
              "          const quickchartButtonEl =\n",
              "            document.querySelector('#' + key + ' button');\n",
              "          quickchartButtonEl.disabled = true;  // To prevent multiple clicks.\n",
              "          quickchartButtonEl.classList.add('colab-df-spinner');\n",
              "          try {\n",
              "            const charts = await google.colab.kernel.invokeFunction(\n",
              "                'suggestCharts', [key], {});\n",
              "          } catch (error) {\n",
              "            console.error('Error during call to suggestCharts:', error);\n",
              "          }\n",
              "          quickchartButtonEl.classList.remove('colab-df-spinner');\n",
              "          quickchartButtonEl.classList.add('colab-df-quickchart-complete');\n",
              "        }\n",
              "        (() => {\n",
              "          let quickchartButtonEl =\n",
              "            document.querySelector('#df-8f9ecbb3-6658-4102-bce5-d58309912487 button');\n",
              "          quickchartButtonEl.style.display =\n",
              "            google.colab.kernel.accessAllowed ? 'block' : 'none';\n",
              "        })();\n",
              "      </script>\n",
              "    </div>\n",
              "\n",
              "    </div>\n",
              "  </div>\n"
            ],
            "application/vnd.google.colaboratory.intrinsic+json": {
              "type": "dataframe",
              "variable_name": "titanic",
              "summary": "{\n  \"name\": \"titanic\",\n  \"rows\": 714,\n  \"fields\": [\n    {\n      \"column\": \"PassengerId\",\n      \"properties\": {\n        \"dtype\": \"number\",\n        \"std\": 259,\n        \"min\": 1,\n        \"max\": 891,\n        \"num_unique_values\": 714,\n        \"samples\": [\n          150,\n          408,\n          54\n        ],\n        \"semantic_type\": \"\",\n        \"description\": \"\"\n      }\n    },\n    {\n      \"column\": \"Survived\",\n      \"properties\": {\n        \"dtype\": \"number\",\n        \"std\": 0,\n        \"min\": 0,\n        \"max\": 1,\n        \"num_unique_values\": 2,\n        \"samples\": [\n          1,\n          0\n        ],\n        \"semantic_type\": \"\",\n        \"description\": \"\"\n      }\n    },\n    {\n      \"column\": \"Pclass\",\n      \"properties\": {\n        \"dtype\": \"number\",\n        \"std\": 0,\n        \"min\": 1,\n        \"max\": 3,\n        \"num_unique_values\": 3,\n        \"samples\": [\n          3,\n          1\n        ],\n        \"semantic_type\": \"\",\n        \"description\": \"\"\n      }\n    },\n    {\n      \"column\": \"Name\",\n      \"properties\": {\n        \"dtype\": \"string\",\n        \"num_unique_values\": 714,\n        \"samples\": [\n          \"Byles, Rev. Thomas Roussel Davids\",\n          \"Richards, Master. William Rowe\"\n        ],\n        \"semantic_type\": \"\",\n        \"description\": \"\"\n      }\n    },\n    {\n      \"column\": \"Sex\",\n      \"properties\": {\n        \"dtype\": \"category\",\n        \"num_unique_values\": 2,\n        \"samples\": [\n          \"female\",\n          \"male\"\n        ],\n        \"semantic_type\": \"\",\n        \"description\": \"\"\n      }\n    },\n    {\n      \"column\": \"Age\",\n      \"properties\": {\n        \"dtype\": \"number\",\n        \"std\": 14.526497332334044,\n        \"min\": 0.42,\n        \"max\": 80.0,\n        \"num_unique_values\": 88,\n        \"samples\": [\n          0.75,\n          22.0\n        ],\n        \"semantic_type\": \"\",\n        \"description\": \"\"\n      }\n    },\n    {\n      \"column\": \"SibSp\",\n      \"properties\": {\n        \"dtype\": \"number\",\n        \"std\": 0,\n        \"min\": 0,\n        \"max\": 5,\n        \"num_unique_values\": 6,\n        \"samples\": [\n          1,\n          0\n        ],\n        \"semantic_type\": \"\",\n        \"description\": \"\"\n      }\n    },\n    {\n      \"column\": \"Parch\",\n      \"properties\": {\n        \"dtype\": \"number\",\n        \"std\": 0,\n        \"min\": 0,\n        \"max\": 6,\n        \"num_unique_values\": 7,\n        \"samples\": [\n          0,\n          1\n        ],\n        \"semantic_type\": \"\",\n        \"description\": \"\"\n      }\n    },\n    {\n      \"column\": \"Ticket\",\n      \"properties\": {\n        \"dtype\": \"string\",\n        \"num_unique_values\": 542,\n        \"samples\": [\n          \"17421\",\n          \"231919\"\n        ],\n        \"semantic_type\": \"\",\n        \"description\": \"\"\n      }\n    },\n    {\n      \"column\": \"Fare\",\n      \"properties\": {\n        \"dtype\": \"number\",\n        \"std\": 52.9189295025436,\n        \"min\": 0.0,\n        \"max\": 512.3292,\n        \"num_unique_values\": 220,\n        \"samples\": [\n          14.0,\n          15.7417\n        ],\n        \"semantic_type\": \"\",\n        \"description\": \"\"\n      }\n    },\n    {\n      \"column\": \"Cabin\",\n      \"properties\": {\n        \"dtype\": \"category\",\n        \"num_unique_values\": 134,\n        \"samples\": [\n          \"E49\",\n          \"E10\"\n        ],\n        \"semantic_type\": \"\",\n        \"description\": \"\"\n      }\n    },\n    {\n      \"column\": \"Embarked\",\n      \"properties\": {\n        \"dtype\": \"category\",\n        \"num_unique_values\": 3,\n        \"samples\": [\n          \"S\",\n          \"C\"\n        ],\n        \"semantic_type\": \"\",\n        \"description\": \"\"\n      }\n    }\n  ]\n}"
            }
          },
          "metadata": {},
          "execution_count": 31
        }
      ]
    },
    {
      "cell_type": "code",
      "source": [
        "titanic.shape"
      ],
      "metadata": {
        "colab": {
          "base_uri": "https://localhost:8080/"
        },
        "id": "LFo47fUS4ct9",
        "outputId": "0eaf5d87-53a6-4223-c1f4-fcd82a6cd45c"
      },
      "execution_count": 32,
      "outputs": [
        {
          "output_type": "execute_result",
          "data": {
            "text/plain": [
              "(714, 12)"
            ]
          },
          "metadata": {},
          "execution_count": 32
        }
      ]
    },
    {
      "cell_type": "markdown",
      "metadata": {
        "id": "SxLksqpssnuR"
      },
      "source": [
        "# 2 data cleaning and wrangling"
      ]
    },
    {
      "cell_type": "markdown",
      "metadata": {
        "id": "7FvP8SQGsqa6"
      },
      "source": [
        "### turn gender into numeric"
      ]
    },
    {
      "cell_type": "code",
      "metadata": {
        "ExecuteTime": {
          "end_time": "2018-11-28T13:09:39.069804Z",
          "start_time": "2018-11-28T13:09:39.012148Z"
        },
        "id": "W28RcjATg12k"
      },
      "source": [
        "titanic[\"gender\"] = titanic[\"Sex\"].map({'male':0, 'female':1})"
      ],
      "execution_count": 33,
      "outputs": []
    },
    {
      "cell_type": "code",
      "source": [
        "titanic[\"gender\"]"
      ],
      "metadata": {
        "colab": {
          "base_uri": "https://localhost:8080/",
          "height": 458
        },
        "id": "f7TA_3zX46hS",
        "outputId": "bb291097-2ae0-4b0e-c262-a9ae8b185f67"
      },
      "execution_count": 34,
      "outputs": [
        {
          "output_type": "execute_result",
          "data": {
            "text/plain": [
              "0      0\n",
              "1      1\n",
              "2      1\n",
              "3      1\n",
              "4      0\n",
              "      ..\n",
              "885    1\n",
              "886    0\n",
              "887    1\n",
              "889    0\n",
              "890    0\n",
              "Name: gender, Length: 714, dtype: int64"
            ],
            "text/html": [
              "<div>\n",
              "<style scoped>\n",
              "    .dataframe tbody tr th:only-of-type {\n",
              "        vertical-align: middle;\n",
              "    }\n",
              "\n",
              "    .dataframe tbody tr th {\n",
              "        vertical-align: top;\n",
              "    }\n",
              "\n",
              "    .dataframe thead th {\n",
              "        text-align: right;\n",
              "    }\n",
              "</style>\n",
              "<table border=\"1\" class=\"dataframe\">\n",
              "  <thead>\n",
              "    <tr style=\"text-align: right;\">\n",
              "      <th></th>\n",
              "      <th>gender</th>\n",
              "    </tr>\n",
              "  </thead>\n",
              "  <tbody>\n",
              "    <tr>\n",
              "      <th>0</th>\n",
              "      <td>0</td>\n",
              "    </tr>\n",
              "    <tr>\n",
              "      <th>1</th>\n",
              "      <td>1</td>\n",
              "    </tr>\n",
              "    <tr>\n",
              "      <th>2</th>\n",
              "      <td>1</td>\n",
              "    </tr>\n",
              "    <tr>\n",
              "      <th>3</th>\n",
              "      <td>1</td>\n",
              "    </tr>\n",
              "    <tr>\n",
              "      <th>4</th>\n",
              "      <td>0</td>\n",
              "    </tr>\n",
              "    <tr>\n",
              "      <th>...</th>\n",
              "      <td>...</td>\n",
              "    </tr>\n",
              "    <tr>\n",
              "      <th>885</th>\n",
              "      <td>1</td>\n",
              "    </tr>\n",
              "    <tr>\n",
              "      <th>886</th>\n",
              "      <td>0</td>\n",
              "    </tr>\n",
              "    <tr>\n",
              "      <th>887</th>\n",
              "      <td>1</td>\n",
              "    </tr>\n",
              "    <tr>\n",
              "      <th>889</th>\n",
              "      <td>0</td>\n",
              "    </tr>\n",
              "    <tr>\n",
              "      <th>890</th>\n",
              "      <td>0</td>\n",
              "    </tr>\n",
              "  </tbody>\n",
              "</table>\n",
              "<p>714 rows × 1 columns</p>\n",
              "</div><br><label><b>dtype:</b> int64</label>"
            ]
          },
          "metadata": {},
          "execution_count": 34
        }
      ]
    },
    {
      "cell_type": "markdown",
      "metadata": {
        "id": "uRA3-q3DsuOi"
      },
      "source": [
        "\n",
        "\n",
        "### throw away data that you will not use"
      ]
    },
    {
      "cell_type": "code",
      "metadata": {
        "ExecuteTime": {
          "end_time": "2018-11-28T13:09:39.330446Z",
          "start_time": "2018-11-28T13:09:39.320109Z"
        },
        "id": "tIFPunfDg12m",
        "colab": {
          "base_uri": "https://localhost:8080/"
        },
        "outputId": "b181585e-0440-4762-b8bb-d9dd3c8f6764"
      },
      "source": [
        "titanic_short = titanic[[\"Pclass\", \"gender\", \"Age\"]]\n",
        "titanic_short.shape"
      ],
      "execution_count": 35,
      "outputs": [
        {
          "output_type": "execute_result",
          "data": {
            "text/plain": [
              "(714, 3)"
            ]
          },
          "metadata": {},
          "execution_count": 35
        }
      ]
    },
    {
      "cell_type": "code",
      "metadata": {
        "ExecuteTime": {
          "end_time": "2018-11-28T13:09:39.541028Z",
          "start_time": "2018-11-28T13:09:39.530005Z"
        },
        "id": "yEpaxVgCg12o"
      },
      "source": [
        "#titanic_short.values"
      ],
      "execution_count": 36,
      "outputs": []
    },
    {
      "cell_type": "code",
      "metadata": {
        "ExecuteTime": {
          "end_time": "2018-11-28T13:09:39.771734Z",
          "start_time": "2018-11-28T13:09:39.763819Z"
        },
        "id": "gRsmE1Vrg12q",
        "colab": {
          "base_uri": "https://localhost:8080/"
        },
        "outputId": "aea53117-2eb0-4188-eeb2-c23481756789"
      },
      "source": [
        "titanic[[\"Survived\"]].values.shape, titanic_short.shape"
      ],
      "execution_count": 37,
      "outputs": [
        {
          "output_type": "execute_result",
          "data": {
            "text/plain": [
              "((714, 1), (714, 3))"
            ]
          },
          "metadata": {},
          "execution_count": 37
        }
      ]
    },
    {
      "cell_type": "markdown",
      "metadata": {
        "id": "-AZM8hC8s0WK"
      },
      "source": [
        "# 3 test the purity of various splits\n",
        "## first split"
      ]
    },
    {
      "cell_type": "markdown",
      "metadata": {
        "id": "MNAJzyWag12u"
      },
      "source": [
        "### split by gender"
      ]
    },
    {
      "cell_type": "code",
      "metadata": {
        "ExecuteTime": {
          "end_time": "2018-11-28T13:09:40.488815Z",
          "start_time": "2018-11-28T13:09:40.475944Z"
        },
        "run_control": {
          "marked": false
        },
        "id": "h_BcJqubg12u",
        "colab": {
          "base_uri": "https://localhost:8080/"
        },
        "outputId": "177ec87a-b380-4dd2-efff-9f92c3326fb7"
      },
      "source": [
        "print (\"Survived fraction\\n M     F \\n {0:.2f} {1:.2f}\".format\n",
        "    (((titanic_short.gender.values == 0) & (titanic.Survived.values == 1)).sum() * 1.0 /\n",
        "       (titanic_short.gender.values == 0).sum(),\n",
        "     ((titanic_short.gender.values == 1) & (titanic.Survived.values == 1)).sum() * 1.0 /\n",
        "       (titanic_short.gender.values == 1).sum()))"
      ],
      "execution_count": 38,
      "outputs": [
        {
          "output_type": "stream",
          "name": "stdout",
          "text": [
            "Survived fraction\n",
            " M     F \n",
            " 0.21 0.75\n"
          ]
        }
      ]
    },
    {
      "cell_type": "code",
      "metadata": {
        "ExecuteTime": {
          "end_time": "2018-11-28T13:09:40.731240Z",
          "start_time": "2018-11-28T13:09:40.724366Z"
        },
        "id": "Buxu_UpFg12w",
        "colab": {
          "base_uri": "https://localhost:8080/"
        },
        "outputId": "afbf2d35-ead5-4c0b-810d-16ff55fd462d"
      },
      "source": [
        "print (\"Died fraction\\n M     F \\n {0:.2f} {1:.2f}\".format\n",
        "    (((titanic_short.gender.values == 0) & (titanic.Survived.values == 0)).sum() * 1.0 /\n",
        "       (titanic_short.gender.values == 0).sum(),\n",
        "       ((titanic_short.gender.values == 1) & (titanic.Survived.values == 0)).sum() * 1.0 /\n",
        "      (titanic_short.gender.values == 1).sum()))"
      ],
      "execution_count": 39,
      "outputs": [
        {
          "output_type": "stream",
          "name": "stdout",
          "text": [
            "Died fraction\n",
            " M     F \n",
            " 0.79 0.25\n"
          ]
        }
      ]
    },
    {
      "cell_type": "markdown",
      "metadata": {
        "id": "knRmb0s1g12y"
      },
      "source": [
        "### split by age (at 6.5)"
      ]
    },
    {
      "cell_type": "code",
      "metadata": {
        "ExecuteTime": {
          "end_time": "2018-11-28T13:09:41.365283Z",
          "start_time": "2018-11-28T13:09:41.358825Z"
        },
        "id": "qNeFGsuzg12z",
        "colab": {
          "base_uri": "https://localhost:8080/"
        },
        "outputId": "9ccd8337-368b-49a2-f410-d45832c6d91b"
      },
      "source": [
        "print (\"Survived fraction\\n >6.5  <6.5 \\n {0:.2f}  {1:.2f}\".format\n",
        "      (((titanic_short.Age.values >6.5) & (titanic.Survived.values == 1)).sum() * 1.0 /\n",
        "       (titanic_short.Age.values >6.5).sum(),\n",
        "      ((titanic_short.Age.values <=6.5) & (titanic.Survived.values == 1)).sum() * 1.0 /\n",
        "       (titanic_short.Age.values <=6.5).sum()))"
      ],
      "execution_count": 40,
      "outputs": [
        {
          "output_type": "stream",
          "name": "stdout",
          "text": [
            "Survived fraction\n",
            " >6.5  <6.5 \n",
            " 0.39  0.70\n"
          ]
        }
      ]
    },
    {
      "cell_type": "code",
      "metadata": {
        "ExecuteTime": {
          "end_time": "2018-11-28T13:09:41.800766Z",
          "start_time": "2018-11-28T13:09:41.788626Z"
        },
        "id": "CZZhLCPSg120",
        "colab": {
          "base_uri": "https://localhost:8080/"
        },
        "outputId": "c2c92030-466f-4d2a-bab3-8bd1227b7d38"
      },
      "source": [
        "print (\"Died fraction\\n >6.5  <6.5 \\n {0:.2f}  {1:.2f}\".format\n",
        "      (((titanic_short.Age.values >6.5) & (titanic.Survived.values == 0)).sum() * 1.0 /\n",
        "       (titanic_short.Age.values >6.5).sum(),\n",
        "      ((titanic_short.Age.values <=6.5) & (titanic.Survived.values == 0)).sum() * 1.0 /\n",
        "       (titanic_short.Age.values <=6.5).sum()))"
      ],
      "execution_count": 41,
      "outputs": [
        {
          "output_type": "stream",
          "name": "stdout",
          "text": [
            "Died fraction\n",
            " >6.5  <6.5 \n",
            " 0.61  0.30\n"
          ]
        }
      ]
    },
    {
      "cell_type": "markdown",
      "metadata": {
        "id": "wSRTJgwmg122"
      },
      "source": [
        "### split by travel class"
      ]
    },
    {
      "cell_type": "code",
      "metadata": {
        "ExecuteTime": {
          "end_time": "2018-11-28T13:09:42.656895Z",
          "start_time": "2018-11-28T13:09:42.642363Z"
        },
        "id": "Sms6s_E8g123",
        "colab": {
          "base_uri": "https://localhost:8080/"
        },
        "outputId": "0e7ee721-4dfa-4268-b132-a31a85201182"
      },
      "source": [
        "print (\"Survived fraction\\n 1st   2nd \\n {0:.2f}  {1:.2f}\".format\n",
        "     (((titanic_short.Pclass.values == 1) & (titanic.Survived.values == 1)).sum() * 1.0 /\n",
        "      (titanic_short.Pclass.values == 1).sum(),\n",
        "       ((titanic_short.Pclass.values == 2) & (titanic.Survived.values == 1)).sum() * 1.0 /\n",
        "      (titanic_short.Pclass.values == 2).sum()))"
      ],
      "execution_count": 42,
      "outputs": [
        {
          "output_type": "stream",
          "name": "stdout",
          "text": [
            "Survived fraction\n",
            " 1st   2nd \n",
            " 0.66  0.48\n"
          ]
        }
      ]
    },
    {
      "cell_type": "code",
      "metadata": {
        "ExecuteTime": {
          "end_time": "2018-11-28T13:09:43.049658Z",
          "start_time": "2018-11-28T13:09:43.044122Z"
        },
        "id": "KS6RfFx_g124",
        "colab": {
          "base_uri": "https://localhost:8080/"
        },
        "outputId": "969b8c0c-b2c5-4cc9-84a6-dad468cbd7d0"
      },
      "source": [
        "print (\"Survived fraction\\n 2nd   3rd \\n {0:.2f}  {1:.2f}\".format\n",
        "      (((titanic_short.Pclass.values == 2) & (titanic.Survived.values == 1)).sum() * 1.0 /\n",
        "       (titanic_short.Pclass.values == 2).sum(),\n",
        "        ((titanic_short.Pclass.values == 3) & (titanic.Survived.values == 1)).sum() * 1.0 /\n",
        "      (titanic_short.Pclass.values == 3).sum()))"
      ],
      "execution_count": 43,
      "outputs": [
        {
          "output_type": "stream",
          "name": "stdout",
          "text": [
            "Survived fraction\n",
            " 2nd   3rd \n",
            " 0.48  0.24\n"
          ]
        }
      ]
    },
    {
      "cell_type": "code",
      "metadata": {
        "ExecuteTime": {
          "end_time": "2018-11-28T13:09:43.652574Z",
          "start_time": "2018-11-28T13:09:43.645860Z"
        },
        "id": "8unypVofg126",
        "colab": {
          "base_uri": "https://localhost:8080/"
        },
        "outputId": "8a272b5e-8575-428f-b554-defdb5c75053"
      },
      "source": [
        "print (\"Survived fraction\\n 1st   3rd \\n {0:.2f}  {1:.2f}\".format\n",
        "      (((titanic_short.Pclass.values == 1) & (titanic.Survived.values == 1)).sum() * 1.0 /\n",
        "       (titanic_short.Pclass.values == 1).sum(),\n",
        "        ((titanic_short.Pclass.values == 3) & (titanic.Survived.values == 1)).sum() * 1.0 /\n",
        "      (titanic_short.Pclass.values == 3).sum()))"
      ],
      "execution_count": 44,
      "outputs": [
        {
          "output_type": "stream",
          "name": "stdout",
          "text": [
            "Survived fraction\n",
            " 1st   3rd \n",
            " 0.66  0.24\n"
          ]
        }
      ]
    },
    {
      "cell_type": "code",
      "metadata": {
        "ExecuteTime": {
          "end_time": "2018-11-28T13:09:44.245202Z",
          "start_time": "2018-11-28T13:09:44.230460Z"
        },
        "id": "CILoiJb9g127",
        "colab": {
          "base_uri": "https://localhost:8080/"
        },
        "outputId": "c17aa95e-b77e-4112-a8e6-a4f1392ab149"
      },
      "source": [
        "print (\"Survived fraction\\n 1st   2nd or 3rd \\n {0:.2f}  {1:.2f}\".format\n",
        "      (((titanic_short.Pclass.values == 1) & (titanic.Survived.values == 1)).sum() * 1.0 /\n",
        "       (titanic_short.Pclass.values == 1).sum(),\n",
        "        (((titanic_short.Pclass.values == 3) | (titanic_short.Pclass.values == 2)) & (titanic.Survived.values == 1)).sum() * 1.0 /\n",
        "      ((titanic_short.Pclass.values == 3) | (titanic_short.Pclass.values == 3)).sum()))"
      ],
      "execution_count": 45,
      "outputs": [
        {
          "output_type": "stream",
          "name": "stdout",
          "text": [
            "Survived fraction\n",
            " 1st   2nd or 3rd \n",
            " 0.66  0.47\n"
          ]
        }
      ]
    },
    {
      "cell_type": "markdown",
      "metadata": {
        "id": "TJBRNmgjg12-"
      },
      "source": [
        "# The purest split is by gender, so that is chosen as the first node"
      ]
    },
    {
      "cell_type": "markdown",
      "metadata": {
        "id": "1PaE2qUzg12_"
      },
      "source": [
        "# second split"
      ]
    },
    {
      "cell_type": "markdown",
      "metadata": {
        "id": "UHczabkDg12_"
      },
      "source": [
        "### by travel class"
      ]
    },
    {
      "cell_type": "code",
      "metadata": {
        "ExecuteTime": {
          "end_time": "2018-11-28T13:09:46.216158Z",
          "start_time": "2018-11-28T13:09:46.207263Z"
        },
        "run_control": {
          "marked": false
        },
        "id": "oT5_zuaRg13A",
        "colab": {
          "base_uri": "https://localhost:8080/"
        },
        "outputId": "c3e5ea27-bf84-4341-def0-17c18ed24412"
      },
      "source": [
        "print (\"Survived fraction of females: \\n 1st   2nd,3rd\\n {0:.2f}  {1:.2f}\".format\n",
        "       (((titanic_short.gender.values == 1) &\n",
        "        (titanic_short.Pclass.values == 1) & (titanic.Survived.values == 1)).sum() * 1.0 /\n",
        "       ((titanic_short.gender.values == 1) & (titanic_short.Pclass.values == 1)).sum(),\n",
        "        ((titanic_short.gender.values == 1) &\n",
        "        ~(titanic_short.Pclass.values == 1) & (titanic.Survived.values == 1)).sum() * 1.0 /\n",
        "       ((titanic_short.gender.values == 1) & ~(titanic_short.Pclass.values == 1)).sum()))"
      ],
      "execution_count": 46,
      "outputs": [
        {
          "output_type": "stream",
          "name": "stdout",
          "text": [
            "Survived fraction of females: \n",
            " 1st   2nd,3rd\n",
            " 0.96  0.65\n"
          ]
        }
      ]
    },
    {
      "cell_type": "code",
      "metadata": {
        "ExecuteTime": {
          "end_time": "2018-11-28T13:09:46.907705Z",
          "start_time": "2018-11-28T13:09:46.893404Z"
        },
        "id": "dIWg-4X2g13C",
        "colab": {
          "base_uri": "https://localhost:8080/"
        },
        "outputId": "d0c9c752-9fa6-44b4-9839-cc4bdfba5be1"
      },
      "source": [
        "print (\"Survived fraction of males: \\n 1st   2nd,3rd\\n {0:.2f}  {1:.2f}\".format\n",
        "        (((titanic_short.gender.values == 0) &\n",
        "        (titanic_short.Pclass.values == 1) & (titanic.Survived.values == 1)).sum() * 1.0 /\n",
        "       ((titanic_short.gender.values == 0) & (titanic_short.Pclass.values == 1)).sum(),\n",
        "        ((titanic_short.gender.values == 0) &\n",
        "        (~(titanic_short.Pclass.values == 1)) & (titanic.Survived.values == 1)).sum() * 1.0 /\n",
        "       ((titanic_short.gender.values == 0) & (~(titanic_short.Pclass.values == 1))).sum() ))"
      ],
      "execution_count": 47,
      "outputs": [
        {
          "output_type": "stream",
          "name": "stdout",
          "text": [
            "Survived fraction of males: \n",
            " 1st   2nd,3rd\n",
            " 0.40  0.15\n"
          ]
        }
      ]
    },
    {
      "cell_type": "markdown",
      "metadata": {
        "ExecuteTime": {
          "end_time": "2017-12-12T08:47:52.293498",
          "start_time": "2017-12-12T08:47:52.289236"
        },
        "id": "VYJwqL7Eg13H"
      },
      "source": [
        "### by age"
      ]
    },
    {
      "cell_type": "code",
      "metadata": {
        "ExecuteTime": {
          "end_time": "2018-11-28T13:09:48.097535Z",
          "start_time": "2018-11-28T13:09:48.084522Z"
        },
        "id": "p51dnJGLg13J",
        "colab": {
          "base_uri": "https://localhost:8080/"
        },
        "outputId": "2cac4ad2-cecc-4ee7-b127-ad6b52accfbb"
      },
      "source": [
        "print (\"Survived fraction of females: \\n <6.5  >=6.5   \\n {0:.2f} {1:.2f}\".format\n",
        "        (((titanic_short.gender.values == 1) &\n",
        "        (titanic_short.Age.values < 6.5) & (titanic.Survived.values == 1)).sum() * 1.0 /\n",
        "       ((titanic_short.gender.values == 1) & (titanic_short.Age.values < 6.5)).sum(),\n",
        "\n",
        "       ((titanic_short.gender.values == 1) &\n",
        "        (titanic_short.Age.values >= 6.5) & (titanic.Survived.values == 1)).sum() * 1.0 /\n",
        "       ((titanic_short.gender.values == 1) & (titanic_short.Age.values >= 6.5)).sum()))"
      ],
      "execution_count": 48,
      "outputs": [
        {
          "output_type": "stream",
          "name": "stdout",
          "text": [
            "Survived fraction of females: \n",
            " <6.5  >=6.5   \n",
            " 0.74 0.76\n"
          ]
        }
      ]
    },
    {
      "cell_type": "code",
      "metadata": {
        "ExecuteTime": {
          "end_time": "2018-11-28T13:09:48.650616Z",
          "start_time": "2018-11-28T13:09:48.639223Z"
        },
        "id": "mW9H41Mqg13K",
        "colab": {
          "base_uri": "https://localhost:8080/"
        },
        "outputId": "cb53e7b2-e810-43f3-c6f4-a0d14124fa1f"
      },
      "source": [
        "print (\"Survived fraction of males: \\n <6.5 >=6.5   \\n {0:.2f}  {1:.2f}\".format\n",
        "     (((titanic_short.gender.values == 0) &\n",
        "        (titanic_short.Age.values < 6.5) & (titanic.Survived.values == 1)).sum() * 1.0 /\n",
        "       ((titanic_short.gender.values == 0) & (titanic_short.Age.values < 6.5)).sum(),\n",
        "     ((titanic_short.gender.values == 0) &\n",
        "        (titanic_short.Age.values >= 6.5) & (titanic.Survived.values == 1)).sum() * 1.0 /\n",
        "       ((titanic_short.gender.values == 0) & (titanic_short.Age.values >= 6.5)).sum()))"
      ],
      "execution_count": 49,
      "outputs": [
        {
          "output_type": "stream",
          "name": "stdout",
          "text": [
            "Survived fraction of males: \n",
            " <6.5 >=6.5   \n",
            " 0.67  0.18\n"
          ]
        }
      ]
    },
    {
      "cell_type": "markdown",
      "metadata": {
        "id": "oEWlCoRpg13M"
      },
      "source": [
        "## The purest split is\n",
        "## - for females by travel class\n",
        "## - for males by age"
      ]
    },
    {
      "cell_type": "markdown",
      "metadata": {
        "id": "7S2SN4dSsejR"
      },
      "source": [
        "# 4 actually run a tree model"
      ]
    },
    {
      "cell_type": "code",
      "metadata": {
        "ExecuteTime": {
          "end_time": "2018-11-28T13:09:50.794182Z",
          "start_time": "2018-11-28T13:09:49.925197Z"
        },
        "id": "JI9y8ccgg13N",
        "colab": {
          "base_uri": "https://localhost:8080/"
        },
        "outputId": "25f1548f-0df5-40b6-c1d1-102d3e02783e"
      },
      "source": [
        "from sklearn import tree\n",
        "clf =  tree.DecisionTreeClassifier(max_depth=3, criterion=\"gini\",\n",
        "                        random_state=222).fit(titanic_short.values,\n",
        "                                              titanic[\"Survived\"])\n",
        "clf.score(titanic_short.values, titanic[\"Survived\"])"
      ],
      "execution_count": 50,
      "outputs": [
        {
          "output_type": "execute_result",
          "data": {
            "text/plain": [
              "0.8081232492997199"
            ]
          },
          "metadata": {},
          "execution_count": 50
        }
      ]
    },
    {
      "cell_type": "code",
      "source": [
        "#run it again\n",
        "# (If it was a single tree, the answers would be different with different random_state)\n",
        "clf =  tree.DecisionTreeClassifier(max_depth=3, criterion=\"gini\",\n",
        "                        random_state=300).fit(titanic_short.values,\n",
        "                                              titanic[\"Survived\"])\n",
        "clf.score(titanic_short.values, titanic[\"Survived\"])"
      ],
      "metadata": {
        "id": "FExXub0cikBO",
        "colab": {
          "base_uri": "https://localhost:8080/"
        },
        "outputId": "3a8e590b-87fa-4337-c3cd-f3973bc3de90"
      },
      "execution_count": 53,
      "outputs": [
        {
          "output_type": "execute_result",
          "data": {
            "text/plain": [
              "0.8081232492997199"
            ]
          },
          "metadata": {},
          "execution_count": 53
        }
      ]
    },
    {
      "cell_type": "code",
      "source": [
        "from sklearn.model_selection import train_test_split\n",
        "X_train, X_test, y_train, y_test = train_test_split(titanic_short, titanic[\"Survived\"],\n",
        "                                                    train_size=0.75, shuffle=True, random_state=302)\n",
        "X_train.shape, y_train.shape, X_test.shape, y_test.shape"
      ],
      "metadata": {
        "id": "FFGj-0G7im5K",
        "colab": {
          "base_uri": "https://localhost:8080/"
        },
        "outputId": "e6b6652d-af4b-4a24-99b1-a42ce7c44446"
      },
      "execution_count": 54,
      "outputs": [
        {
          "output_type": "execute_result",
          "data": {
            "text/plain": [
              "((535, 3), (535,), (179, 3), (179,))"
            ]
          },
          "metadata": {},
          "execution_count": 54
        }
      ]
    },
    {
      "cell_type": "code",
      "source": [
        "\n",
        "clf =  tree.DecisionTreeClassifier(max_depth=2, criterion=\"gini\",\n",
        "                        random_state=222).fit(X_train,\n",
        "                                              y_train)\n",
        "print(f\"training accuracy {clf.score(X_train,  y_train):.2f}, testing accuracy {clf.score(X_test,  y_test):.2f}\")"
      ],
      "metadata": {
        "id": "7XFhhNokjFxO",
        "colab": {
          "base_uri": "https://localhost:8080/"
        },
        "outputId": "af17aefd-7ba7-4082-d835-bf32b6df623d"
      },
      "execution_count": 56,
      "outputs": [
        {
          "output_type": "stream",
          "name": "stdout",
          "text": [
            "training accuracy 0.81, testing accuracy 0.72\n"
          ]
        }
      ]
    },
    {
      "cell_type": "code",
      "metadata": {
        "id": "tBOD-Xk1ckub"
      },
      "source": [
        "from sklearn.metrics import confusion_matrix\n",
        "def plot_confusion_matrix(y_true, y_pred,\n",
        "                          normalize=True,\n",
        "                          title='',\n",
        "                          cmap=plt.cm.Blues):\n",
        "    \"\"\"\n",
        "    This function prints and plots the confusion matrix.\n",
        "    Normalization can be applied by setting `normalize=True`.\n",
        "    \"\"\"\n",
        "    if normalize:\n",
        "          title = title + ' Normalized confusion matrix'\n",
        "    else:\n",
        "          title = title + ' Confusion matrix, without normalization'\n",
        "\n",
        "    # Compute confusion matrix\n",
        "    cm = confusion_matrix(y_true, y_pred)\n",
        "    # Only use the labels that appear in the data\n",
        "\n",
        "    pl.imshow(cm, cmap=\"bone\")\n",
        "    pl.title(title)\n",
        "    pl.colorbar()\n",
        "    pl.axis('off')"
      ],
      "execution_count": 57,
      "outputs": []
    },
    {
      "cell_type": "code",
      "source": [
        "plot_confusion_matrix(clf.predict(X_test),\n",
        "                      y_test,\n",
        "                      title=\"Tree model\")"
      ],
      "metadata": {
        "id": "P97mMraRjugm",
        "colab": {
          "base_uri": "https://localhost:8080/",
          "height": 533
        },
        "outputId": "b02f41de-10b8-45ac-9589-f366f44f728f"
      },
      "execution_count": 58,
      "outputs": [
        {
          "output_type": "display_data",
          "data": {
            "text/plain": [
              "<Figure size 1000x600 with 2 Axes>"
            ],
            "image/png": "[encoded data removed]"
          },
          "metadata": {}
        }
      ]
    },
    {
      "cell_type": "markdown",
      "metadata": {
        "id": "dJ9qzAzNsbcI"
      },
      "source": [
        "# 5 create the dendrogram viz"
      ]
    },
    {
      "cell_type": "code",
      "metadata": {
        "ExecuteTime": {
          "end_time": "2018-11-28T13:11:47.928354Z",
          "start_time": "2018-11-28T13:11:47.908993Z"
        },
        "id": "OepK1Xoog13P"
      },
      "source": [
        "import graphviz\n",
        "dot_data = tree.export_graphviz(clf, feature_names=titanic_short.columns,\n",
        "                                out_file=None)\n",
        "graph = graphviz.Source(dot_data)"
      ],
      "execution_count": null,
      "outputs": []
    },
    {
      "cell_type": "code",
      "metadata": {
        "ExecuteTime": {
          "end_time": "2018-11-28T13:11:50.327060Z",
          "start_time": "2018-11-28T13:11:49.158795Z"
        },
        "id": "y4qLKPb1g13Q"
      },
      "source": [
        "graph"
      ],
      "execution_count": null,
      "outputs": []
    },
    {
      "cell_type": "code",
      "metadata": {
        "ExecuteTime": {
          "end_time": "2017-12-12T10:14:58.113961",
          "start_time": "2017-12-12T10:14:57.944488"
        },
        "id": "hBaMY4rag13S"
      },
      "source": [
        "graph.render(\"TitanicTree\")"
      ],
      "execution_count": null,
      "outputs": []
    },
    {
      "cell_type": "markdown",
      "metadata": {
        "id": "idvKNoCvg13U"
      },
      "source": [
        "# 6 run ensamble method:\n",
        "## changing model to Random Forest"
      ]
    },
    {
      "cell_type": "code",
      "metadata": {
        "ExecuteTime": {
          "end_time": "2018-11-28T13:09:16.763505Z",
          "start_time": "2018-11-28T13:09:16.733856Z"
        },
        "id": "efrFemIHg13U"
      },
      "source": [
        "from sklearn import ensemble\n",
        "rf =  ensemble.RandomForestClassifier(max_depth=3, criterion=\"gini\",\n",
        "                                       random_state=222).fit(titanic_short.values,\n",
        "                                                             titanic[\"Survived\"])\n",
        "print (\"score %.2f\"%rf.score(titanic_short.values, titanic[\"Survived\"]))"
      ],
      "execution_count": null,
      "outputs": []
    },
    {
      "cell_type": "markdown",
      "metadata": {
        "id": "44eq5WgPg13V"
      },
      "source": [
        "changing max depth"
      ]
    },
    {
      "cell_type": "code",
      "metadata": {
        "ExecuteTime": {
          "end_time": "2018-11-28T13:09:18.181974Z",
          "start_time": "2018-11-28T13:09:18.155416Z"
        },
        "id": "E2ZxOEvPg13W"
      },
      "source": [
        "rf =  ensemble.RandomForestClassifier(max_depth=4, criterion=\"gini\", n_estimators=100,\n",
        "                                       random_state=222).fit(titanic_short.values,\n",
        "                                                             titanic[\"Survived\"])\n",
        "print (\"score %.2f\"%rf.score(titanic_short.values, titanic[\"Survived\"]))"
      ],
      "execution_count": null,
      "outputs": []
    },
    {
      "cell_type": "code",
      "metadata": {
        "ExecuteTime": {
          "end_time": "2018-11-28T13:09:18.413903Z",
          "start_time": "2018-11-28T13:09:18.378558Z"
        },
        "id": "7dbi9T2mg13Y"
      },
      "source": [
        "rf =  ensemble.RandomForestClassifier(criterion=\"gini\", max_depth=None, n_estimators=100,\n",
        "                                       random_state=222).fit(titanic_short.values,\n",
        "                                                             titanic[\"Survived\"])\n",
        "print (\"score %.2f\"%rf.score(titanic_short.values, titanic[\"Survived\"]))"
      ],
      "execution_count": null,
      "outputs": []
    },
    {
      "cell_type": "markdown",
      "metadata": {
        "id": "0Ae1iLdag13Z"
      },
      "source": [
        "## changing model to Gradient Boosted Trees"
      ]
    },
    {
      "cell_type": "code",
      "metadata": {
        "ExecuteTime": {
          "end_time": "2018-11-28T13:05:53.724656Z",
          "start_time": "2018-11-28T13:05:53.574109Z"
        },
        "id": "An_1eIupg13a"
      },
      "source": [
        "gbt =  ensemble.GradientBoostingClassifier(max_depth=4,\n",
        "                                           random_state=222).fit(titanic_short.values,\n",
        "                                                                 titanic[\"Survived\"])\n",
        "print (\"score %.2f\"%gbt.score(titanic_short.values, titanic[\"Survived\"]))"
      ],
      "execution_count": null,
      "outputs": []
    },
    {
      "cell_type": "markdown",
      "metadata": {
        "id": "8PI0S_w_zaYw"
      },
      "source": [
        "# 7 feature importance"
      ]
    },
    {
      "cell_type": "code",
      "metadata": {
        "ExecuteTime": {
          "end_time": "2018-11-28T13:05:54.310398Z",
          "start_time": "2018-11-28T13:05:54.241589Z"
        },
        "id": "WucpVurfg13c"
      },
      "source": [
        "print(\"Random Forest feature importance\")\n",
        "for f,fi in zip (titanic_short.columns, rf.feature_importances_):\n",
        "  print (f, fi.round(2))"
      ],
      "execution_count": null,
      "outputs": []
    },
    {
      "cell_type": "code",
      "metadata": {
        "id": "KelnceUSg13d"
      },
      "source": [
        "print(\"Gradient Boosted Tree feature importance\")\n",
        "for f,fi in zip (titanic_short.columns, gbt.feature_importances_):\n",
        "  print (f, fi.round(2))"
      ],
      "execution_count": null,
      "outputs": []
    },
    {
      "cell_type": "code",
      "metadata": {
        "id": "eLMUYDEccxBW"
      },
      "source": [
        "plot_confusion_matrix(rf.predict(titanic_short),\n",
        "                      titanic[\"Survived\"],\n",
        "                      title=\"RF \")"
      ],
      "execution_count": null,
      "outputs": []
    },
    {
      "cell_type": "code",
      "metadata": {
        "id": "uASTrvqSdMsL"
      },
      "source": [
        "plot_confusion_matrix(gbt.predict(titanic_short),\n",
        "                      titanic[\"Survived\"], title=\"GBT \")"
      ],
      "execution_count": null,
      "outputs": []
    },
    {
      "cell_type": "markdown",
      "metadata": {
        "id": "RsAA7VRWzPBN"
      },
      "source": [
        "## calculate feasture importance uncertainties for RF method"
      ]
    },
    {
      "cell_type": "code",
      "metadata": {
        "id": "-xEii2LnuTPw"
      },
      "source": [
        "fistd = np.std([tree.feature_importances_ for tree in rf.estimators_],\n",
        "             axis=0)\n",
        "print(\"Random Forest feature importance\")\n",
        "for f, fi, s in zip (titanic_short.columns, rf.feature_importances_, fistd):\n",
        "  print (f, fi.round(2), \"+/-\", s.round(2))"
      ],
      "execution_count": null,
      "outputs": []
    },
    {
      "cell_type": "code",
      "metadata": {
        "id": "2dghjtoawrB0"
      },
      "source": [
        "indices = np.argsort(rf.feature_importances_)\n",
        "pl.figure()\n",
        "pl.title(\"Feature importances\")\n",
        "pl.barh(np.arange(rf.feature_importances_.shape[0]),\n",
        "        rf.feature_importances_[indices],\n",
        "       xerr=fistd[indices], align=\"center\")\n",
        "pl.xticks(range(rf.feature_importances_.shape[0]), indices)\n",
        "pl.yticks(range(rf.feature_importances_.shape[0]),\n",
        "          labels=titanic_short.columns[indices])\n",
        "pl.xlim(0, 1)\n",
        "pl.show()\n"
      ],
      "execution_count": null,
      "outputs": []
    },
    {
      "cell_type": "markdown",
      "metadata": {
        "id": "O7DzwVIHwA-C"
      },
      "source": [
        "## Is the feature importance consistent between the 2 methods?"
      ]
    },
    {
      "cell_type": "code",
      "metadata": {
        "id": "ovagHKw3fyMt"
      },
      "source": [],
      "execution_count": null,
      "outputs": []
    }
  ]
}